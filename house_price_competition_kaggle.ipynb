{
 "cells": [
  {
   "cell_type": "code",
   "execution_count": 1,
   "metadata": {},
   "outputs": [],
   "source": [
    "import pandas as pd\n",
    "import numpy as np\n",
    "import math\n",
    "from sklearn import preprocessing\n",
    "from sklearn.metrics import mean_squared_error\n",
    "from sklearn.ensemble import GradientBoostingRegressor,RandomForestRegressor\n",
    "from sklearn.datasets import make_regression\n",
    "from sklearn.model_selection import train_test_split\n",
    "from sklearn.linear_model import LinearRegression"
   ]
  },
  {
   "cell_type": "code",
   "execution_count": 2,
   "metadata": {},
   "outputs": [],
   "source": [
    "path='/home/hithesh/Downloads/House-Price/train.csv'\n",
    "numeric_cols=['LotFrontage','LotArea','MSSubClass','OverallQual','OverallCond','YearBuilt','YearRemodAdd','MasVnrArea','BsmtFinSF1','BsmtFinSF2','BsmtUnfSF','TotalBsmtSF','1stFlrSF','2ndFlrSF','LowQualFinSF','GrLivArea','BsmtFullBath','FullBath','HalfBath','BedroomAbvGr','KitchenAbvGr','TotRmsAbvGrd','Fireplaces','GarageYrBlt','GarageCars','GarageArea','WoodDeckSF','OpenPorchSF','EnclosedPorch','3SsnPorch','ScreenPorch','PoolArea','MiscVal','MoSold','YrSold','SalePrice']\n",
    "data0=pd.read_csv(path)\n",
    "data0[numeric_cols]=data0[numeric_cols].fillna(data0.mean())\n",
    "\n",
    "def square(x):\n",
    "    return x*x\n",
    "data0['FrontArea']=data0['LotFrontage'].apply(square)\n",
    "\n",
    "\n",
    "data0['TotArea']=data0['TotalBsmtSF']+data0['1stFlrSF']+data0['2ndFlrSF']+data0['PoolArea']+data0['GarageArea']\n",
    "\n",
    "data0['Bathrooms']=data0['BsmtFullBath']+data0['BsmtHalfBath']+data0['HalfBath']+data0['FullBath']\n",
    "\n",
    "\n",
    "def sqrt(x):\n",
    "    return math.sqrt(x)\n",
    "\n",
    "data0['LotLength']=data0['LotFrontage']+data0['LotArea'].apply(sqrt)\n",
    "data0['AreaAbvGrd']=data0['1stFlrSF']+data0['2ndFlrSF']\n"
   ]
  },
  {
   "cell_type": "code",
   "execution_count": 3,
   "metadata": {
    "scrolled": false
   },
   "outputs": [
    {
     "name": "stdout",
     "output_type": "stream",
     "text": [
      "[ 7  6  8  5  9  4 10  3  1  2]\n",
      "0.7909816005838047\n"
     ]
    },
    {
     "data": {
      "text/plain": [
       "0.8271525172865402"
      ]
     },
     "execution_count": 3,
     "metadata": {},
     "output_type": "execute_result"
    }
   ],
   "source": [
    "print(data0['OverallQual'].unique())\n",
    "print(data0.corr().loc['OverallQual','SalePrice'])\n",
    "ind1=[i for i in range(data0.shape[0]) if data0.loc[i,'OverallQual']==1]\n",
    "ind2=[i for i in range(data0.shape[0]) if data0.loc[i,'OverallQual']==2]\n",
    "ind3=[i for i in range(data0.shape[0]) if data0.loc[i,'OverallQual']==3]\n",
    "ind4=[i for i in range(data0.shape[0]) if data0.loc[i,'OverallQual']==4]\n",
    "ind5=[i for i in range(data0.shape[0]) if data0.loc[i,'OverallQual']==5]\n",
    "ind6=[i for i in range(data0.shape[0]) if data0.loc[i,'OverallQual']==6]\n",
    "ind7=[i for i in range(data0.shape[0]) if data0.loc[i,'OverallQual']==7]\n",
    "ind8=[i for i in range(data0.shape[0]) if data0.loc[i,'OverallQual']==8]\n",
    "ind9=[i for i in range(data0.shape[0]) if data0.loc[i,'OverallQual']==9]\n",
    "ind10=[i for i in range(data0.shape[0]) if data0.loc[i,'OverallQual']==10]\n",
    "\n",
    "n1=[]\n",
    "\n",
    "n1.append(data0.loc[ind1,'SalePrice'].mean())\n",
    "n1.append(data0.loc[ind2,'SalePrice'].mean())\n",
    "n1.append(data0.loc[ind3,'SalePrice'].mean())\n",
    "n1.append(data0.loc[ind4,'SalePrice'].mean())\n",
    "n1.append(data0.loc[ind5,'SalePrice'].mean())\n",
    "n1.append(data0.loc[ind6,'SalePrice'].mean())\n",
    "n1.append(data0.loc[ind7,'SalePrice'].mean())\n",
    "n1.append(data0.loc[ind8,'SalePrice'].mean())\n",
    "n1.append(data0.loc[ind9,'SalePrice'].mean())\n",
    "n1.append(data0.loc[ind10,'SalePrice'].mean())\n",
    "n1=pd.Series(n1)\n",
    "n1=n1.apply(lambda x: x/sum(n1))\n",
    "\n",
    "data0['OverallQual']=data0['OverallQual'].apply(lambda x: n1[x-1])\n",
    "data0['OverallQual'].head()\n",
    "data0.corr().loc['OverallQual','SalePrice']"
   ]
  },
  {
   "cell_type": "code",
   "execution_count": 4,
   "metadata": {},
   "outputs": [
    {
     "name": "stdout",
     "output_type": "stream",
     "text": [
      "0.6826392416562591\n",
      "[87985.21428571429, 144341.31346578366, 231633.51024590165, 367360.96153846156]\n"
     ]
    },
    {
     "data": {
      "text/plain": [
       "0.6909325420958343"
      ]
     },
     "execution_count": 4,
     "metadata": {},
     "output_type": "execute_result"
    }
   ],
   "source": [
    "# print(data0['ExterQual'].unique())\n",
    "\n",
    "data0['ExterQual']=data0['ExterQual'].apply(lambda x: 1 if x=='Fa' else(2 if x=='TA' else(3 if x=='Gd' else 4)))\n",
    "print(data0.corr().loc['ExterQual','SalePrice'])\n",
    "\n",
    "ind1=[i for i in range(data0.shape[0]) if data0.loc[i,'ExterQual']==1]\n",
    "ind2=[i for i in range(data0.shape[0]) if data0.loc[i,'ExterQual']==2]\n",
    "ind3=[i for i in range(data0.shape[0]) if data0.loc[i,'ExterQual']==3]\n",
    "ind4=[i for i in range(data0.shape[0]) if data0.loc[i,'ExterQual']==4]\n",
    "\n",
    "n2=[]\n",
    "\n",
    "n2.append(data0.loc[ind1,'SalePrice'].mean())\n",
    "n2.append(data0.loc[ind2,'SalePrice'].mean())\n",
    "n2.append(data0.loc[ind3,'SalePrice'].mean())\n",
    "n2.append(data0.loc[ind4,'SalePrice'].mean())\n",
    "\n",
    "print(n2)\n",
    "\n",
    "n2=pd.Series(n2)\n",
    "\n",
    "n2=n2.apply(lambda x: x/sum(n2))\n",
    "\n",
    "data0['ExterQual']=data0['ExterQual'].apply(lambda x: n2[x-1])\n",
    "data0['ExterQual'].head()\n",
    "data0.corr().loc['ExterQual','SalePrice']"
   ]
  },
  {
   "cell_type": "code",
   "execution_count": 5,
   "metadata": {},
   "outputs": [
    {
     "name": "stdout",
     "output_type": "stream",
     "text": [
      "['PConc' 'CBlock' 'BrkTil' 'Wood' 'Slab' 'Stone']\n",
      "0.5055031712897445\n",
      "[107365.625, 132291.07534246575, 149805.714511041, 165959.16666666666, 185666.66666666666, 225230.44204018547]\n"
     ]
    },
    {
     "data": {
      "text/plain": [
       "0.5063283534727454"
      ]
     },
     "execution_count": 5,
     "metadata": {},
     "output_type": "execute_result"
    }
   ],
   "source": [
    "print(data0['Foundation'].unique())\n",
    "\n",
    "data0['Foundation']=data0['Foundation'].apply(lambda x: 6 if x=='PConc' else(2 if x=='BrkTil' else(5 if x=='Wood' else (1 if x=='Slab' else (4 if x=='Stone' else 3)))))\n",
    "\n",
    "\n",
    "print(data0.corr().loc['Foundation','SalePrice'])\n",
    "\n",
    "ind1=[i for i in range(data0.shape[0]) if data0.loc[i,'Foundation']==1]\n",
    "ind2=[i for i in range(data0.shape[0]) if data0.loc[i,'Foundation']==2]\n",
    "ind3=[i for i in range(data0.shape[0]) if data0.loc[i,'Foundation']==3]\n",
    "ind4=[i for i in range(data0.shape[0]) if data0.loc[i,'Foundation']==4]\n",
    "ind5=[i for i in range(data0.shape[0]) if data0.loc[i,'Foundation']==5]\n",
    "ind6=[i for i in range(data0.shape[0]) if data0.loc[i,'Foundation']==6]\n",
    "\n",
    "\n",
    "n3=[]\n",
    "\n",
    "n3.append(data0.loc[ind1,'SalePrice'].mean())\n",
    "n3.append(data0.loc[ind2,'SalePrice'].mean())\n",
    "n3.append(data0.loc[ind3,'SalePrice'].mean())\n",
    "n3.append(data0.loc[ind4,'SalePrice'].mean())\n",
    "n3.append(data0.loc[ind5,'SalePrice'].mean())\n",
    "n3.append(data0.loc[ind6,'SalePrice'].mean())\n",
    "\n",
    "\n",
    "print(n3)\n",
    "\n",
    "n3=pd.Series(n3)\n",
    "\n",
    "n3=n3.apply(lambda x: x/sum(n3))\n",
    "\n",
    "data0['Foundation']=data0['Foundation'].apply(lambda x: n3[x-1])\n",
    "# data0['ExterQual'].head()\n",
    "data0.corr().loc['Foundation','SalePrice']"
   ]
  },
  {
   "cell_type": "code",
   "execution_count": null,
   "metadata": {},
   "outputs": [],
   "source": []
  },
  {
   "cell_type": "code",
   "execution_count": 6,
   "metadata": {},
   "outputs": [],
   "source": [
    "le = preprocessing.LabelEncoder()\n",
    "\n",
    "le.fit(data0['Neighborhood'])\n",
    "data0['Neighborhood']=le.transform(data0['Neighborhood'])\n",
    "\n",
    "le.fit(data0['BldgType'])\n",
    "data0['BldgType']=le.transform(data0['BldgType'])\n",
    "\n",
    "le.fit(data0['ExterQual'])\n",
    "data0['ExterQual']=le.transform(data0['ExterQual'])"
   ]
  },
  {
   "cell_type": "code",
   "execution_count": 7,
   "metadata": {},
   "outputs": [
    {
     "name": "stdout",
     "output_type": "stream",
     "text": [
      "Index(['Id', 'MSSubClass', 'MSZoning', 'LotFrontage', 'LotArea', 'Street',\n",
      "       'Alley', 'LotShape', 'LandContour', 'Utilities', 'LotConfig',\n",
      "       'LandSlope', 'Neighborhood', 'Condition1', 'Condition2', 'BldgType',\n",
      "       'HouseStyle', 'OverallQual', 'OverallCond', 'YearBuilt', 'YearRemodAdd',\n",
      "       'RoofStyle', 'RoofMatl', 'Exterior1st', 'Exterior2nd', 'MasVnrType',\n",
      "       'MasVnrArea', 'ExterQual', 'ExterCond', 'Foundation', 'BsmtQual',\n",
      "       'BsmtCond', 'BsmtExposure', 'BsmtFinType1', 'BsmtFinSF1',\n",
      "       'BsmtFinType2', 'BsmtFinSF2', 'BsmtUnfSF', 'TotalBsmtSF', 'Heating',\n",
      "       'HeatingQC', 'CentralAir', 'Electrical', '1stFlrSF', '2ndFlrSF',\n",
      "       'LowQualFinSF', 'GrLivArea', 'BsmtFullBath', 'BsmtHalfBath', 'FullBath',\n",
      "       'HalfBath', 'BedroomAbvGr', 'KitchenAbvGr', 'KitchenQual',\n",
      "       'TotRmsAbvGrd', 'Functional', 'Fireplaces', 'FireplaceQu', 'GarageType',\n",
      "       'GarageYrBlt', 'GarageFinish', 'GarageCars', 'GarageArea', 'GarageQual',\n",
      "       'GarageCond', 'PavedDrive', 'WoodDeckSF', 'OpenPorchSF',\n",
      "       'EnclosedPorch', '3SsnPorch', 'ScreenPorch', 'PoolArea', 'PoolQC',\n",
      "       'Fence', 'MiscFeature', 'MiscVal', 'MoSold', 'YrSold', 'SaleType',\n",
      "       'SaleCondition', 'SalePrice', 'FrontArea', 'TotArea', 'Bathrooms',\n",
      "       'LotLength', 'AreaAbvGrd'],\n",
      "      dtype='object')\n"
     ]
    },
    {
     "data": {
      "text/plain": [
       "0.2472726910589251"
      ]
     },
     "execution_count": 7,
     "metadata": {},
     "output_type": "execute_result"
    }
   ],
   "source": [
    "data=data0.copy()\n",
    "print(data.columns)\n",
    "data=data.fillna(data.median())\n",
    "data['YearBuilt']=data['YearBuilt']+data0['YearRemodAdd']\n",
    "data.corr().loc['FrontArea','SalePrice']"
   ]
  },
  {
   "cell_type": "code",
   "execution_count": 8,
   "metadata": {},
   "outputs": [
    {
     "name": "stdout",
     "output_type": "stream",
     "text": [
      "0.6826392416562592\n"
     ]
    }
   ],
   "source": [
    "def log(x):\n",
    "    return math.log(x)\n",
    "print(data0.corr().loc['ExterQual','SalePrice'])"
   ]
  },
  {
   "cell_type": "code",
   "execution_count": 9,
   "metadata": {},
   "outputs": [
    {
     "name": "stdout",
     "output_type": "stream",
     "text": [
      "Train Score: 193.44892348379565\n",
      "CV Score: 812.0822371885915\n"
     ]
    }
   ],
   "source": [
    "from sklearn.ensemble import RandomForestRegressor\n",
    "from sklearn.datasets import make_regression\n",
    "from sklearn.model_selection import train_test_split\n",
    "data=data0.copy()\n",
    "labels=data0.pop('SalePrice')\n",
    "n=10\n",
    "\n",
    "train_s=0\n",
    "s=0\n",
    "for i in range(n):\n",
    "    x_train, x_test, y_train, y_test = train_test_split(data0, labels, test_size=0.2)\n",
    "\n",
    "    best_cols=['OverallQual','TotArea','YearBuilt','Foundation','ExterQual','Bathrooms','GrLivArea','BldgType','MasVnrArea','Neighborhood','GarageArea','GarageCars']\n",
    "    X, y = x_train[best_cols],y_train\n",
    "#     regr = LinearRegression(normalize=True)\n",
    "    regr=GradientBoostingRegressor(n_estimators=300,random_state=5,min_samples_leaf=5)\n",
    "#     regr=RandomForestRegressor(min_samples_leaf=20,n_estimators=10)    \n",
    "    regr.fit(X, y)\n",
    "    X_pred = pd.Series(regr.predict(X[best_cols]))\n",
    "    test_pred = pd.Series(regr.predict(x_test[best_cols]))\n",
    "\n",
    "    train_score = mean_squared_error(X_pred,y)\n",
    "    train_s = train_s + train_score \n",
    "\n",
    "    score = mean_squared_error(test_pred,y_test)\n",
    "    s=s+score\n",
    "print('Train Score: '+str(train_s*10**-6/n))\n",
    "print('CV Score: '+ str(s*10**-6/n))"
   ]
  },
  {
   "cell_type": "code",
   "execution_count": null,
   "metadata": {},
   "outputs": [],
   "source": []
  },
  {
   "cell_type": "code",
   "execution_count": 10,
   "metadata": {},
   "outputs": [
    {
     "data": {
      "text/plain": [
       "GradientBoostingRegressor(alpha=0.9, criterion='friedman_mse', init=None,\n",
       "             learning_rate=0.1, loss='ls', max_depth=3, max_features=None,\n",
       "             max_leaf_nodes=None, min_impurity_decrease=0.0,\n",
       "             min_impurity_split=None, min_samples_leaf=5,\n",
       "             min_samples_split=2, min_weight_fraction_leaf=0.0,\n",
       "             n_estimators=300, n_iter_no_change=None, presort='auto',\n",
       "             random_state=5, subsample=1.0, tol=0.0001,\n",
       "             validation_fraction=0.1, verbose=0, warm_start=False)"
      ]
     },
     "execution_count": 10,
     "metadata": {},
     "output_type": "execute_result"
    }
   ],
   "source": [
    "X, y = data[best_cols],data['SalePrice']\n",
    "regr.fit(X, y)"
   ]
  },
  {
   "cell_type": "code",
   "execution_count": 11,
   "metadata": {},
   "outputs": [],
   "source": [
    "test=pd.read_csv('/home/hithesh/Downloads/House-Price/test.csv')\n",
    "test=test.fillna(test.mean())\n",
    "test['TotArea']=test['TotalBsmtSF']+test['1stFlrSF']+test['2ndFlrSF']+test['PoolArea']+test['GarageArea']\n",
    "test['Age']=test['YrSold']+test['YearBuilt']\n",
    "test['Bathrooms']=test['BsmtFullBath']+test['BsmtHalfBath']+test['HalfBath']+test['FullBath']\n",
    "\n",
    "\n",
    "def sqrt(x):\n",
    "    return math.sqrt(x)\n",
    "test['LotLength']=test['LotFrontage']+test['LotArea'].apply(sqrt)"
   ]
  },
  {
   "cell_type": "code",
   "execution_count": 12,
   "metadata": {},
   "outputs": [],
   "source": [
    "test['OverallQual']=test['OverallQual'].apply(lambda x: n1[x-1])\n",
    "\n",
    "test['ExterQual']=test['ExterQual'].apply(lambda x: 1 if x=='Fa' else(2 if x=='TA' else(3 if x=='Gd' else 4)))\n",
    "test['ExterQual']=test['ExterQual'].apply(lambda x: n2[x-1])\n",
    "\n",
    "test['Foundation']=test['Foundation'].apply(lambda x: 6 if x=='PConc' else(2 if x=='BrkTil' else(5 if x=='Wood' else (1 if x=='Slab' else (4 if x=='Stone' else 3)))))\n",
    "test['Foundation']=test['Foundation'].apply(lambda x: n3[x-1])"
   ]
  },
  {
   "cell_type": "code",
   "execution_count": 13,
   "metadata": {},
   "outputs": [],
   "source": [
    "le = preprocessing.LabelEncoder()\n",
    "le.fit(test['Neighborhood'])\n",
    "test['Neighborhood']=le.transform(test['Neighborhood'])\n",
    "\n",
    "le.fit(test['BldgType'])\n",
    "test['BldgType']=le.transform(test['BldgType'])\n",
    "                                   \n",
    "le.fit(test['ExterQual'])\n",
    "test['ExterQual']=le.transform(test['ExterQual'])"
   ]
  },
  {
   "cell_type": "code",
   "execution_count": 14,
   "metadata": {},
   "outputs": [
    {
     "name": "stdout",
     "output_type": "stream",
     "text": [
      "     Id      SalePrice\n",
      "0  1461  124026.277325\n",
      "1  1462  155578.582871\n",
      "2  1463  168978.043041\n",
      "3  1464  177607.316468\n",
      "4  1465  185388.348947\n"
     ]
    }
   ],
   "source": [
    "pred=regr.predict(test[best_cols])\n",
    "final_pred=pd.concat([test['Id'],pd.Series(pred,name='SalePrice')],axis=1)\n",
    "print(final_pred.head())\n",
    "final_pred.to_csv(\"/home/hithesh/Downloads/House-Price/submission2.csv\",index=False)"
   ]
  }
 ],
 "metadata": {
  "kernelspec": {
   "display_name": "Python 3",
   "language": "python",
   "name": "python3"
  },
  "language_info": {
   "codemirror_mode": {
    "name": "ipython",
    "version": 3
   },
   "file_extension": ".py",
   "mimetype": "text/x-python",
   "name": "python",
   "nbconvert_exporter": "python",
   "pygments_lexer": "ipython3",
   "version": "3.7.3"
  }
 },
 "nbformat": 4,
 "nbformat_minor": 2
}
