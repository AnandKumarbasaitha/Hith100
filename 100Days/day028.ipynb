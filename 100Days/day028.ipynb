{
 "cells": [
  {
   "cell_type": "markdown",
   "metadata": {},
   "source": [
    "<div dir=\"ltr\" style=\"text-align: left;\" trbidi=\"on\">\n",
    "<h2 style=\"text-align: left;\">\n",
    "100 Days Challenge Day 28</h2>\n",
    "<h3 style=\"text-align: left;\">\n",
    "Regularization of Deep Neural Networks</h3>\n",
    "Watched videos on Weeks 1 of Hyperparameter Tuning, Regularization and Optimization by deeplearning.ai on Youtube<br />\n",
    "<br />\n",
    "<!--more-->Videos:<br />\n",
    "<a href=\"https://www.youtube.com/watch?v=1waHlpKiNyY&amp;list=TLPQMzAxMjIwMTniVyQ8UcCqCg&amp;index=1\">Train/Dev/Test Sets (C2W1L01)</a><br />\n",
    "<a href=\"https://www.youtube.com/watch?v=SjQyLhQIXSM&amp;list=TLPQMzAxMjIwMTniVyQ8UcCqCg&amp;index=2\">Bias/Variance (C2W1L02)</a><br />\n",
    "<a href=\"https://www.youtube.com/watch?v=C1N_PDHuJ6Q&amp;list=TLPQMzAxMjIwMTniVyQ8UcCqCg&amp;index=3\">Basic Recipe for Machine Learning (C2W1L03)</a><br />\n",
    "<a href=\"https://www.youtube.com/watch?v=6g0t3Phly2M&amp;list=TLPQMzAxMjIwMTniVyQ8UcCqCg&amp;index=4\">Regularization (C2W1L04)</a><br />\n",
    "<a href=\"https://www.youtube.com/watch?v=NyG-7nRpsW8&amp;list=TLPQMzAxMjIwMTniVyQ8UcCqCg&amp;index=5\">Why Regularization Reduces Overfitting (C2W1L05)</a><br />\n",
    "<a href=\"https://www.youtube.com/watch?v=D8PJAL-MZv8&amp;list=TLPQMzAxMjIwMTniVyQ8UcCqCg&amp;index=6\">Dropout Regularization (C2W1L06)</a><br />\n",
    "<a href=\"https://www.youtube.com/watch?v=ARq74QuavAo&amp;list=TLPQMzAxMjIwMTniVyQ8UcCqCg&amp;index=7\">Understanding Dropout (C2W1L07)</a><br />\n",
    "<a href=\"https://www.youtube.com/watch?v=BOCLq2gpcGU&amp;list=TLPQMzAxMjIwMTniVyQ8UcCqCg&amp;index=8\">Other Regularization Methods (C2W1L08)</a><br />\n",
    "<a href=\"https://www.youtube.com/watch?v=FDCfw-YqWTE&amp;list=TLPQMzAxMjIwMTniVyQ8UcCqCg&amp;index=9\">Normalizing Inputs (C2W1L09)</a></div>\n"
   ]
  }
 ],
 "metadata": {
  "kernelspec": {
   "display_name": "Python 3",
   "language": "python",
   "name": "python3"
  },
  "language_info": {
   "codemirror_mode": {
    "name": "ipython",
    "version": 3
   },
   "file_extension": ".py",
   "mimetype": "text/x-python",
   "name": "python",
   "nbconvert_exporter": "python",
   "pygments_lexer": "ipython3",
   "version": "3.7.6"
  }
 },
 "nbformat": 4,
 "nbformat_minor": 4
}
