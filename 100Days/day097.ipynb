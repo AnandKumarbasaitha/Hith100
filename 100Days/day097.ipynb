{
 "cells": [
  {
   "cell_type": "markdown",
   "metadata": {},
   "source": [
    "<div dir=\"ltr\" style=\"text-align: left;\" trbidi=\"on\">\n",
    "<h2 style=\"text-align: left;\">\n",
    "100 Days of ML Day 97</h2>\n",
    "<h2 style=\"text-align: left;\">\n",
    "<b>Named Entity Recognition, Lemmatization, NLTK Corpora</b></h2>\n",
    "Watched lectures from sentdex's NLP with Python and NLTK course on Youtube.<br />\n",
    "<br />\n",
    "Videos:<br />\n",
    "<a href=\"https://www.youtube.com/watch?v=LFXsG7fueyk&amp;list=PLQVvvaa0QuDf2JswnfiGkliBInZnIC4HL&amp;index=7\">Named Entity Recognition - Natural Language Processing With Python and NLTK p.7</a><br />\n",
    "<a href=\"https://www.youtube.com/watch?v=uoHVztKY6S4&amp;list=PLQVvvaa0QuDf2JswnfiGkliBInZnIC4HL&amp;index=8\">Lemmatizing - Natural Language Processing With Python and NLTK p.8</a><br />\n",
    "<a href=\"https://www.youtube.com/watch?v=TKAXDqoG2dc&amp;list=PLQVvvaa0QuDf2JswnfiGkliBInZnIC4HL&amp;index=9\">NLTK Corpora - Natural Language Processing With Python and NLTK p.9</a></div>\n"
   ]
  }
 ],
 "metadata": {
  "kernelspec": {
   "display_name": "Python 3",
   "language": "python",
   "name": "python3"
  },
  "language_info": {
   "codemirror_mode": {
    "name": "ipython",
    "version": 3
   },
   "file_extension": ".py",
   "mimetype": "text/x-python",
   "name": "python",
   "nbconvert_exporter": "python",
   "pygments_lexer": "ipython3",
   "version": "3.7.3"
  }
 },
 "nbformat": 4,
 "nbformat_minor": 2
}
