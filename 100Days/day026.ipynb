{
 "cells": [
  {
   "cell_type": "markdown",
   "metadata": {},
   "source": [
    "<div dir=\"ltr\" style=\"text-align: left;\" trbidi=\"on\">\n",
    "<h2 style=\"text-align: left;\">\n",
    "100 Days Challenge Day 26</h2>\n",
    "<h4 style=\"text-align: left;\">\n",
    "Deep Neural Network Implementation</h4>\n",
    "<!--more--><br />\n",
    "<br />\n",
    "Tried implementing a deep neural network with 4 layers to approximate complex functions added with normally distributed noise.<br />\n",
    "<br />\n",
    "Didn't quite get the expected results. Will try to get it right soon.<br />\n",
    "<br />\n",
    "<br /></div>\n"
   ]
  }
 ],
 "metadata": {
  "kernelspec": {
   "display_name": "Python 3",
   "language": "python",
   "name": "python3"
  },
  "language_info": {
   "codemirror_mode": {
    "name": "ipython",
    "version": 3
   },
   "file_extension": ".py",
   "mimetype": "text/x-python",
   "name": "python",
   "nbconvert_exporter": "python",
   "pygments_lexer": "ipython3",
   "version": "3.7.6"
  }
 },
 "nbformat": 4,
 "nbformat_minor": 4
}
