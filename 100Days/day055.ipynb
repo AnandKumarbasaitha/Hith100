{
 "cells": [
  {
   "cell_type": "markdown",
   "metadata": {},
   "source": [
    "<div dir=\"ltr\" style=\"text-align: left;\" trbidi=\"on\">\n",
    "<h2 style=\"text-align: left;\">\n",
    "100 Days of ML Day 55</h2>\n",
    "<h3 style=\"text-align: left;\">\n",
    "Layers in CNN</h3>\n",
    "Watched lectures from Week 1 of Convolutional Neural Networks Course on Youtube.<br />\n",
    "<br />\n",
    "Videos:<br />\n",
    "<a href=\"https://www.youtube.com/watch?v=ArPaAX_PhIs&amp;list=PLkDaE6sCZn6Gl29AoE31iwdVwSG-KnDzF&amp;index=1\">C4W1L06 Convolutions Over Volumes</a><br />\n",
    "<a href=\"https://www.youtube.com/watch?v=jPOAS7uCODQ&amp;list=PLkDaE6sCZn6Gl29AoE31iwdVwSG-KnDzF&amp;index=7\">C4W1L07 One Layer of a Convolutional Net</a><br />\n",
    "<a href=\"https://www.youtube.com/watch?v=3PyJA9AfwSk&amp;list=PLkDaE6sCZn6Gl29AoE31iwdVwSG-KnDzF&amp;index=8\">C4W1L08 Simple Convolutional Network Example</a><br />\n",
    "<a href=\"https://www.youtube.com/watch?v=8oOgPUO-TBY&amp;list=PLkDaE6sCZn6Gl29AoE31iwdVwSG-KnDzF&amp;index=9\">C4W1L09 Pooling Layers</a><br />\n",
    "<a href=\"https://www.youtube.com/watch?v=bXJx7y51cl0&amp;list=PLkDaE6sCZn6Gl29AoE31iwdVwSG-KnDzF&amp;index=10\">C4W1L10 CNN Example</a><br />\n",
    "<a href=\"https://www.youtube.com/watch?v=ay3zYUeuyhU&amp;list=PLkDaE6sCZn6Gl29AoE31iwdVwSG-KnDzF&amp;index=11\">C4W1L11 Why Convolutions</a></div>\n"
   ]
  }
 ],
 "metadata": {
  "kernelspec": {
   "display_name": "Python 3",
   "language": "python",
   "name": "python3"
  },
  "language_info": {
   "codemirror_mode": {
    "name": "ipython",
    "version": 3
   },
   "file_extension": ".py",
   "mimetype": "text/x-python",
   "name": "python",
   "nbconvert_exporter": "python",
   "pygments_lexer": "ipython3",
   "version": "3.7.3"
  }
 },
 "nbformat": 4,
 "nbformat_minor": 2
}
