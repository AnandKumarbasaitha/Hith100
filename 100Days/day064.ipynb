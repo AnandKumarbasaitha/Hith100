{
  "nbformat": 4,
  "nbformat_minor": 0,
  "metadata": {
    "colab": {
      "name": "day064",
      "provenance": [],
      "collapsed_sections": []
    },
    "kernelspec": {
      "name": "python3",
      "display_name": "Python 3"
    }
  },
  "cells": [
    {
      "cell_type": "markdown",
      "metadata": {
        "id": "Y1zPU9n6_Fek",
        "colab_type": "text"
      },
      "source": [
        "**100 Days of ML Day 64**\n",
        "\n",
        "**Getting Started with Tensorflow**\n",
        "\n",
        "Completed Lessons 1 and 2 of Intro to Tensorflow for Deep Learning Course on Udacity and coded a simple Neural Network for a Linear Function using tensorflow\n",
        "\n",
        " \n",
        "\n",
        "Google Colab:\n",
        "\n",
        "https://drive.google.com/open?id=1JIAvXpxTZgq5kmYhy15KoKp68S4UzCEc\n",
        "\n",
        " \n",
        "\n",
        "Github:\n",
        "\n",
        "https://github.com/hithesh111/Hith100/blob/master/100Days/day064.ipynb"
      ]
    },
    {
      "cell_type": "code",
      "metadata": {
        "id": "WC1Jz2Jn1TUA",
        "colab_type": "code",
        "outputId": "8821bf11-adf1-4a61-8411-6122b8a6e517",
        "colab": {
          "base_uri": "https://localhost:8080/",
          "height": 64
        }
      },
      "source": [
        "import tensorflow as tf\n",
        "import numpy as np"
      ],
      "execution_count": 1,
      "outputs": [
        {
          "output_type": "display_data",
          "data": {
            "text/html": [
              "<p style=\"color: red;\">\n",
              "The default version of TensorFlow in Colab will soon switch to TensorFlow 2.x.<br>\n",
              "We recommend you <a href=\"https://www.tensorflow.org/guide/migrate\" target=\"_blank\">upgrade</a> now \n",
              "or ensure your notebook will continue to use TensorFlow 1.x via the <code>%tensorflow_version 1.x</code> magic:\n",
              "<a href=\"https://colab.research.google.com/notebooks/tensorflow_version.ipynb\" target=\"_blank\">more info</a>.</p>\n"
            ],
            "text/plain": [
              "<IPython.core.display.HTML object>"
            ]
          },
          "metadata": {
            "tags": []
          }
        }
      ]
    },
    {
      "cell_type": "code",
      "metadata": {
        "id": "IpCDI8Wx2ms3",
        "colab_type": "code",
        "colab": {}
      },
      "source": [
        "X = np.random.uniform(0,100,(100,1))\n",
        "y = 2*X+1+np.random.randn(100,1)"
      ],
      "execution_count": 0,
      "outputs": []
    },
    {
      "cell_type": "code",
      "metadata": {
        "id": "3ynx8Ya93jcR",
        "colab_type": "code",
        "colab": {}
      },
      "source": [
        "l0 = tf.keras.layers.Dense(units=1,input_shape=[1])"
      ],
      "execution_count": 0,
      "outputs": []
    },
    {
      "cell_type": "code",
      "metadata": {
        "id": "sWkaHIlU3Tku",
        "colab_type": "code",
        "outputId": "6720cc5c-5f2f-4e73-85ba-b08e5f18761b",
        "colab": {
          "base_uri": "https://localhost:8080/",
          "height": 89
        }
      },
      "source": [
        "model = tf.keras.Sequential([l0])"
      ],
      "execution_count": 4,
      "outputs": [
        {
          "output_type": "stream",
          "text": [
            "WARNING:tensorflow:From /usr/local/lib/python3.6/dist-packages/tensorflow_core/python/ops/resource_variable_ops.py:1630: calling BaseResourceVariable.__init__ (from tensorflow.python.ops.resource_variable_ops) with constraint is deprecated and will be removed in a future version.\n",
            "Instructions for updating:\n",
            "If using Keras pass *_constraint arguments to layers.\n"
          ],
          "name": "stdout"
        }
      ]
    },
    {
      "cell_type": "code",
      "metadata": {
        "id": "zqWXmLQY4hZM",
        "colab_type": "code",
        "colab": {}
      },
      "source": [
        "model.compile(loss='mean_squared_error', optimizer=tf.keras.optimizers.Adam(0.1))"
      ],
      "execution_count": 0,
      "outputs": []
    },
    {
      "cell_type": "code",
      "metadata": {
        "id": "_-YK4JLD9nUD",
        "colab_type": "code",
        "outputId": "d87ac20f-d05d-4982-a700-30aad411664a",
        "colab": {
          "base_uri": "https://localhost:8080/",
          "height": 34
        }
      },
      "source": [
        "model.fit(X, y, epochs=1000, verbose=False)"
      ],
      "execution_count": 6,
      "outputs": [
        {
          "output_type": "execute_result",
          "data": {
            "text/plain": [
              "<tensorflow.python.keras.callbacks.History at 0x7efcaac29dd8>"
            ]
          },
          "metadata": {
            "tags": []
          },
          "execution_count": 6
        }
      ]
    },
    {
      "cell_type": "code",
      "metadata": {
        "id": "UNrHJOZqCN-2",
        "colab_type": "code",
        "colab": {
          "base_uri": "https://localhost:8080/",
          "height": 34
        },
        "outputId": "3f6f1234-ef81-4317-dd1f-2dc6e16774a1"
      },
      "source": [
        "model.predict([5])"
      ],
      "execution_count": 7,
      "outputs": [
        {
          "output_type": "execute_result",
          "data": {
            "text/plain": [
              "array([[11.124727]], dtype=float32)"
            ]
          },
          "metadata": {
            "tags": []
          },
          "execution_count": 7
        }
      ]
    },
    {
      "cell_type": "code",
      "metadata": {
        "id": "XOutXqzi4waW",
        "colab_type": "code",
        "outputId": "dbd080e6-1ce8-4323-ba14-7136251fc036",
        "colab": {
          "base_uri": "https://localhost:8080/",
          "height": 34
        }
      },
      "source": [
        "print(l0.get_weights())"
      ],
      "execution_count": 8,
      "outputs": [
        {
          "output_type": "stream",
          "text": [
            "[array([[1.9992104]], dtype=float32), array([1.1286757], dtype=float32)]\n"
          ],
          "name": "stdout"
        }
      ]
    }
  ]
}