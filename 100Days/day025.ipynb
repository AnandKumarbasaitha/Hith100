{
 "cells": [
  {
   "cell_type": "markdown",
   "metadata": {},
   "source": [
    "<div dir=\"ltr\" style=\"text-align: left;\" trbidi=\"on\">\n",
    "<h2 style=\"text-align: left;\">\n",
    "100 Days Challenge Day 25</h2>\n",
    "<h3 style=\"text-align: left;\">\n",
    "Neural Networks and Deep Learning W4</h3>\n",
    "Watched videos of Weeks 4 of Neural Networks and Deep Learning by deeplearning.ai on Youtube<br />\n",
    "<br />\n",
    "<br />\n",
    "<!--more-->Videos:<br />\n",
    "<br />\n",
    "<a href=\"https://www.youtube.com/watch?v=2gw5tE2ziqA&amp;list=PLkDaE6sCZn6Ec-XTbcX1uRg2_u4xOEky0&amp;index=36\">Deep L-Layer Neural Network (C1W4L01)</a><br />\n",
    "<a href=\"https://www.youtube.com/watch?v=qzPQ8cEsVK8&amp;list=PLkDaE6sCZn6Ec-XTbcX1uRg2_u4xOEky0&amp;index=37\">Forward and Backward Propagation (C1W4L02)</a><br />\n",
    "<a href=\"https://www.youtube.com/watch?v=a8i2eJin0lY&amp;list=PLkDaE6sCZn6Ec-XTbcX1uRg2_u4xOEky0&amp;index=38\">Forward Propagation in a Deep Network (C1W4L03)</a><br />\n",
    "<a href=\"https://www.youtube.com/watch?v=yslMo3hSbqE&amp;list=PLkDaE6sCZn6Ec-XTbcX1uRg2_u4xOEky0&amp;index=39\">Getting Matrix Dimensions Right (C1W4L04)</a><br />\n",
    "<a href=\"https://www.youtube.com/watch?v=5dWp1mw_XNk&amp;list=PLkDaE6sCZn6Ec-XTbcX1uRg2_u4xOEky0&amp;index=40\">Why Deep Representations? (C1W4L05)</a><br />\n",
    "<a href=\"https://www.youtube.com/watch?v=B7-iPbddhsw&amp;list=PLkDaE6sCZn6Ec-XTbcX1uRg2_u4xOEky0&amp;index=41\">Building Blocks of a Deep Neural Network (C1W4L06)</a><br />\n",
    "<a href=\"https://www.youtube.com/watch?v=VTE2KlfoO3Q&amp;list=PLkDaE6sCZn6Ec-XTbcX1uRg2_u4xOEky0&amp;index=42\">Parameters vs Hyperparameters (C1W4L07)</a><br />\n",
    "<a href=\"https://www.youtube.com/watch?v=2zgon7XfN4I&amp;list=PLkDaE6sCZn6Ec-XTbcX1uRg2_u4xOEky0&amp;index=43\">What does this have to do with the brain? (C1W4L08)</a></div>\n"
   ]
  }
 ],
 "metadata": {
  "kernelspec": {
   "display_name": "Python 3",
   "language": "python",
   "name": "python3"
  },
  "language_info": {
   "codemirror_mode": {
    "name": "ipython",
    "version": 3
   },
   "file_extension": ".py",
   "mimetype": "text/x-python",
   "name": "python",
   "nbconvert_exporter": "python",
   "pygments_lexer": "ipython3",
   "version": "3.7.6"
  }
 },
 "nbformat": 4,
 "nbformat_minor": 4
}
