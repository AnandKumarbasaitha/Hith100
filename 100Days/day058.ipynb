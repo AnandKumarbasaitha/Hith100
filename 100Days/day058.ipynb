{
 "cells": [
  {
   "cell_type": "markdown",
   "metadata": {},
   "source": [
    "<div dir=\"ltr\" style=\"text-align: left;\" trbidi=\"on\">\n",
    "<h2 style=\"text-align: left;\">\n",
    "100 Days of ML Day 58</h2>\n",
    "<h3 style=\"text-align: left;\">\n",
    "Object Localization and Landmark Detection</h3>\n",
    "Watched lectures from Week 3 of Convolutional Neural Networks Course on Youtube.<br />\n",
    "<br />\n",
    "Videos:<br />\n",
    "<a href=\"https://www.youtube.com/watch?v=GSwYGkTfOKk&amp;list=PLkDaE6sCZn6Gl29AoE31iwdVwSG-KnDzF&amp;index=23\">C4W3L01 Object Localization</a><br />\n",
    "<a href=\"https://www.youtube.com/watch?v=rRB9iymNy1w&amp;list=PLkDaE6sCZn6Gl29AoE31iwdVwSG-KnDzF&amp;index=24\">C4W3L02 Landmark Detection</a><br />\n",
    "<a href=\"https://www.youtube.com/watch?v=5e5pjeojznk&amp;list=PLkDaE6sCZn6Gl29AoE31iwdVwSG-KnDzF&amp;index=26\">C4W3L03 Object Detection</a><br />\n",
    "<a href=\"https://www.youtube.com/watch?v=XdsmlBGOK-k&amp;list=PLkDaE6sCZn6Gl29AoE31iwdVwSG-KnDzF&amp;index=25\">C4W3L04 Convolutional Implementation Sliding Windows</a></div>\n"
   ]
  }
 ],
 "metadata": {
  "kernelspec": {
   "display_name": "Python 3",
   "language": "python",
   "name": "python3"
  },
  "language_info": {
   "codemirror_mode": {
    "name": "ipython",
    "version": 3
   },
   "file_extension": ".py",
   "mimetype": "text/x-python",
   "name": "python",
   "nbconvert_exporter": "python",
   "pygments_lexer": "ipython3",
   "version": "3.7.3"
  }
 },
 "nbformat": 4,
 "nbformat_minor": 2
}
