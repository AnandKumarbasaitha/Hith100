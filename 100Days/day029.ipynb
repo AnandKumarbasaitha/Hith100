{
 "cells": [
  {
   "cell_type": "markdown",
   "metadata": {},
   "source": [
    "<div dir=\"ltr\" style=\"text-align: left;\" trbidi=\"on\">\n",
    "<h2 style=\"text-align: left;\">\n",
    "100 Days Challenge Day 29</h2>\n",
    "<h3 style=\"text-align: left;\">\n",
    "Exploding weights and Gradient Checking</h3>\n",
    "Watched remaining videos of Weeks 1 of Hyperparameter Tuning, Regularization and Optimization by deeplearning.ai on Youtube<br />\n",
    "<br />\n",
    "Videos:<br />\n",
    "<a href=\"https://www.youtube.com/watch?v=qhXZsFVxGKo&amp;list=PLkDaE6sCZn6Hn0vK8co82zjQtt3T2Nkqc&amp;index=10\">Vanishing/Exploding Gradients (C2W1L10)</a><br />\n",
    "<a href=\"https://www.youtube.com/watch?v=s2coXdufOzE&amp;list=PLkDaE6sCZn6Hn0vK8co82zjQtt3T2Nkqc&amp;index=11\">Weight Initialization in a Deep Network (C2W1L11)</a><br />\n",
    "<a href=\"https://www.youtube.com/watch?v=y1xoI7mBtOc&amp;list=PLkDaE6sCZn6Hn0vK8co82zjQtt3T2Nkqc&amp;index=12\">Numerical Approximations of Gradients (C2W1L12)</a><br />\n",
    "<a href=\"https://www.youtube.com/watch?v=QrzApibhohY&amp;list=PLkDaE6sCZn6Hn0vK8co82zjQtt3T2Nkqc&amp;index=13\">Gradient Checking (C2W1L13)</a><br />\n",
    "<a href=\"https://www.youtube.com/watch?v=4Ct3Yujl1dk&amp;list=PLkDaE6sCZn6Hn0vK8co82zjQtt3T2Nkqc&amp;index=14\">Gradient Checking Implementation Notes (C2W1L14)</a><br />\n",
    "<br /></div>\n"
   ]
  }
 ],
 "metadata": {
  "kernelspec": {
   "display_name": "Python 3",
   "language": "python",
   "name": "python3"
  },
  "language_info": {
   "codemirror_mode": {
    "name": "ipython",
    "version": 3
   },
   "file_extension": ".py",
   "mimetype": "text/x-python",
   "name": "python",
   "nbconvert_exporter": "python",
   "pygments_lexer": "ipython3",
   "version": "3.7.6"
  }
 },
 "nbformat": 4,
 "nbformat_minor": 4
}
