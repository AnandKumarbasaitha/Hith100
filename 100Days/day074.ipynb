{
 "cells": [
  {
   "cell_type": "markdown",
   "metadata": {},
   "source": [
    "<div dir=\"ltr\" style=\"text-align: left;\" trbidi=\"on\">\n",
    "<h2 style=\"text-align: left;\">\n",
    "100 Days of ML Day 74</h2>\n",
    "<h3 style=\"text-align: left;\">\n",
    "Regular Expressions, Tokenization and Stemming</h3>\n",
    "Started learning NLP from Dan Jurafsky's NLP Course on Youtube<br />\n",
    "<br />\n",
    "Videos:<br />\n",
    "<a href=\"https://www.youtube.com/watch?v=-XRJL2R0SCg&amp;list=PLQiyVNMpDLKnZYBTUOlSI9mi9wAErFtFm&amp;index=7\">1 1 Course Introduction</a><br />\n",
    "<a href=\"https://www.youtube.com/watch?v=-XRJL2R0SCg&amp;list=PLQiyVNMpDLKnZYBTUOlSI9mi9wAErFtFm&amp;index=7\">2 1 Regular Expressions</a><br />\n",
    "<a href=\"https://www.youtube.com/watch?v=-XRJL2R0SCg&amp;list=PLQiyVNMpDLKnZYBTUOlSI9mi9wAErFtFm&amp;index=7\">2 2 Regular Expressions in Practical NLP</a><br />\n",
    "<a href=\"https://www.youtube.com/watch?v=-XRJL2R0SCg&amp;list=PLQiyVNMpDLKnZYBTUOlSI9mi9wAErFtFm&amp;index=7\">2 3 Word Tokenization</a><br />\n",
    "<a href=\"https://www.youtube.com/watch?v=-XRJL2R0SCg&amp;list=PLQiyVNMpDLKnZYBTUOlSI9mi9wAErFtFm&amp;index=7\">2 4 Word Normalization and Stemming</a><br />\n",
    "<a href=\"https://www.youtube.com/watch?v=-XRJL2R0SCg&amp;list=PLQiyVNMpDLKnZYBTUOlSI9mi9wAErFtFm&amp;index=7\">2 5 Sentence Segmentation</a></div>\n"
   ]
  }
 ],
 "metadata": {
  "kernelspec": {
   "display_name": "Python 3",
   "language": "python",
   "name": "python3"
  },
  "language_info": {
   "codemirror_mode": {
    "name": "ipython",
    "version": 3
   },
   "file_extension": ".py",
   "mimetype": "text/x-python",
   "name": "python",
   "nbconvert_exporter": "python",
   "pygments_lexer": "ipython3",
   "version": "3.7.3"
  }
 },
 "nbformat": 4,
 "nbformat_minor": 2
}
