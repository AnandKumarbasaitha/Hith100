{
 "cells": [
  {
   "cell_type": "markdown",
   "metadata": {},
   "source": [
    "<div dir=\"ltr\" style=\"text-align: left;\" trbidi=\"on\">\n",
    "<h2 style=\"text-align: left;\">\n",
    "100 Days Challenge Day 22</h2>\n",
    "<h3 style=\"text-align: left;\">\n",
    "Neural Networks and Deep Learning W1&nbsp; </h3>\n",
    "Watched videos of Week 1 of Neural Networks and Deep Learning by deeplearning.ai on Youtube<br />\n",
    "<br />\n",
    "<!--more-->Videos:<br />\n",
    "<a href=\"https://www.youtube.com/watch?v=CS4cs9xVecg&amp;list=PLkDaE6sCZn6Ec-XTbcX1uRg2_u4xOEky0&amp;index=1\">Welcome (C1W1L01)</a><br />\n",
    "<a href=\"https://www.youtube.com/watch?v=n1l-9lIMW7E&amp;list=PLkDaE6sCZn6Ec-XTbcX1uRg2_u4xOEky0&amp;index=2\">What is a Neural Network? (C1W1L02)</a><br />\n",
    "<a href=\"https://www.youtube.com/watch?v=BYGpKPY9pO0&amp;list=PLkDaE6sCZn6Ec-XTbcX1uRg2_u4xOEky0&amp;index=3\">Supervised Learning with a Neural Network (C1W1L03)</a><br />\n",
    "<a href=\"https://www.youtube.com/watch?v=xflCLdJh0n0&amp;list=PLkDaE6sCZn6Ec-XTbcX1uRg2_u4xOEky0&amp;index=4\">Why is deep learning taking off? (C1W1L04)</a></div>\n"
   ]
  }
 ],
 "metadata": {
  "kernelspec": {
   "display_name": "Python 3",
   "language": "python",
   "name": "python3"
  },
  "language_info": {
   "codemirror_mode": {
    "name": "ipython",
    "version": 3
   },
   "file_extension": ".py",
   "mimetype": "text/x-python",
   "name": "python",
   "nbconvert_exporter": "python",
   "pygments_lexer": "ipython3",
   "version": "3.7.6"
  }
 },
 "nbformat": 4,
 "nbformat_minor": 4
}
