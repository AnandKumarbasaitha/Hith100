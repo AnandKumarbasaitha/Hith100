{
 "cells": [
  {
   "cell_type": "markdown",
   "metadata": {},
   "source": [
    "<div dir=\"ltr\" style=\"text-align: left;\" trbidi=\"on\">\n",
    "<h2 style=\"text-align: left;\">\n",
    "100 Days of ML Day 56</h2>\n",
    "<h3 style=\"text-align: left;\">\n",
    "Classic CNN Architectures and ResNets</h3>\n",
    "Watched lectures from Week 2 of Convolutional Neural Networks Course on Youtube.<br />\n",
    "<br />\n",
    "Videos:<br />\n",
    "<a href=\"https://www.youtube.com/watch?v=-bvTzZCEOdM&amp;list=PLkDaE6sCZn6Gl29AoE31iwdVwSG-KnDzF&amp;index=12\">C4W2L01 Why look at case studies?</a><br />\n",
    "<a href=\"https://www.youtube.com/watch?v=dZVkygnKh1M&amp;list=PLkDaE6sCZn6Gl29AoE31iwdVwSG-KnDzF&amp;index=13\">C4W2L02 Classic Network</a><br />\n",
    "<a href=\"https://www.youtube.com/watch?v=ZILIbUvp5lk&amp;list=PLkDaE6sCZn6Gl29AoE31iwdVwSG-KnDzF&amp;index=14\">C4W2L03 Resnets</a><br />\n",
    "<a href=\"https://www.youtube.com/watch?v=RYth6EbBUqM&amp;list=PLkDaE6sCZn6Gl29AoE31iwdVwSG-KnDzF&amp;index=15\">C4W2L04 Why ResNets Work</a><br />\n",
    "<a href=\"https://www.youtube.com/watch?v=c1RBQzKsDCk&amp;list=PLkDaE6sCZn6Gl29AoE31iwdVwSG-KnDzF&amp;index=16\">C4W2L05 Network In Network</a></div>\n"
   ]
  }
 ],
 "metadata": {
  "kernelspec": {
   "display_name": "Python 3",
   "language": "python",
   "name": "python3"
  },
  "language_info": {
   "codemirror_mode": {
    "name": "ipython",
    "version": 3
   },
   "file_extension": ".py",
   "mimetype": "text/x-python",
   "name": "python",
   "nbconvert_exporter": "python",
   "pygments_lexer": "ipython3",
   "version": "3.7.3"
  }
 },
 "nbformat": 4,
 "nbformat_minor": 2
}
