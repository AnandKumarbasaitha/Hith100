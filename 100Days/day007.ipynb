{
 "cells": [
  {
   "cell_type": "markdown",
   "metadata": {},
   "source": [
    "<div dir=\"ltr\" style=\"text-align: left;\" trbidi=\"on\">\n",
    "<h2 style=\"text-align: left;\">\n",
    "100 Days Challenge - Day 7.</h2>\n",
    "<h3 style=\"text-align: left;\">\n",
    "Anomaly Detection (Credit Card Fraud Project)</h3>\n",
    "<div class=\"separator\" style=\"clear: both; text-align: center;\">\n",
    "<a href=\"https://1.bp.blogspot.com/-lI__eF1upG0/Xe1tLMicyxI/AAAAAAAATPI/qnI0txo0o5sIQikAluw5qwLXXRe2GadRQCLcBGAsYHQ/s1600/Credit-card-fraud-top.jpg\" style=\"margin-left: 1em; margin-right: 1em;\"><img border=\"0\" data-original-height=\"491\" data-original-width=\"860\" height=\"182\" src=\"https://1.bp.blogspot.com/-lI__eF1upG0/Xe1tLMicyxI/AAAAAAAATPI/qnI0txo0o5sIQikAluw5qwLXXRe2GadRQCLcBGAsYHQ/s320/Credit-card-fraud-top.jpg\" width=\"320\" /></a></div>\n",
    "Completed the Credit Card Fraud Detection Project using Anomaly Detection algorithm.<br />\n",
    "<!--more--><div style=\"text-align: left;\">\n",
    "<br /></div>\n",
    "<div style=\"text-align: left;\">\n",
    "<br /></div>\n",
    "<b>Project</b>: Found out features which have the highest \n",
    "covariances with the fraud/not fraud column among a total of 30 \n",
    "columns. Trained the model using normal probability distribution assumptions on 60% of rows classified as non-fraud, evaluated the algorithm and tuned the decision boundary parameter for the probability (epsilon) based on highest F1-score on the cross validation set (20% of rows classified as non-fraud and 50% of rows classified as fraud), used this model to predict on the test (remaining 20% of rows classified as non-fraud and 50% of rows classified as fraud)<br />\n",
    "<br />\n",
    "<b>Results</b>:<br />\n",
    "&nbsp;Out of 57109 transactions (99.57% non-fraud and 0.43% fraud) in the test set, 246&nbsp; were fraud transactions and the algorithm detected 124 of them restricting false positives to 41.<br />\n",
    "<br />\n",
    "In other words, 50.4% of fraud transactions were detected and only 0.07% of non-fraud transactions were flagged wrong.<br />\n",
    "<b><br /></b>\n",
    "<b>Jupyter Notebook file: </b><a href=\"https://github.com/hithesh111/Hith100/blob/master/creditcardfraud.ipynb\">https://github.com/hithesh111/Hith100/blob/master/creditcardfraud.ipynb</a><b><br /></b><br />\n",
    "<br />\n",
    "<div style=\"text-align: left;\">\n",
    "<b>Dataset</b>: <a href=\"https://www.kaggle.com/mlg-ulb/creditcardfraud\">https://www.kaggle.com/mlg-ulb/creditcardfraud</a></div>\n",
    "<div style=\"text-align: left;\">\n",
    "<br /></div>\n",
    "</div>\n"
   ]
  }
 ],
 "metadata": {
  "kernelspec": {
   "display_name": "Python 3",
   "language": "python",
   "name": "python3"
  },
  "language_info": {
   "codemirror_mode": {
    "name": "ipython",
    "version": 3
   },
   "file_extension": ".py",
   "mimetype": "text/x-python",
   "name": "python",
   "nbconvert_exporter": "python",
   "pygments_lexer": "ipython3",
   "version": "3.7.6"
  }
 },
 "nbformat": 4,
 "nbformat_minor": 4
}
