{
 "cells": [
  {
   "cell_type": "markdown",
   "metadata": {},
   "source": [
    "<div dir=\"ltr\" style=\"text-align: left;\" trbidi=\"on\">\n",
    "<h2>\n",
    "100 Days of ML Day 71</h2>\n",
    "<h2>\n",
    "Image Augmentation and Classification Exercise</h2>\n",
    "<div>\n",
    "Did Exercise of Lesson 5 of Intro to Tensorflow for Deep Learning Course on \n",
    "Udacity which is to classify flower images into 5 types.</div>\n",
    "<br />\n",
    "Colab:<br />\n",
    "<a href=\"https://colab.research.google.com/drive/1KXWTKqERjbf58FdPlu4YDRhPJXk64XQz\">https://colab.research.google.com/drive/1KXWTKqERjbf58FdPlu4YDRhPJXk64XQz</a><br />\n",
    "<br />\n",
    "Github: <br />\n",
    "<a href=\"https://github.com/hithesh111/Hith100/blob/master/100Days/day071.ipynb\">https://github.com/hithesh111/Hith100/blob/master/100Days/day071.ipynb</a></div>\n"
   ]
  }
 ],
 "metadata": {
  "kernelspec": {
   "display_name": "Python 3",
   "language": "python",
   "name": "python3"
  },
  "language_info": {
   "codemirror_mode": {
    "name": "ipython",
    "version": 3
   },
   "file_extension": ".py",
   "mimetype": "text/x-python",
   "name": "python",
   "nbconvert_exporter": "python",
   "pygments_lexer": "ipython3",
   "version": "3.7.3"
  }
 },
 "nbformat": 4,
 "nbformat_minor": 2
}
