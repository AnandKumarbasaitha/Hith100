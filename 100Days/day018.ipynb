{
 "cells": [
  {
   "cell_type": "markdown",
   "metadata": {},
   "source": [
    "<div dir=\"ltr\" style=\"text-align: left;\" trbidi=\"on\">\n",
    "<h2 style=\"text-align: left;\">\n",
    "100 Days Challenge Day 18</h2>\n",
    "<h3 style=\"text-align: left;\">\n",
    "Kaggle House Price Prediction Competition Part 4 (Summary)</h3>\n",
    "<div class=\"separator\" style=\"clear: both; text-align: center;\">\n",
    "<a href=\"https://1.bp.blogspot.com/-diOdVWfM-Wg/Xfo6-vFg8cI/AAAAAAAATWQ/YvRDYN7AJkUH5IEKvvtLrHyZ-5k_98e7QCLcBGAsYHQ/s1600/thumb76_76.png\" style=\"margin-left: 1em; margin-right: 1em;\"><img border=\"0\" data-original-height=\"152\" data-original-width=\"152\" src=\"https://1.bp.blogspot.com/-diOdVWfM-Wg/Xfo6-vFg8cI/AAAAAAAATWQ/YvRDYN7AJkUH5IEKvvtLrHyZ-5k_98e7QCLcBGAsYHQ/s1600/thumb76_76.png\" /></a></div>\n",
    "<div style=\"text-align: left;\">\n",
    "Tried encoding various variables according to how they correlate with the SalePrice and played around with Linear Regression and GradientBoosting parameters. Made slight progress and jumped few steps on the leaderboard.</div>\n",
    "<!--more-->Through this competition, I got more used to various cleaning and preprocessing methods in pandas (especially transforming variables), Scikitlearn encoders, train-test splitter, metrics, regressors and classifiers, tuning parameters and cross-validating.<br />\n",
    "<br />\n",
    "Competition Link: <a href=\"https://www.kaggle.com/c/house-prices-advanced-regression-techniques/overview\">House Prices: Advanced Regression Techniques</a><br />\n",
    "Code: <a href=\"https://github.com/hithesh111/Hith100/blob/master/house_price_competition_kaggle.ipynb\">https://github.com/hithesh111/Hith100/blob/master/house_price_competition_kaggle.ipynb</a><br />\n",
    "<br />\n",
    "</div>\n"
   ]
  }
 ],
 "metadata": {
  "kernelspec": {
   "display_name": "Python 3",
   "language": "python",
   "name": "python3"
  },
  "language_info": {
   "codemirror_mode": {
    "name": "ipython",
    "version": 3
   },
   "file_extension": ".py",
   "mimetype": "text/x-python",
   "name": "python",
   "nbconvert_exporter": "python",
   "pygments_lexer": "ipython3",
   "version": "3.7.6"
  }
 },
 "nbformat": 4,
 "nbformat_minor": 4
}
