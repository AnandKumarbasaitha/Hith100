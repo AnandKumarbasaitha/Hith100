{
 "cells": [
  {
   "cell_type": "markdown",
   "metadata": {},
   "source": [
    "<div dir=\"ltr\" style=\"text-align: left;\" trbidi=\"on\">\n",
    "<h2 style=\"text-align: left;\">\n",
    "100 Days of ML Day 94</h2>\n",
    "<h2 style=\"text-align: left;\">\n",
    "CKY Parsing</h2>\n",
    "Section 15 of Dan Jurafsky's NLP Course on Youtube<br />\n",
    "<br />\n",
    "Videos:<br />\n",
    "<a href=\"https://www.youtube.com/watch?v=CFEGKVjEH1Q&amp;list=PLQiyVNMpDLKnZYBTUOlSI9mi9wAErFtFm&amp;index=64\">15 3 CKY Parsing</a></div>\n"
   ]
  }
 ],
 "metadata": {
  "kernelspec": {
   "display_name": "Python 3",
   "language": "python",
   "name": "python3"
  },
  "language_info": {
   "codemirror_mode": {
    "name": "ipython",
    "version": 3
   },
   "file_extension": ".py",
   "mimetype": "text/x-python",
   "name": "python",
   "nbconvert_exporter": "python",
   "pygments_lexer": "ipython3",
   "version": "3.7.3"
  }
 },
 "nbformat": 4,
 "nbformat_minor": 2
}
