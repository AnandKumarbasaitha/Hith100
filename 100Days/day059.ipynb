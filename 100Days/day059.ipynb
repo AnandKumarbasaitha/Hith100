{
 "cells": [
  {
   "cell_type": "markdown",
   "metadata": {},
   "source": [
    "<div dir=\"ltr\" style=\"text-align: left;\" trbidi=\"on\">\n",
    "<h2 style=\"text-align: left;\">\n",
    "100 Days of ML Day 59</h2>\n",
    "<h3 style=\"text-align: left;\">\n",
    "YOLO Algorithm</h3>\n",
    "Watched lectures from Week 3 of Convolutional Neural Networks Course on Youtube.<br />\n",
    "<br />\n",
    "Videos:<br />\n",
    "<a href=\"https://www.youtube.com/watch?v=ANIzQ5G-XPE&amp;list=PLkDaE6sCZn6Gl29AoE31iwdVwSG-KnDzF&amp;index=27\">C4W3L06 Intersection Over Union</a><br />\n",
    "<a href=\"https://www.youtube.com/watch?v=VAo84c1hQX8&amp;list=PLkDaE6sCZn6Gl29AoE31iwdVwSG-KnDzF&amp;index=29\">C4W3L07 Nonmax Suppression</a><br />\n",
    "<a href=\"https://www.youtube.com/watch?v=RTlwl2bv0Tg&amp;list=PLkDaE6sCZn6Gl29AoE31iwdVwSG-KnDzF&amp;index=28\">C4W3L08 Anchor Boxes</a><br />\n",
    "<a href=\"https://www.youtube.com/watch?v=9s_FpMpdYW8&amp;list=PLkDaE6sCZn6Gl29AoE31iwdVwSG-KnDzF&amp;index=30\">C4W3L09 YOLO Algorithm</a><br />\n",
    "<a href=\"https://www.youtube.com/watch?v=6ykvU9WuIws&amp;list=PLkDaE6sCZn6Gl29AoE31iwdVwSG-KnDzF&amp;index=31\">C4W3L10 Region Proposals</a></div>\n"
   ]
  }
 ],
 "metadata": {
  "kernelspec": {
   "display_name": "Python 3",
   "language": "python",
   "name": "python3"
  },
  "language_info": {
   "codemirror_mode": {
    "name": "ipython",
    "version": 3
   },
   "file_extension": ".py",
   "mimetype": "text/x-python",
   "name": "python",
   "nbconvert_exporter": "python",
   "pygments_lexer": "ipython3",
   "version": "3.7.3"
  }
 },
 "nbformat": 4,
 "nbformat_minor": 2
}
