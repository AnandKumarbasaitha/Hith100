{
 "cells": [
  {
   "cell_type": "markdown",
   "metadata": {},
   "source": [
    "<div dir=\"ltr\" style=\"text-align: left;\" trbidi=\"on\">\n",
    "<h2 style=\"text-align: left;\">\n",
    "100 Days Challenge Day 16</h2>\n",
    "<h3 style=\"text-align: left;\">\n",
    "Kaggle House Price Prediction Competition&nbsp;</h3>\n",
    "<div class=\"separator\" style=\"clear: both; text-align: center;\">\n",
    "<a href=\"https://1.bp.blogspot.com/-diOdVWfM-Wg/Xfo6-vFg8cI/AAAAAAAATWQ/YvRDYN7AJkUH5IEKvvtLrHyZ-5k_98e7QCLcBGAsYHQ/s1600/thumb76_76.png\" imageanchor=\"1\" style=\"margin-left: 1em; margin-right: 1em;\"><img border=\"0\" data-original-height=\"152\" data-original-width=\"152\" src=\"https://1.bp.blogspot.com/-diOdVWfM-Wg/Xfo6-vFg8cI/AAAAAAAATWQ/YvRDYN7AJkUH5IEKvvtLrHyZ-5k_98e7QCLcBGAsYHQ/s1600/thumb76_76.png\" /></a></div>\n",
    "<h3 style=\"text-align: left;\">\n",
    "</h3>\n",
    "Found and created more meaningful features and tuned Random Forest thresholds. Best submission gave a MSE of log error value of 0.15600 and was ranked 3729/5775.<br />\n",
    "<!--more--><br />\n",
    "Competition Link: <a href=\"https://www.kaggle.com/c/house-prices-advanced-regression-techniques/overview\">House Prices: Advanced Regression Techniques</a><br />\n",
    "&nbsp; </div>\n"
   ]
  }
 ],
 "metadata": {
  "kernelspec": {
   "display_name": "Python 3",
   "language": "python",
   "name": "python3"
  },
  "language_info": {
   "codemirror_mode": {
    "name": "ipython",
    "version": 3
   },
   "file_extension": ".py",
   "mimetype": "text/x-python",
   "name": "python",
   "nbconvert_exporter": "python",
   "pygments_lexer": "ipython3",
   "version": "3.7.6"
  }
 },
 "nbformat": 4,
 "nbformat_minor": 4
}
