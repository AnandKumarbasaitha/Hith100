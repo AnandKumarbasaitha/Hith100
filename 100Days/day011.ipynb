{
 "cells": [
  {
   "cell_type": "markdown",
   "metadata": {},
   "source": [
    "<div dir=\"ltr\" style=\"text-align: left;\" trbidi=\"on\">\n",
    "<h2 style=\"text-align: left;\">\n",
    "100 Days Challenge Day 11</h2>\n",
    "<h3 style=\"text-align: left;\">\n",
    "Days 1-10 Review and Quizzes</h3>\n",
    "<div class=\"separator\" style=\"clear: both; text-align: center;\">\n",
    "</div>\n",
    "<h3 style=\"text-align: left;\">\n",
    "&nbsp;<div class=\"separator\" style=\"clear: both; text-align: center;\">\n",
    "<a href=\"https://1.bp.blogspot.com/-wkcKutsLDQA/Xfo-7PG0dqI/AAAAAAAATW8/rAwV_6N7U0sNCxqfyQwysWY72aHET8dUQCLcBGAsYHQ/s1600/letter-q8.png\" imageanchor=\"1\" style=\"margin-left: 1em; margin-right: 1em;\"><img border=\"0\" data-original-height=\"257\" data-original-width=\"196\" src=\"https://1.bp.blogspot.com/-wkcKutsLDQA/Xfo-7PG0dqI/AAAAAAAATW8/rAwV_6N7U0sNCxqfyQwysWY72aHET8dUQCLcBGAsYHQ/s1600/letter-q8.png\" /></a></div>\n",
    "</h3>\n",
    "Took quizzes on few <a href=\"https://hitheshai.blogspot.com/2019/12/100-days-challenge-days-1-10-summary.html\">topics covered in days 1-10</a>, filled gaps in understanding certain concepts, cleared some doubts and found some new and related information.<br />\n",
    "<br />\n",
    "<!--more--><br />\n",
    "New and Related Info:<br />\n",
    "<ul style=\"text-align: left;\">\n",
    "<li>Universal Approximation Theorem: <span style=\"font-family: inherit;\">A neural network with 1 hidden layer can approximate any <span class=\"hw jh\"><span class=\"ji\">continuous</span></span> function for inputs within a <span class=\"hw jh\"><span class=\"ji\">specific range</span></span></span></li>\n",
    "</ul>\n",
    "<br />\n",
    "<b>Sources:</b><br />\n",
    "<ul style=\"text-align: left;\">\n",
    "<li><a href=\"https://www.analyticsvidhya.com/blog/2017/07/30-questions-to-test-a-data-scientist-on-linear-regression\">30 Questions to test a data scientist on Linear Regression</a></li>\n",
    "<li><a href=\"https://www.analyticsvidhya.com/blog/2017/08/skilltest-logistic-regression/\">30 Questions to test your understanding of Logistic Regression</a></li>\n",
    "<li><a href=\"https://towardsdatascience.com/can-neural-networks-really-learn-any-function-65e106617fc6\">Can neural networks solve any problem?</a></li>\n",
    "</ul>\n",
    "<span id=\"goog_415242381\"></span><span id=\"goog_415242382\"></span><br /></div>\n"
   ]
  }
 ],
 "metadata": {
  "kernelspec": {
   "display_name": "Python 3",
   "language": "python",
   "name": "python3"
  },
  "language_info": {
   "codemirror_mode": {
    "name": "ipython",
    "version": 3
   },
   "file_extension": ".py",
   "mimetype": "text/x-python",
   "name": "python",
   "nbconvert_exporter": "python",
   "pygments_lexer": "ipython3",
   "version": "3.7.6"
  }
 },
 "nbformat": 4,
 "nbformat_minor": 4
}
