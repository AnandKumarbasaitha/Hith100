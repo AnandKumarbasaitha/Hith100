{
 "cells": [
  {
   "cell_type": "markdown",
   "metadata": {},
   "source": [
    "<div dir=\"ltr\" style=\"text-align: left;\" trbidi=\"on\">\n",
    "<h2 style=\"text-align: left;\">\n",
    "100 Days of ML Code Challenge Day 34</h2>\n",
    "<h3 style=\"text-align: left;\">\n",
    "Implementing Logistic Regression from Scratch</h3>\n",
    "<div style=\"text-align: left;\">\n",
    "<br />\n",
    "Trained a Logistic Regression Model using only numpy matrix operations (Labels are made on linear function of input data added to Gaussian noise). Prediction accuracy is around 97.5%</div>\n",
    "<div style=\"text-align: left;\">\n",
    "<br /></div>\n",
    "<div style=\"text-align: left;\">\n",
    "Code: <a href=\"https://github.com/hithesh111/Hith100/blob/master/logistic_regression_from_scratch.ipynb\">https://github.com/hithesh111/Hith100/blob/master/logistic_regression_from_scratch.ipynb</a></div>\n",
    "</div>\n"
   ]
  }
 ],
 "metadata": {
  "kernelspec": {
   "display_name": "Python 3",
   "language": "python",
   "name": "python3"
  },
  "language_info": {
   "codemirror_mode": {
    "name": "ipython",
    "version": 3
   },
   "file_extension": ".py",
   "mimetype": "text/x-python",
   "name": "python",
   "nbconvert_exporter": "python",
   "pygments_lexer": "ipython3",
   "version": "3.7.6"
  }
 },
 "nbformat": 4,
 "nbformat_minor": 4
}
