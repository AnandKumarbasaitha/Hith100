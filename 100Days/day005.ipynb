{
 "cells": [
  {
   "cell_type": "markdown",
   "metadata": {},
   "source": [
    "<div dir=\"ltr\" style=\"text-align: left;\" trbidi=\"on\">\n",
    "<h2 style=\"text-align: left;\">\n",
    "100 Days Challenge - Day 5. </h2>\n",
    "<h3 style=\"text-align: left;\">\n",
    "Principal Component Analysis (PCA)</h3>\n",
    "<br />\n",
    "Revised Dimensionality Reduction and Principal Component Analysis from Andrew Ng's Machine Learning course on Coursera which I had already completed a few months ago.<br />\n",
    "<!--more--><br />\n",
    "Topics covered include:<br />\n",
    "<br />\n",
    "Principal Component Analysis<br />\n",
    "<ul style=\"text-align: left;\">\n",
    "<li>PCA Algorithm (Using SVD)</li>\n",
    "<li>Reconstruction from compressed form</li>\n",
    "<li>Choosing number of principal components</li>\n",
    "<li>Practical Usage Tips</li>\n",
    "</ul>\n",
    "</div>\n"
   ]
  }
 ],
 "metadata": {
  "kernelspec": {
   "display_name": "Python 3",
   "language": "python",
   "name": "python3"
  },
  "language_info": {
   "codemirror_mode": {
    "name": "ipython",
    "version": 3
   },
   "file_extension": ".py",
   "mimetype": "text/x-python",
   "name": "python",
   "nbconvert_exporter": "python",
   "pygments_lexer": "ipython3",
   "version": "3.7.6"
  }
 },
 "nbformat": 4,
 "nbformat_minor": 4
}
