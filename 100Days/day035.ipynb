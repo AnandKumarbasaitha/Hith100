{
 "cells": [
  {
   "cell_type": "markdown",
   "metadata": {},
   "source": [
    "<div dir=\"ltr\" style=\"text-align: left;\" trbidi=\"on\">\n",
    "<h2 style=\"text-align: left;\">\n",
    "100 Days of ML Day 35</h2>\n",
    "<h3 style=\"text-align: left;\">\n",
    "Metrics and Train/Dev/Test Split</h3>\n",
    "Watched some videos from Week 1 of Structuring Machine Learning Projects Course on Youtube.<br />\n",
    "<br />\n",
    "Videos: <br />\n",
    "<a href=\"https://www.youtube.com/watch?v=dFX8k1kXhOw&amp;list=PLkDaE6sCZn6E7jZ9sN_xHwSHOdjUxUW_b&amp;index=1\">Improving Model Performance (C3W1L01)</a><br />\n",
    "<a href=\"https://www.youtube.com/watch?v=UEtvV1D6B3s&amp;list=PLkDaE6sCZn6E7jZ9sN_xHwSHOdjUxUW_b&amp;index=2\">Orthogonalization</a><br />\n",
    "<a href=\"https://www.youtube.com/watch?v=sofffBNhVSo&amp;list=PLkDaE6sCZn6E7jZ9sN_xHwSHOdjUxUW_b&amp;index=3\">Single Number Evaluation Metric (C3W1L03)</a><br />\n",
    "<a href=\"https://www.youtube.com/watch?v=BH9mlmdXzzI&amp;list=PLkDaE6sCZn6E7jZ9sN_xHwSHOdjUxUW_b&amp;index=4\">Satisficing and Optimizing Metrics (C3W1L04)</a><br />\n",
    "<a href=\"https://www.youtube.com/watch?v=M3qpIzy4MQk&amp;list=PLkDaE6sCZn6E7jZ9sN_xHwSHOdjUxUW_b&amp;index=5\">Train/Dev/Test Set Distributions (C3W1L05)</a><br />\n",
    "<a href=\"https://www.youtube.com/watch?v=_Fe5kKmFieg&amp;list=PLkDaE6sCZn6E7jZ9sN_xHwSHOdjUxUW_b&amp;index=6\">Sizeof Dev and Test Sets (C3W1L06)</a><br />\n",
    "<a href=\"https://www.youtube.com/watch?v=DFUqMbWs5d8&amp;list=PLkDaE6sCZn6E7jZ9sN_xHwSHOdjUxUW_b&amp;index=7\">When to Change Dev/Test Sets (C3W1L07)</a></div>\n"
   ]
  }
 ],
 "metadata": {
  "kernelspec": {
   "display_name": "Python 3",
   "language": "python",
   "name": "python3"
  },
  "language_info": {
   "codemirror_mode": {
    "name": "ipython",
    "version": 3
   },
   "file_extension": ".py",
   "mimetype": "text/x-python",
   "name": "python",
   "nbconvert_exporter": "python",
   "pygments_lexer": "ipython3",
   "version": "3.7.6"
  }
 },
 "nbformat": 4,
 "nbformat_minor": 4
}
