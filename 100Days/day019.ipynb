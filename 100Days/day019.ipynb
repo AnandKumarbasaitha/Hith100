{
 "cells": [
  {
   "cell_type": "markdown",
   "metadata": {},
   "source": [
    "<div dir=\"ltr\" style=\"text-align: left;\" trbidi=\"on\">\n",
    "<h2 class=\"separator\" style=\"clear: both; text-align: left;\">\n",
    "100 Days Challenge Day 19</h2>\n",
    "<h3 class=\"separator\" style=\"clear: both; text-align: left;\">\n",
    "San Francisco Crime Classification Competition Part 1</h3>\n",
    "<div class=\"separator\" style=\"clear: both; text-align: center;\">\n",
    "<a href=\"https://1.bp.blogspot.com/-NKZkkTTfo7k/Xf5mEbXg-DI/AAAAAAAATYI/u5suiSl9zOwz5Y3aGJ5jzjoJnQaf6OQuwCEwYBhgL/s1600/front_page.png\" imageanchor=\"1\" style=\"margin-left: 1em; margin-right: 1em;\"><img border=\"0\" data-original-height=\"200\" data-original-width=\"426\" height=\"150\" src=\"https://1.bp.blogspot.com/-NKZkkTTfo7k/Xf5mEbXg-DI/AAAAAAAATYI/u5suiSl9zOwz5Y3aGJ5jzjoJnQaf6OQuwCEwYBhgL/s320/front_page.png\" width=\"320\" />&nbsp;</a></div>\n",
    "<div class=\"separator\" style=\"clear: both; text-align: left;\">\n",
    "<br /></div>\n",
    "<div class=\"separator\" style=\"clear: both; text-align: left;\">\n",
    "Started working on Kaggle <a href=\"https://www.kaggle.com/c/sf-crime\">San Francisco Crime Classification</a> competition.</div>\n",
    "<h2 class=\"separator\" style=\"clear: both; text-align: left;\">\n",
    "</h2>\n",
    "<h2>\n",
    "</h2>\n",
    "</div>\n"
   ]
  }
 ],
 "metadata": {
  "kernelspec": {
   "display_name": "Python 3",
   "language": "python",
   "name": "python3"
  },
  "language_info": {
   "codemirror_mode": {
    "name": "ipython",
    "version": 3
   },
   "file_extension": ".py",
   "mimetype": "text/x-python",
   "name": "python",
   "nbconvert_exporter": "python",
   "pygments_lexer": "ipython3",
   "version": "3.7.6"
  }
 },
 "nbformat": 4,
 "nbformat_minor": 4
}
