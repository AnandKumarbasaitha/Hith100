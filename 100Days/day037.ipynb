{
 "cells": [
  {
   "cell_type": "markdown",
   "metadata": {},
   "source": [
    "<div dir=\"ltr\" style=\"text-align: left;\" trbidi=\"on\">\n",
    "<h2 style=\"text-align: left;\">\n",
    "100 Days of ML Day 37</h2>\n",
    "<h3 style=\"text-align: left;\">\n",
    "Human Level Performance and Bayes Error</h3>\n",
    "Watched remaining videos from Week 1 of Structuring Machine Learning Projects Course on Youtube.<br />\n",
    "<br />\n",
    "Videos: <br />\n",
    "<a href=\"https://www.youtube.com/watch?v=J3HHOwcrkK8&amp;list=PLkDaE6sCZn6E7jZ9sN_xHwSHOdjUxUW_b&amp;index=8\">C3W1L08 WhyHumanLevelPerformance</a><br />\n",
    "<a href=\"https://www.youtube.com/watch?v=CZf3oo0fuh0&amp;list=PLkDaE6sCZn6E7jZ9sN_xHwSHOdjUxUW_b&amp;index=9\">Avoidable Bias (C3W1L09)</a><br />\n",
    "<a href=\"https://www.youtube.com/watch?v=NUmbgp1h64E&amp;list=PLkDaE6sCZn6E7jZ9sN_xHwSHOdjUxUW_b&amp;index=10\">Understanding Human-Level Performance? (C3W1L10)</a><br />\n",
    "<a href=\"https://www.youtube.com/watch?v=dM0exrbVZ08&amp;list=PLkDaE6sCZn6E7jZ9sN_xHwSHOdjUxUW_b&amp;index=11\">Surpassing Human-Level Performance (C3W1L11)</a><br />\n",
    "<a href=\"https://www.youtube.com/watch?v=zg26t-BH7ao&amp;list=PLkDaE6sCZn6E7jZ9sN_xHwSHOdjUxUW_b&amp;index=12\">Improving Model Performance (C3W1L12)</a></div>"
   ]
  }
 ],
 "metadata": {
  "kernelspec": {
   "display_name": "Python 3",
   "language": "python",
   "name": "python3"
  },
  "language_info": {
   "codemirror_mode": {
    "name": "ipython",
    "version": 3
   },
   "file_extension": ".py",
   "mimetype": "text/x-python",
   "name": "python",
   "nbconvert_exporter": "python",
   "pygments_lexer": "ipython3",
   "version": "3.7.3"
  }
 },
 "nbformat": 4,
 "nbformat_minor": 2
}
