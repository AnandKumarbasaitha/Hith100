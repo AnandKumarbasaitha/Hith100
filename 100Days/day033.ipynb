{
 "cells": [
  {
   "cell_type": "markdown",
   "metadata": {},
   "source": [
    "<div dir=\"ltr\" style=\"text-align: left;\" trbidi=\"on\">\n",
    "<h2 style=\"text-align: left;\">\n",
    "100 Days Challenge Day 33</h2>\n",
    "<h3 style=\"text-align: left;\">\n",
    "Softmax Classifier</h3>\n",
    "Watched some videos from Week 3 of \n",
    "Hyperparameters, Regularization and Optimization Course on Youtube.<br />\n",
    "<br />\n",
    "Videos: <br />\n",
    "<a href=\"https://www.youtube.com/watch?v=ueO_Ph0Pyqk&amp;list=PLkDaE6sCZn6Hn0vK8co82zjQtt3T2Nkqc&amp;index=32\">Training Softmax Classifier (C2W3L09)</a><br />\n",
    "<a href=\"https://www.youtube.com/watch?v=fODpu1-lNTw&amp;list=PLkDaE6sCZn6Hn0vK8co82zjQtt3T2Nkqc&amp;index=33\">The Problem of Local Optima (C2W2L10)</a><br />\n",
    "<a href=\"https://www.youtube.com/watch?v=S9ElPZupUsE&amp;list=PLkDaE6sCZn6Hn0vK8co82zjQtt3T2Nkqc&amp;index=34\">TensorFlow (C2W3L11)</a></div>\n"
   ]
  }
 ],
 "metadata": {
  "kernelspec": {
   "display_name": "Python 3",
   "language": "python",
   "name": "python3"
  },
  "language_info": {
   "codemirror_mode": {
    "name": "ipython",
    "version": 3
   },
   "file_extension": ".py",
   "mimetype": "text/x-python",
   "name": "python",
   "nbconvert_exporter": "python",
   "pygments_lexer": "ipython3",
   "version": "3.7.6"
  }
 },
 "nbformat": 4,
 "nbformat_minor": 4
}
