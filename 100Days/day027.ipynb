{
 "cells": [
  {
   "cell_type": "markdown",
   "metadata": {},
   "source": [
    "<div dir=\"ltr\" style=\"text-align: left;\" trbidi=\"on\">\n",
    "<h2>\n",
    "100 Days Challenge Day 27</h2>\n",
    "<h3 style=\"text-align: left;\">\n",
    "Linear Regression and Gradient Descent from Scratch</h3>\n",
    "<div style=\"text-align: left;\">\n",
    "Implemented Linear Regression using Gradient Descent (Mini-batch) using only numpy matrix operations.</div>\n",
    "<!--more--><br />\n",
    "<div style=\"text-align: left;\">\n",
    "<br /></div>\n",
    "<div class=\"separator\" style=\"clear: both; text-align: center;\">\n",
    "<a href=\"https://1.bp.blogspot.com/-DpnSTt-TCtU/Xgi2Yi8hNrI/AAAAAAAATZc/gobNlzE201Qqt0fV7p4TGmCvqKP8MJZfACLcBGAsYHQ/s1600/image.png\" imageanchor=\"1\" style=\"margin-left: 1em; margin-right: 1em;\"><img border=\"0\" data-original-height=\"497\" data-original-width=\"592\" height=\"268\" src=\"https://1.bp.blogspot.com/-DpnSTt-TCtU/Xgi2Yi8hNrI/AAAAAAAATZc/gobNlzE201Qqt0fV7p4TGmCvqKP8MJZfACLcBGAsYHQ/s320/image.png\" width=\"320\" /></a></div>\n",
    "<div style=\"text-align: left;\">\n",
    "<br /></div>\n",
    "<div style=\"text-align: left;\">\n",
    "<br /></div>\n",
    "<div style=\"text-align: left;\">\n",
    "Code: <a href=\"https://github.com/hithesh111/Hith100/blob/master/linear_regression_gradient_descent.ipynb\">https://github.com/hithesh111/Hith100/blob/master/linear_regression_gradient_descent.ipynb</a></div>\n",
    "</div>\n"
   ]
  }
 ],
 "metadata": {
  "kernelspec": {
   "display_name": "Python 3",
   "language": "python",
   "name": "python3"
  },
  "language_info": {
   "codemirror_mode": {
    "name": "ipython",
    "version": 3
   },
   "file_extension": ".py",
   "mimetype": "text/x-python",
   "name": "python",
   "nbconvert_exporter": "python",
   "pygments_lexer": "ipython3",
   "version": "3.7.6"
  }
 },
 "nbformat": 4,
 "nbformat_minor": 4
}
