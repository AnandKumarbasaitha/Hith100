{
 "cells": [
  {
   "cell_type": "markdown",
   "metadata": {},
   "source": [
    "<div dir=\"ltr\" style=\"text-align: left;\" trbidi=\"on\">\n",
    "<h2 style=\"text-align: left;\">\n",
    "100 Days of ML Day 38</h2>\n",
    "<h3 style=\"text-align: left;\">\n",
    "Error Analysis</h3>\n",
    "Watched videos from Week 2 of Structuring Machine Learning Projects Course on Youtube.<br />\n",
    "<br />\n",
    "Videos:<br />\n",
    "<a href=\"https://www.youtube.com/watch?v=JoAxZsdw_3w&amp;list=PLkDaE6sCZn6E7jZ9sN_xHwSHOdjUxUW_b&amp;index=13\">Carrying Out Error Analysis (C3W2L01)</a><br />\n",
    "<a href=\"https://www.youtube.com/watch?v=jyjJ-RpQ5zQ&amp;list=PLkDaE6sCZn6E7jZ9sN_xHwSHOdjUxUW_b&amp;index=14\">Cleaning Up Incorrectly Labelled Data (C3W2L02)</a><br />\n",
    "<a href=\"https://www.youtube.com/watch?v=HfM8UIohGE0&amp;list=PLkDaE6sCZn6E7jZ9sN_xHwSHOdjUxUW_b&amp;index=15\">Build First System Quickly, Then Iterate (C3W2L03)</a><br />\n",
    "</div>\n"
   ]
  }
 ],
 "metadata": {
  "kernelspec": {
   "display_name": "Python 3",
   "language": "python",
   "name": "python3"
  },
  "language_info": {
   "codemirror_mode": {
    "name": "ipython",
    "version": 3
   },
   "file_extension": ".py",
   "mimetype": "text/x-python",
   "name": "python",
   "nbconvert_exporter": "python",
   "pygments_lexer": "ipython3",
   "version": "3.7.3"
  }
 },
 "nbformat": 4,
 "nbformat_minor": 2
}
