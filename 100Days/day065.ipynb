{
 "cells": [
  {
   "cell_type": "markdown",
   "metadata": {},
   "source": [
    "<div dir=\"ltr\" style=\"text-align: left;\" trbidi=\"on\">\n",
    "<h2 style=\"text-align: left;\">\n",
    "100 Days of ML Day 65</h2>\n",
    "<h2 style=\"text-align: left;\">\n",
    "Dense Networks vs CNN for Image Classification</h2>\n",
    "<div style=\"text-align: left;\">\n",
    "Completed\n",
    " Lessons 3 and 4 of Intro to Tensorflow for Deep Learning Course on \n",
    "Udacity which are about using Dense Networks and CNN for Image Classification Task.</div>\n",
    "<div style=\"text-align: left;\">\n",
    "<br />\n",
    "Lesson files (Colab notebook) :<br />\n",
    "<br /></div>\n",
    "<a href=\"https://colab.research.google.com/github/tensorflow/examples/blob/master/courses/udacity_intro_to_tensorflow_for_deep_learning/l03c01_classifying_images_of_clothing.ipynb\">https://colab.research.google.com/github/tensorflow/examples/blob/master/courses/udacity_intro_to_tensorflow_for_deep_learning/l03c01_classifying_images_of_clothing.ipynb</a><br />\n",
    "<br />\n",
    "<a href=\"https://colab.research.google.com/github/tensorflow/examples/blob/master/courses/udacity_intro_to_tensorflow_for_deep_learning/l04c01_image_classification_with_cnns.ipynb\">https://colab.research.google.com/github/tensorflow/examples/blob/master/courses/udacity_intro_to_tensorflow_for_deep_learning/l04c01_image_classification_with_cnns.ipynb</a><br />\n",
    "<br />\n",
    "Github: <br />\n",
    "<div style=\"text-align: left;\">\n",
    "<a href=\"https://github.com/hithesh111/Hith100/blob/master/100Days/day065.ipynb\">https://github.com/hithesh111/Hith100/blob/master/100Days/day065.ipynb</a> </div>\n",
    "<br />\n",
    "<br /></div>\n"
   ]
  }
 ],
 "metadata": {
  "kernelspec": {
   "display_name": "Python 3",
   "language": "python",
   "name": "python3"
  },
  "language_info": {
   "codemirror_mode": {
    "name": "ipython",
    "version": 3
   },
   "file_extension": ".py",
   "mimetype": "text/x-python",
   "name": "python",
   "nbconvert_exporter": "python",
   "pygments_lexer": "ipython3",
   "version": "3.7.3"
  }
 },
 "nbformat": 4,
 "nbformat_minor": 2
}
