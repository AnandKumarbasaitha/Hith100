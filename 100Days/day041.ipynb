{
 "cells": [
  {
   "cell_type": "code",
   "execution_count": null,
   "metadata": {},
   "outputs": [],
   "source": [
    "<div dir=\"ltr\" style=\"text-align: left;\" trbidi=\"on\">\n",
    "<h2 style=\"text-align: left;\">\n",
    "100 Days of ML Day 41</h2>\n",
    "<h3 style=\"text-align: left;\">\n",
    "Data Mismatch</h3>\n",
    "Watched videos from Week 2 of Structuring Machine Learning Projects Course on Youtube.<br />\n",
    "<br />\n",
    "Videos:<br />\n",
    "<a href=\"https://www.youtube.com/watch?v=sfk5h0yC67o&amp;list=PLkDaE6sCZn6E7jZ9sN_xHwSHOdjUxUW_b&amp;index=16\">Training and Testing on Different Distributions (C3W2L04)</a><br />\n",
    "<a href=\"https://www.youtube.com/watch?v=2BH49JG_sTs&amp;list=PLkDaE6sCZn6E7jZ9sN_xHwSHOdjUxUW_b&amp;index=17\">Bias and Variance With Mismatched Data (C3W2L05)</a><br />\n",
    "<a href=\"https://www.youtube.com/watch?v=sn_QSB7T1xo&amp;list=PLkDaE6sCZn6E7jZ9sN_xHwSHOdjUxUW_b&amp;index=18\">Addressing Data Mismatch (C3W2L06)</a></div>\n"
   ]
  }
 ],
 "metadata": {
  "kernelspec": {
   "display_name": "Python 3",
   "language": "python",
   "name": "python3"
  },
  "language_info": {
   "codemirror_mode": {
    "name": "ipython",
    "version": 3
   },
   "file_extension": ".py",
   "mimetype": "text/x-python",
   "name": "python",
   "nbconvert_exporter": "python",
   "pygments_lexer": "ipython3",
   "version": "3.7.3"
  }
 },
 "nbformat": 4,
 "nbformat_minor": 2
}
