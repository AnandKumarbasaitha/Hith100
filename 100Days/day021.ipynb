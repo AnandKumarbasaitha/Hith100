{
 "cells": [
  {
   "cell_type": "markdown",
   "metadata": {},
   "source": [
    "<div dir=\"ltr\" style=\"text-align: left;\" trbidi=\"on\">\n",
    "<h2 style=\"text-align: left;\">\n",
    "100 Days Challenge Day 21</h2>\n",
    "<h3 style=\"text-align: left;\">\n",
    "Deep Learning Prerequisites</h3>\n",
    "<div class=\"separator\" style=\"clear: both; text-align: center;\">\n",
    "<a href=\"https://1.bp.blogspot.com/-MzlitbY5J5k/XgERFl36fFI/AAAAAAAATYk/TkjpjGWv3wYMGLW76L5ZV2v-_5-3hYrYgCLcBGAsYHQ/s1600/61AWo6sS%252B-L._SX378_BO1%252C204%252C203%252C200_.jpg\" imageanchor=\"1\" style=\"margin-left: 1em; margin-right: 1em;\"><img border=\"0\" data-original-height=\"499\" data-original-width=\"380\" height=\"320\" src=\"https://1.bp.blogspot.com/-MzlitbY5J5k/XgERFl36fFI/AAAAAAAATYk/TkjpjGWv3wYMGLW76L5ZV2v-_5-3hYrYgCLcBGAsYHQ/s320/61AWo6sS%252B-L._SX378_BO1%252C204%252C203%252C200_.jpg\" width=\"243\" /></a></div>\n",
    "Skimmed through Part I (prerequisites for rest of the book) of Ian Goodfellow's Deep Learning book at <a href=\"http://deeplearningbook.org/\">deeplearningbook.org</a><br />\n",
    "<br />\n",
    "<!--more--><br />\n",
    "I'm following Siraj Raval's <a href=\"https://www.youtube.com/watch?v=_qjNH1rDLm0\">Deep Learning Curriculum.</a><br />\n",
    "<br />\n",
    "Ebook:<br />\n",
    "<ul style=\"text-align: left;\">\n",
    "<li>&nbsp; <a href=\"https://www.deeplearningbook.org/contents/part_basics.html\">Part I: Applied Math and Machine Learning Basics</a></li>\n",
    "</ul>\n",
    "<ul><ul>\n",
    "<li> <a href=\"https://www.deeplearningbook.org/contents/linear_algebra.html\">2 Linear Algebra</a></li>\n",
    "<li> <a href=\"https://www.deeplearningbook.org/contents/prob.html\">3 Probability and Information Theory</a></li>\n",
    "<li> <a href=\"https://www.deeplearningbook.org/contents/numerical.html\">4 Numerical Computation</a></li>\n",
    "<li> <a href=\"https://www.deeplearningbook.org/contents/ml.html\">5 Machine Learning Basics</a></li>\n",
    "</ul>\n",
    "</ul>\n",
    "<br />\n",
    "<br /></div>\n"
   ]
  }
 ],
 "metadata": {
  "kernelspec": {
   "display_name": "Python 3",
   "language": "python",
   "name": "python3"
  },
  "language_info": {
   "codemirror_mode": {
    "name": "ipython",
    "version": 3
   },
   "file_extension": ".py",
   "mimetype": "text/x-python",
   "name": "python",
   "nbconvert_exporter": "python",
   "pygments_lexer": "ipython3",
   "version": "3.7.6"
  }
 },
 "nbformat": 4,
 "nbformat_minor": 4
}
