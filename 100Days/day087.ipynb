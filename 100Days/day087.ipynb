{
 "cells": [
  {
   "cell_type": "markdown",
   "metadata": {},
   "source": [
    "<div dir=\"ltr\" style=\"text-align: left;\" trbidi=\"on\">\n",
    "<h2 style=\"text-align: left;\">\n",
    "100 Days of ML Day 87</h2>\n",
    "<h3 style=\"text-align: left;\">\n",
    "Relation Extraction </h3>\n",
    "Section 10 of Dan Jurafsky's NLP Course on Youtube<br />\n",
    "<br />\n",
    "Videos:<br />\n",
    "<a href=\"https://www.youtube.com/watch?v=gTFMULX7vU0&amp;list=PLQiyVNMpDLKnZYBTUOlSI9mi9wAErFtFm&amp;index=48\">10 1 What is Relation Extraction</a><br />\n",
    "<a href=\"https://www.youtube.com/watch?v=kSxfsvF9KQE&amp;list=PLQiyVNMpDLKnZYBTUOlSI9mi9wAErFtFm&amp;index=49\">10 2 Using Patterns to Extract Relations</a></div>\n"
   ]
  }
 ],
 "metadata": {
  "kernelspec": {
   "display_name": "Python 3",
   "language": "python",
   "name": "python3"
  },
  "language_info": {
   "codemirror_mode": {
    "name": "ipython",
    "version": 3
   },
   "file_extension": ".py",
   "mimetype": "text/x-python",
   "name": "python",
   "nbconvert_exporter": "python",
   "pygments_lexer": "ipython3",
   "version": "3.7.3"
  }
 },
 "nbformat": 4,
 "nbformat_minor": 2
}
