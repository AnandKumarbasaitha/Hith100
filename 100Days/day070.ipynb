{
 "cells": [
  {
   "cell_type": "markdown",
   "metadata": {},
   "source": [
    "<div dir=\"ltr\" style=\"text-align: left;\" trbidi=\"on\">\n",
    "<h2 style=\"text-align: left;\">\n",
    "100 Days of ML Day 70</h2>\n",
    "<h2 style=\"text-align: left;\">\n",
    "Methods to Prevent Overfitting</h2>\n",
    "<div style=\"text-align: left;\">\n",
    "Did 2nd half of Lessons 5 of Intro to Tensorflow for Deep Learning Course on \n",
    "Udacity.</div>\n",
    "<br />\n",
    "Github: <br />\n",
    "<div style=\"text-align: left;\">\n",
    "<a href=\"https://github.com/hithesh111/Hith100/blob/master/100Days/day070.ipynb\">https://github.com/hithesh111/Hith100/blob/master/100Days/day070.ipynb</a><br /></div>\n",
    "</div>"
   ]
  }
 ],
 "metadata": {
  "kernelspec": {
   "display_name": "Python 3",
   "language": "python",
   "name": "python3"
  },
  "language_info": {
   "codemirror_mode": {
    "name": "ipython",
    "version": 3
   },
   "file_extension": ".py",
   "mimetype": "text/x-python",
   "name": "python",
   "nbconvert_exporter": "python",
   "pygments_lexer": "ipython3",
   "version": "3.7.3"
  }
 },
 "nbformat": 4,
 "nbformat_minor": 2
}
