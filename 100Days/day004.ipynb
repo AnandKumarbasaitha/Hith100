{
 "cells": [
  {
   "cell_type": "markdown",
   "metadata": {},
   "source": [
    "<div dir=\"ltr\" style=\"text-align: left;\" trbidi=\"on\">\n",
    "<h2 style=\"text-align: left;\">\n",
    "100 Days Challenge - Day 4. </h2>\n",
    "<h3 style=\"text-align: left;\">\n",
    "K-Means Clustering (FIFA 19 Dataset Project) </h3>\n",
    "<div class=\"separator\" style=\"clear: both; text-align: center;\">\n",
    "&nbsp;<a href=\"https://1.bp.blogspot.com/-0GbfpEu3wAU/Xfccf3Kzo8I/AAAAAAAATU0/DtO22cregnsEwxM-NOoeE-vVtgEGYHoXACEwYBhgL/s1600/FlPjEr2NERU.jpg\" imageanchor=\"1\" style=\"margin-left: 1em; margin-right: 1em;\"><img border=\"0\" data-original-height=\"800\" data-original-width=\"960\" height=\"531\" src=\"https://1.bp.blogspot.com/-0GbfpEu3wAU/Xfccf3Kzo8I/AAAAAAAATU0/DtO22cregnsEwxM-NOoeE-vVtgEGYHoXACEwYBhgL/s640/FlPjEr2NERU.jpg\" width=\"640\" /></a></div>\n",
    "<br />\n",
    "<br />\n",
    "Revised Clustering from Andrew Ng's Machine Learning course on Coursera which I had already completed a few months ago and worked on FIFA 19 dataset to cluster a set of top football players (using FIFA 19 ratings like shooting, crossing, speed, acceleration, strength) into 4 classes expecting the clusters to reflect on the position, style and quality of play.<br />\n",
    "<!--more--><br />\n",
    "Topics covered include:<br />\n",
    "<br />\n",
    "K Means Clustering<br />\n",
    "<ul style=\"text-align: left;\">\n",
    "<li>Algorithm</li>\n",
    "<li>Optimization Objective</li>\n",
    "<li>Choosing number of Clusters </li>\n",
    "</ul>\n",
    "Dataset : <a href=\"https://www.kaggle.com/karangadiya/fifa19/version/1\">https://www.kaggle.com/karangadiya/fifa19/version/1 </a><br />\n",
    "<br />\n",
    "Project Link:<br />\n",
    "<a href=\"https://github.com/hithesh111/Hith100/blob/master/fifa19playerclustering.ipynb\">https://github.com/hithesh111/Hith100/blob/master/fifa19playerclustering.ipynb</a> <br />\n",
    "<br />\n",
    "<b>Results:</b><br />\n",
    "The last column shows the cluster corresponding to each player and as expected, the goalkeepers are grouped together in De Gea cluster. Ramos cluster includes all defenders and defensive midfielders. Wingers and a few strikers have found their way into the Messi cluster. De Bruyne cluster has all kinds of attacking minded players which is kind of hard to interpret.<br />\n",
    "(I will try to expand this project later on with more players, random initialisation of cluster centroids and other optimization methods.)<br />\n",
    "<br />\n",
    "<div class=\"separator\" style=\"clear: both; text-align: center;\">\n",
    "<a href=\"https://1.bp.blogspot.com/-3_LY6YKpumE/Xeq6uFEJwBI/AAAAAAAATOo/lmS5qgen2fgR8EicKu4upNDe_-JpsmaIgCLcBGAsYHQ/s1600/result1.png\" imageanchor=\"1\" style=\"margin-left: 1em; margin-right: 1em;\"><img border=\"0\" data-original-height=\"292\" data-original-width=\"343\" height=\"272\" src=\"https://1.bp.blogspot.com/-3_LY6YKpumE/Xeq6uFEJwBI/AAAAAAAATOo/lmS5qgen2fgR8EicKu4upNDe_-JpsmaIgCLcBGAsYHQ/s320/result1.png\" width=\"320\" /></a></div>\n",
    "<div class=\"separator\" style=\"clear: both; text-align: center;\">\n",
    "<a href=\"https://1.bp.blogspot.com/--SxLdivMioY/Xeq6u-ONafI/AAAAAAAATOs/TRwEYKZGHMwxFRWeUQ1SkwnP5vNqvmBEwCLcBGAsYHQ/s1600/result2.png\" imageanchor=\"1\" style=\"margin-left: 1em; margin-right: 1em;\"><img border=\"0\" data-original-height=\"242\" data-original-width=\"336\" height=\"230\" src=\"https://1.bp.blogspot.com/--SxLdivMioY/Xeq6u-ONafI/AAAAAAAATOs/TRwEYKZGHMwxFRWeUQ1SkwnP5vNqvmBEwCLcBGAsYHQ/s320/result2.png\" width=\"320\" /></a></div>\n",
    "<br />\n",
    "<div class=\"separator\" style=\"clear: both; text-align: center;\">\n",
    "<a href=\"https://1.bp.blogspot.com/-vq-gv0nM0Sg/Xeq6vusc1PI/AAAAAAAATOw/9gp252rNa_c0kqTjdfix5pShspaEAPhNQCLcBGAsYHQ/s1600/result_cluster.png\" imageanchor=\"1\" style=\"margin-left: 1em; margin-right: 1em;\"><img border=\"0\" data-original-height=\"242\" data-original-width=\"973\" height=\"156\" src=\"https://1.bp.blogspot.com/-vq-gv0nM0Sg/Xeq6vusc1PI/AAAAAAAATOw/9gp252rNa_c0kqTjdfix5pShspaEAPhNQCLcBGAsYHQ/s640/result_cluster.png\" width=\"640\" /></a></div>\n",
    "<br />\n",
    "<br />\n",
    "<br /></div>\n"
   ]
  }
 ],
 "metadata": {
  "kernelspec": {
   "display_name": "Python 3",
   "language": "python",
   "name": "python3"
  },
  "language_info": {
   "codemirror_mode": {
    "name": "ipython",
    "version": 3
   },
   "file_extension": ".py",
   "mimetype": "text/x-python",
   "name": "python",
   "nbconvert_exporter": "python",
   "pygments_lexer": "ipython3",
   "version": "3.7.6"
  }
 },
 "nbformat": 4,
 "nbformat_minor": 4
}
