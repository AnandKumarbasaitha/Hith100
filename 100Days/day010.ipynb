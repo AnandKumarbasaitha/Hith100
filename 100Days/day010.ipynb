{
 "cells": [
  {
   "cell_type": "markdown",
   "metadata": {},
   "source": [
    "<div dir=\"ltr\" style=\"text-align: left;\" trbidi=\"on\">\n",
    "<h2 style=\"text-align: left;\">\n",
    "100 Days Challenge - Day 10. </h2>\n",
    "<h3 style=\"text-align: left;\">\n",
    "Decision Trees and Random Forests</h3>\n",
    "<table align=\"center\" cellpadding=\"0\" cellspacing=\"0\" class=\"tr-caption-container\" style=\"margin-left: auto; margin-right: auto; text-align: center;\"><tbody>\n",
    "<tr><td style=\"text-align: center;\"><a href=\"https://1.bp.blogspot.com/-Fmm-DX8GqJQ/XfNyNpRyIrI/AAAAAAAATS4/Zxi-9yVfyboBfyPp7Y1z4b6c7YmIq3ZcwCLcBGAsYHQ/s1600/1*XMId5sJqPtm8-RIwVVz2tg.png\" imageanchor=\"1\" style=\"margin-left: auto; margin-right: auto;\"><img border=\"0\" data-original-height=\"340\" data-original-width=\"360\" height=\"302\" src=\"https://1.bp.blogspot.com/-Fmm-DX8GqJQ/XfNyNpRyIrI/AAAAAAAATS4/Zxi-9yVfyboBfyPp7Y1z4b6c7YmIq3ZcwCLcBGAsYHQ/s320/1*XMId5sJqPtm8-RIwVVz2tg.png\" width=\"320\" /></a></td></tr>\n",
    "<tr><td class=\"tr-caption\" style=\"text-align: center;\">Pic from towardsdatascience site</td></tr>\n",
    "</tbody></table>\n",
    "<h3 style=\"text-align: left;\">\n",
    "</h3>\n",
    "<br />\n",
    "Learnt about Decision Trees and Random Forests from StatQuest Youtube channel<br />\n",
    "<!--more--><br />\n",
    "Topics covered include:<br />\n",
    "Decision Trees <br />\n",
    "<ul style=\"text-align: left;\">\n",
    "<li>Terminology (Root, Node, Leaf)</li>\n",
    "<li>Gini impurity and Building a Tree for Categorica/Numeric/Ranked data</li>\n",
    "<li>Feature selection and impurity threshold to prevent overfitting.</li>\n",
    "<li>Filling Missing Values</li>\n",
    "</ul>\n",
    "Random Forests<br />\n",
    "<ul style=\"text-align: left;\">\n",
    "<li>Disadvantages of Decision Trees (Inefficiency with new samples)</li>\n",
    "<li>Bootstrapping, Bagging</li>\n",
    "<li>Evaluation (Using Out-Of-Bag dataset)</li>\n",
    "<li>Handling missing values in the original data</li>\n",
    "<li>Proximity Matrix and Distance Matrix </li>\n",
    "<li>Handling missing values in the data we want to classify</li>\n",
    "</ul>\n",
    "<br />\n",
    "<br />\n",
    "Sources:<br />\n",
    "<br />\n",
    "<div class=\"title style-scope ytd-video-primary-info-renderer\" style=\"text-align: left;\">\n",
    "<a href=\"https://www.youtube.com/watch?v=7VeUPuFGJHk\">StatQuest: Decision Trees</a></div>\n",
    "<div class=\"title style-scope ytd-video-primary-info-renderer\" style=\"text-align: left;\">\n",
    "<a href=\"https://www.youtube.com/watch?v=wpNl-JwwplA\">StatQuest: Decision Trees, Part 2 - Feature Selection and Missing Data</a></div>\n",
    "<div class=\"title style-scope ytd-video-primary-info-renderer\" style=\"text-align: left;\">\n",
    "<br /></div>\n",
    "<div class=\"title style-scope ytd-video-primary-info-renderer\" style=\"text-align: left;\">\n",
    "<a href=\"https://www.youtube.com/watch?v=J4Wdy0Wc_xQ\"><span style=\"font-weight: normal;\">StatQuest: Random Forests Part 1 - Building, Using and Evaluating</span></a></div>\n",
    "<a href=\"https://www.youtube.com/watch?v=nyxTdL_4Q-Q\">StatQuest: Random Forests Part 2: Missing data and clustering</a><br />\n",
    "<div>\n",
    "<br /></div>\n",
    "</div>\n"
   ]
  }
 ],
 "metadata": {
  "kernelspec": {
   "display_name": "Python 3",
   "language": "python",
   "name": "python3"
  },
  "language_info": {
   "codemirror_mode": {
    "name": "ipython",
    "version": 3
   },
   "file_extension": ".py",
   "mimetype": "text/x-python",
   "name": "python",
   "nbconvert_exporter": "python",
   "pygments_lexer": "ipython3",
   "version": "3.7.6"
  }
 },
 "nbformat": 4,
 "nbformat_minor": 4
}
