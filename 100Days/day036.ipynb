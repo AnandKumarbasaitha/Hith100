{
 "cells": [
  {
   "cell_type": "markdown",
   "metadata": {},
   "source": [
    "<div dir=\"ltr\" style=\"text-align: left;\" trbidi=\"on\">\n",
    "<h2 style=\"text-align: left;\">\n",
    "100 Days of ML - Day 36&nbsp;</h2>\n",
    "<h3 style=\"text-align: left;\">\n",
    "Implementing Polynomial Regression from Scratch</h3>\n",
    "<div style=\"text-align: left;\">\n",
    "Trained a Polynomial Regression Model (cubic) using only numpy matrix operations.</div>\n",
    "<div style=\"text-align: left;\">\n",
    "<br /></div>\n",
    "    \n",
    "The expected weights and bias are 1,2,3 and 4 respectively. But cubes and squares of numbers in the range (0,1) are very small and contribute less to the function (and therefore corresponding weights are not very accurate) than the linear coefficient and constant term (which are very close to the expected values) which is why there isn't much error in the final prediction."
   ]
  },
  {
   "cell_type": "code",
   "execution_count": 1,
   "metadata": {},
   "outputs": [],
   "source": [
    "import math\n",
    "import numpy as np\n",
    "import pandas as pd\n",
    "from sklearn.metrics import r2_score"
   ]
  },
  {
   "cell_type": "code",
   "execution_count": 2,
   "metadata": {},
   "outputs": [],
   "source": [
    "m = 1000000\n",
    "\n",
    "def poly_func1(X):\n",
    "    y=[]\n",
    "#     noise = np.random.randn(X.shape[0])\n",
    "    for i in range(X.shape[0]):\n",
    "        y.append(X[i,0]**3 + 2*(X[i,0]**2)+ 3*X[i,0] + 4)\n",
    "    return np.array(y).reshape(X.shape[0],1)"
   ]
  },
  {
   "cell_type": "code",
   "execution_count": 3,
   "metadata": {},
   "outputs": [],
   "source": [
    "X = np.random.rand(m,1)\n",
    "y = poly_func1(X)\n",
    "\n",
    "x_cu = np.array([i**3 for i in X[:,0]]).reshape(m,1)\n",
    "x_sq = np.array([i**2 for i in X[:,0]]).reshape(m,1)\n",
    "\n",
    "X = np.concatenate((x_cu,x_sq,X),axis=1)"
   ]
  },
  {
   "cell_type": "code",
   "execution_count": 4,
   "metadata": {
    "scrolled": true
   },
   "outputs": [
    {
     "name": "stdout",
     "output_type": "stream",
     "text": [
      "Iteration 1\n",
      "Cost: 48.42030964331832 \n",
      "\n",
      "Iteration 19531\n",
      "Cost: 0.01857237468464471 \n",
      "\n",
      "Iteration 39061\n",
      "Cost: 0.010523521260794812 \n",
      "\n",
      "Iteration 58591\n",
      "Cost: 0.009088712103423895 \n",
      "\n",
      "Iteration 78121\n",
      "Cost: 0.00853307758289391 \n",
      "\n",
      "Iteration 97651\n",
      "Cost: 0.007925505080385836 \n",
      "\n",
      "Iteration 117181\n",
      "Cost: 0.007228545927262707 \n",
      "\n",
      "Iteration 136711\n",
      "Cost: 0.006511043699623331 \n",
      "\n",
      "Iteration 156241\n",
      "Cost: 0.005820800605817834 \n",
      "\n",
      "Iteration 175771\n",
      "Cost: 0.005180304386380997 \n",
      "\n"
     ]
    }
   ],
   "source": [
    "#Batch Gradient Descent\n",
    "w = np.random.uniform(-1,1,(3,1))\n",
    "b = np.random.uniform(-1,1,(1,1))\n",
    "\n",
    "mm = 512\n",
    "epochs = int(m/mm)\n",
    "for j in range(100):\n",
    "    for i in range(epochs):\n",
    "        l,h = mm*i,mm*(i+1)\n",
    "        z = np.dot(X[l:h,:],w) + b\n",
    "        cost = np.dot((y[l:h]-z).reshape(1,mm),y[l:h]-z)/len(y[l:h]-z)\n",
    "\n",
    "        if(i==0 and j%10==0):\n",
    "            print(\"Iteration\", j*epochs+i+1)\n",
    "#             print(\"Weights:\",w)\n",
    "#             print(\"Bias:\",b[0,0])\n",
    "            print('Cost: ' + str(cost[0,0]),\"\\n\")\n",
    "\n",
    "        dw = -(1/mm)*np.dot(X[mm*i:mm*(i+1),:].reshape(3,mm),y[l:h]-z)\n",
    "        db = -(1/mm)*np.sum(y[l:h]-z,axis=0)\n",
    "\n",
    "        rate = 0.1\n",
    "        w = w - rate * dw\n",
    "        b = b - rate * db"
   ]
  },
  {
   "cell_type": "code",
   "execution_count": 5,
   "metadata": {
    "scrolled": true
   },
   "outputs": [
    {
     "name": "stdout",
     "output_type": "stream",
     "text": [
      "Weights: [[2.36344999]\n",
      " [0.7589251 ]\n",
      " [3.03188169]] Bias [[4.05794344]] \n",
      "\n",
      "Expected Result: [[6.125]\n",
      " [5.107]\n",
      " [4.321]] \n",
      "\n",
      "Predicted Result: [[6.05904681]\n",
      " [5.09962436]\n",
      " [4.37108431]] \n",
      "\n",
      "MSE: 0.002304220405252788\n"
     ]
    },
    {
     "data": {
      "text/plain": [
       "0.9957751183556003"
      ]
     },
     "execution_count": 5,
     "metadata": {},
     "output_type": "execute_result"
    }
   ],
   "source": [
    "a = np.array([[0.5],[0.3],[0.1]])\n",
    "c = a.copy()\n",
    "\n",
    "a0_cu = np.array([i**3 for i in a[:,0]]).reshape(a.shape[0],1)\n",
    "a0_sq = np.array([i**2 for i in a[:,0]]).reshape(a.shape[0],1)\n",
    "\n",
    "a = np.concatenate((a0_cu,a0_sq,a),axis=1)\n",
    "\n",
    "print(\"Weights:\",w,\"Bias\",b,'\\n')\n",
    "\n",
    "print(\"Expected Result:\",poly_func1(c),'\\n')\n",
    "z = np.dot(a,w) + b\n",
    "\n",
    "print(\"Predicted Result:\",z,'\\n')\n",
    "\n",
    "print(\"MSE:\", (1/a.shape[0])*np.sum((z-poly_func1(c))*(z-poly_func1(c))))\n",
    "\n",
    "r2_score(poly_func1(c),z)"
   ]
  }
 ],
 "metadata": {
  "kernelspec": {
   "display_name": "Python 3",
   "language": "python",
   "name": "python3"
  },
  "language_info": {
   "codemirror_mode": {
    "name": "ipython",
    "version": 3
   },
   "file_extension": ".py",
   "mimetype": "text/x-python",
   "name": "python",
   "nbconvert_exporter": "python",
   "pygments_lexer": "ipython3",
   "version": "3.7.3"
  }
 },
 "nbformat": 4,
 "nbformat_minor": 2
}
