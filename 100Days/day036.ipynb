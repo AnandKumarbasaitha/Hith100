{
 "cells": [
  {
   "cell_type": "markdown",
   "metadata": {},
   "source": [
    "100 Days of ML Day 36 \n",
    "-Implementing Polynomial Regression from Scratch\n"
   ]
  },
  {
   "cell_type": "code",
   "execution_count": 1,
   "metadata": {},
   "outputs": [],
   "source": [
    "import math\n",
    "import numpy as np\n",
    "import pandas as pd\n",
    "from sklearn.metrics import r2_score"
   ]
  },
  {
   "cell_type": "code",
   "execution_count": 2,
   "metadata": {},
   "outputs": [],
   "source": [
    "m = 1000000\n",
    "\n",
    "def poly_func1(X):\n",
    "    y=[]\n",
    "#     noise = np.random.randn(X.shape[0])\n",
    "    for i in range(X.shape[0]):\n",
    "        y.append(X[i,0]**3 - 2*(X[i,0]**2) - 3*X[i,0] + 4)\n",
    "    return np.array(y).reshape(X.shape[0],1)"
   ]
  },
  {
   "cell_type": "code",
   "execution_count": 3,
   "metadata": {},
   "outputs": [],
   "source": [
    "X = np.random.uniform(-1,1,(m,1))\n",
    "y = poly_func1(X)\n",
    "\n",
    "x_cu = np.array([i**3 for i in X[:,0]]).reshape(m,1)\n",
    "x_sq = np.array([i**2 for i in X[:,0]]).reshape(m,1)\n",
    "\n",
    "X = np.concatenate((x_cu,x_sq,X),axis=1)"
   ]
  },
  {
   "cell_type": "code",
   "execution_count": 4,
   "metadata": {
    "scrolled": true
   },
   "outputs": [
    {
     "name": "stdout",
     "output_type": "stream",
     "text": [
      "Iteration 1\n",
      "Cost: 17.657445852043494 \n",
      "\n",
      "Iteration 93745\n",
      "Cost: 0.026585649449157985 \n",
      "\n",
      "Iteration 187489\n",
      "Cost: 0.004498893767021112 \n",
      "\n",
      "Iteration 281233\n",
      "Cost: 0.0006408152721707762 \n",
      "\n",
      "Iteration 374977\n",
      "Cost: 8.834892580731452e-05 \n",
      "\n"
     ]
    }
   ],
   "source": [
    "#Batch Gradient Descent\n",
    "w = np.random.uniform(-1,1,(3,1))\n",
    "b = np.random.uniform(-1,1,(1,1))\n",
    "\n",
    "mm =  256\n",
    "epochs = int(m/mm)\n",
    "for j in range(100):\n",
    "    for i in range(epochs):\n",
    "        l,h = mm*i,mm*(i+1)\n",
    "        z = np.dot(X[l:h,:],w) + b\n",
    "        cost = np.dot((y[l:h]-z).reshape(1,mm),y[l:h]-z)/len(y[l:h]-z)\n",
    "\n",
    "        if(i==0 and j%24==0):\n",
    "            print(\"Iteration\", j*epochs+i+1)\n",
    "#             print(\"Weights:\",w)\n",
    "#             print(\"Bias:\",b[0,0])\n",
    "            print('Cost: ' + str(cost[0,0]),\"\\n\")\n",
    "\n",
    "        dw = -(1/mm)*np.dot(X[mm*i:mm*(i+1),:].reshape(3,mm),y[l:h]-z)\n",
    "        db = -(1/mm)*np.sum(y[l:h]-z,axis=0)\n",
    "\n",
    "        rate = 0.1\n",
    "        w = w - rate * dw\n",
    "        b = b - rate * db"
   ]
  },
  {
   "cell_type": "code",
   "execution_count": 6,
   "metadata": {
    "scrolled": true
   },
   "outputs": [
    {
     "name": "stdout",
     "output_type": "stream",
     "text": [
      "Weights: [[ 0.94855054]\n",
      " [-1.99336138]\n",
      " [-2.96857107]] Bias [[3.99773123]] \n",
      "\n",
      "Expected Result: [[2.125]\n",
      " [2.947]\n",
      " [3.681]] \n",
      "\n",
      "Predicted Result: [[2.13367417]\n",
      " [2.95336825]\n",
      " [3.68188906]] \n",
      "\n",
      "MSE: 3.886210717286191e-05 \n",
      "\n",
      "R2 Score: 0.9999037954468409\n"
     ]
    }
   ],
   "source": [
    "a = np.array([[0.5],[0.3],[0.1]])\n",
    "c = a.copy()\n",
    "\n",
    "a0_cu = np.array([i**3 for i in a[:,0]]).reshape(a.shape[0],1)\n",
    "a0_sq = np.array([i**2 for i in a[:,0]]).reshape(a.shape[0],1)\n",
    "\n",
    "a = np.concatenate((a0_cu,a0_sq,a),axis=1)\n",
    "\n",
    "print(\"Weights:\",w,\"Bias\",b,'\\n')\n",
    "\n",
    "print(\"Expected Result:\",poly_func1(c),'\\n')\n",
    "z = np.dot(a,w) + b\n",
    "\n",
    "print(\"Predicted Result:\",z,'\\n')\n",
    "\n",
    "print(\"MSE:\", (1/a.shape[0])*np.sum((z-poly_func1(c))*(z-poly_func1(c))),'\\n')\n",
    "\n",
    "print(\"R2 Score:\",r2_score(poly_func1(c),z))"
   ]
  }
 ],
 "metadata": {
  "kernelspec": {
   "display_name": "Python 3",
   "language": "python",
   "name": "python3"
  },
  "language_info": {
   "codemirror_mode": {
    "name": "ipython",
    "version": 3
   },
   "file_extension": ".py",
   "mimetype": "text/x-python",
   "name": "python",
   "nbconvert_exporter": "python",
   "pygments_lexer": "ipython3",
   "version": "3.7.3"
  }
 },
 "nbformat": 4,
 "nbformat_minor": 2
}
