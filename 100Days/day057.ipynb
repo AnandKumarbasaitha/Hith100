{
 "cells": [
  {
   "cell_type": "markdown",
   "metadata": {},
   "source": [
    "<div dir=\"ltr\" style=\"text-align: left;\" trbidi=\"on\">\n",
    "<h2 style=\"text-align: left;\">\n",
    "100 Days of ML Day 57</h2>\n",
    "<h3 style=\"text-align: left;\">\n",
    "Inception Networks, Transfer Learning, Data Augmentation</h3>\n",
    "Watched lectures from Week 2 of Convolutional Neural Networks Course on Youtube.<br />\n",
    "<br />\n",
    "Videos:<br />\n",
    "<a href=\"https://www.youtube.com/watch?v=C86ZXvgpejM&amp;list=PLkDaE6sCZn6Gl29AoE31iwdVwSG-KnDzF&amp;index=17\">C4W2L06 Inception Network Motivation</a><br />\n",
    "<a href=\"https://www.youtube.com/watch?v=KfV8CJh7hE0&amp;list=PLkDaE6sCZn6Gl29AoE31iwdVwSG-KnDzF&amp;index=18\">C4W2L07 Inception Network</a><br />\n",
    "<a href=\"https://www.youtube.com/watch?v=cFFu__mcoIw&amp;list=PLkDaE6sCZn6Gl29AoE31iwdVwSG-KnDzF&amp;index=19\">C4W2L08 Using Open Source Implementation</a><br />\n",
    "<a href=\"https://www.youtube.com/watch?v=FQM13HkEfBk&amp;list=PLkDaE6sCZn6Gl29AoE31iwdVwSG-KnDzF&amp;index=20\">C4W2L09 Transfer Learning</a><br />\n",
    "<a href=\"https://www.youtube.com/watch?v=JI8saFjK84o&amp;list=PLkDaE6sCZn6Gl29AoE31iwdVwSG-KnDzF&amp;index=21\">C4W2L10 Data Augmentation</a><br />\n",
    "<a href=\"https://www.youtube.com/watch?v=c3zw6KI6dLc&amp;list=PLkDaE6sCZn6Gl29AoE31iwdVwSG-KnDzF&amp;index=22\">C4W2L11 State of Computer Vision</a></div>\n"
   ]
  }
 ],
 "metadata": {
  "kernelspec": {
   "display_name": "Python 3",
   "language": "python",
   "name": "python3"
  },
  "language_info": {
   "codemirror_mode": {
    "name": "ipython",
    "version": 3
   },
   "file_extension": ".py",
   "mimetype": "text/x-python",
   "name": "python",
   "nbconvert_exporter": "python",
   "pygments_lexer": "ipython3",
   "version": "3.7.3"
  }
 },
 "nbformat": 4,
 "nbformat_minor": 2
}
