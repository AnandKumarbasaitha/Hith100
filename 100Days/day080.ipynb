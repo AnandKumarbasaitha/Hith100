{
 "cells": [
  {
   "cell_type": "markdown",
   "metadata": {},
   "source": [
    "<div dir=\"ltr\" style=\"text-align: left;\" trbidi=\"on\">\n",
    "<h2 style=\"text-align: left;\">\n",
    "100 Days of ML Day 80</h2>\n",
    "<h3 style=\"text-align: left;\">\n",
    "Text Classification using NLTK</h3>\n",
    "Watched videos from Sentdex's NLP with NLTK Course on Youtube<br />\n",
    "<br />\n",
    "Videos:<br />\n",
    "<a href=\"https://www.youtube.com/watch?v=zi16nl82AMA&amp;list=PLQVvvaa0QuDf2JswnfiGkliBInZnIC4HL&amp;index=12&amp;t=0s\">Text Classification - Natural Language Processing With Python and NLTK p.11</a><br />\n",
    "<a href=\"https://www.youtube.com/watch?v=-vVskDsHcVc&amp;list=PLQVvvaa0QuDf2JswnfiGkliBInZnIC4HL&amp;index=13&amp;t=0s\">Words as Features for Learning - Natural Language Processing With Python and NLTK p.12</a><br />\n",
    "<a href=\"https://www.youtube.com/watch?v=rISOsUaTrO4&amp;list=PLQVvvaa0QuDf2JswnfiGkliBInZnIC4HL&amp;index=14&amp;t=0s\">Naive Bayes - Natural Language Processing With Python and NLTK p.13</a></div>\n"
   ]
  }
 ],
 "metadata": {
  "kernelspec": {
   "display_name": "Python 3",
   "language": "python",
   "name": "python3"
  },
  "language_info": {
   "codemirror_mode": {
    "name": "ipython",
    "version": 3
   },
   "file_extension": ".py",
   "mimetype": "text/x-python",
   "name": "python",
   "nbconvert_exporter": "python",
   "pygments_lexer": "ipython3",
   "version": "3.7.3"
  }
 },
 "nbformat": 4,
 "nbformat_minor": 2
}
