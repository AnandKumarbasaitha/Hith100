{
 "cells": [
  {
   "cell_type": "markdown",
   "metadata": {},
   "source": [
    "<div dir=\"ltr\" style=\"text-align: left;\" trbidi=\"on\">\n",
    "<h2 style=\"text-align: left;\">\n",
    "100 Days Challenge Day 23</h2>\n",
    "<h3 style=\"text-align: left;\">\n",
    "Neural Networks and Deep Learning W2 </h3>\n",
    "Watched videos of Week 2 of Neural Networks and Deep Learning by deeplearning.ai on Youtube<br />\n",
    "<br />\n",
    "<!--more-->Videos:<br />\n",
    "<br />\n",
    "<a href=\"https://www.youtube.com/watch?v=eqEc66RFY0I&amp;list=PLkDaE6sCZn6Ec-XTbcX1uRg2_u4xOEky0&amp;index=7\">Binary Classification (C1W2L01)</a><br />\n",
    "<a href=\"https://www.youtube.com/watch?v=hjrYrynGWGA&amp;list=PLkDaE6sCZn6Ec-XTbcX1uRg2_u4xOEky0&amp;index=8\">Logistic Regression (C1W2L02)</a> <br />\n",
    "<a href=\"https://www.youtube.com/watch?v=SHEPb1JHw5o&amp;list=PLkDaE6sCZn6Ec-XTbcX1uRg2_u4xOEky0&amp;index=9\">Logistic Regression Cost Function (C1W2L03)</a><br />\n",
    "<a href=\"https://www.youtube.com/watch?v=uJryes5Vk1o&amp;list=PLkDaE6sCZn6Ec-XTbcX1uRg2_u4xOEky0&amp;index=10\">Gradient Descent (C1W2L04)</a><br />\n",
    "<a href=\"https://www.youtube.com/watch?v=hCP1vGoCdYU&amp;list=PLkDaE6sCZn6Ec-XTbcX1uRg2_u4xOEky0&amp;index=13\">Computation Graph (C1W2L07)</a><br />\n",
    "<a href=\"https://www.youtube.com/watch?v=nJyUyKN-XBQ&amp;list=PLkDaE6sCZn6Ec-XTbcX1uRg2_u4xOEky0&amp;index=14\">Derivatives With Computation Graphs (C1W2L08)</a><br />\n",
    "<a href=\"https://www.youtube.com/watch?v=z_xiwjEdAC4&amp;list=PLkDaE6sCZn6Ec-XTbcX1uRg2_u4xOEky0&amp;index=15\">Logistic Regression Gradient Descent (C1W2L09)</a>&nbsp; <br />\n",
    "<a href=\"https://www.youtube.com/watch?v=KKfZLXcF-aE&amp;list=PLkDaE6sCZn6Ec-XTbcX1uRg2_u4xOEky0&amp;index=16\">Gradient Descent on m Examples (C1W2L10)</a><br />\n",
    "<a href=\"https://www.youtube.com/watch?v=okpqeEUdEkY&amp;list=PLkDaE6sCZn6Ec-XTbcX1uRg2_u4xOEky0&amp;index=17\">Vectorization (C1W2L11)</a><br />\n",
    "<a href=\"https://www.youtube.com/watch?v=okpqeEUdEkY&amp;list=PLkDaE6sCZn6Ec-XTbcX1uRg2_u4xOEky0&amp;index=18\">More Vectorization Examples (C1W2L12)</a> <br />\n",
    "<a href=\"https://www.youtube.com/watch?v=okpqeEUdEkY&amp;list=PLkDaE6sCZn6Ec-XTbcX1uRg2_u4xOEky0&amp;index=19\">Vectorizing Logistic Regression (C1W2L13)</a><br />\n",
    "<a href=\"https://www.youtube.com/watch?v=2BkqApHKwn0&amp;list=PLkDaE6sCZn6Ec-XTbcX1uRg2_u4xOEky0&amp;index=20\">Vectorizing Logistic Regression's Gradient Computation (C1W2L14)</a> <br />\n",
    "<a href=\"https://www.youtube.com/watch?v=xflCLdJh0n0&amp;list=PLkDaE6sCZn6Ec-XTbcX1uRg2_u4xOEky0&amp;index=4\"></a></div>\n"
   ]
  }
 ],
 "metadata": {
  "kernelspec": {
   "display_name": "Python 3",
   "language": "python",
   "name": "python3"
  },
  "language_info": {
   "codemirror_mode": {
    "name": "ipython",
    "version": 3
   },
   "file_extension": ".py",
   "mimetype": "text/x-python",
   "name": "python",
   "nbconvert_exporter": "python",
   "pygments_lexer": "ipython3",
   "version": "3.7.6"
  }
 },
 "nbformat": 4,
 "nbformat_minor": 4
}
