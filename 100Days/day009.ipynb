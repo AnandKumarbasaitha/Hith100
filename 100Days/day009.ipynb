{
 "cells": [
  {
   "cell_type": "markdown",
   "metadata": {},
   "source": [
    "<div dir=\"ltr\" style=\"text-align: left;\" trbidi=\"on\">\n",
    "<h2 style=\"text-align: left;\">\n",
    "100 Days Challenge - Day 9</h2>\n",
    "<h2 style=\"text-align: left;\">\n",
    "&nbsp;<table align=\"center\" cellpadding=\"0\" cellspacing=\"0\" class=\"tr-caption-container\" style=\"margin-left: auto; margin-right: auto; text-align: center;\"><tbody>\n",
    "<tr><td style=\"text-align: center;\"><a href=\"https://1.bp.blogspot.com/-0B4KVeVzyGs/XfEUXhLZHuI/AAAAAAAATSs/cdRVF7QGzdIT36V2WRoO5v1muGRO7wpowCLcBGAsYHQ/s1600/EBiksrSVAAAhqpo.jpeg\" imageanchor=\"1\" style=\"margin-left: auto; margin-right: auto;\"><img border=\"0\" data-original-height=\"1075\" data-original-width=\"1080\" height=\"318\" src=\"https://1.bp.blogspot.com/-0B4KVeVzyGs/XfEUXhLZHuI/AAAAAAAATSs/cdRVF7QGzdIT36V2WRoO5v1muGRO7wpowCLcBGAsYHQ/s320/EBiksrSVAAAhqpo.jpeg\" width=\"320\" /></a></td></tr>\n",
    "<tr><td class=\"tr-caption\" style=\"text-align: center;\">Note: This is the last slide of Andrew Ng's Machine Learning Course</td></tr>\n",
    "</tbody></table>\n",
    "</h2>\n",
    "<h3 style=\"text-align: left;\">\n",
    "Gradient Descent with Large Datasets, Online Learning, Photo OCR</h3>\n",
    "<br />\n",
    "Revised Week 10 and Week 11 (last two) of Andrew \n",
    "Ng's Machine Learning course on Coursera which I had already completed a\n",
    " few months ago.<br />\n",
    "<!--more--><br />\n",
    "Topics covered include:<br />\n",
    "<br />\n",
    "Gradient Descent with Large Datasets<br />\n",
    "<ul style=\"text-align: left;\">\n",
    "<li>Batch Gradient Descent</li>\n",
    "<li>Stochastic Gradient Descent</li>\n",
    "<li>Mini-Batch Gradient Descent</li>\n",
    "</ul>\n",
    "Online Learning<br />\n",
    "Map-Reduce and Data Parallelism<br />\n",
    "<br />\n",
    "OCR<br />\n",
    "<ul style=\"text-align: left;\">\n",
    "<li>Sliding Windows</li>\n",
    "<li>Getting Synthetic Data</li>\n",
    "<li>Ceiling Analysis </li>\n",
    "</ul>\n",
    "<div>\n",
    "<div>\n",
    "<br />\n",
    "<div>\n",
    "<ul style=\"text-align: left;\"></ul>\n",
    "</div>\n",
    "</div>\n",
    "</div>\n",
    "</div>\n"
   ]
  }
 ],
 "metadata": {
  "kernelspec": {
   "display_name": "Python 3",
   "language": "python",
   "name": "python3"
  },
  "language_info": {
   "codemirror_mode": {
    "name": "ipython",
    "version": 3
   },
   "file_extension": ".py",
   "mimetype": "text/x-python",
   "name": "python",
   "nbconvert_exporter": "python",
   "pygments_lexer": "ipython3",
   "version": "3.7.6"
  }
 },
 "nbformat": 4,
 "nbformat_minor": 4
}
