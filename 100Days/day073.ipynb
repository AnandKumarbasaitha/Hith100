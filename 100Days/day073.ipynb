{
 "cells": [
  {
   "cell_type": "markdown",
   "metadata": {},
   "source": [
    "<div dir=\"ltr\" style=\"text-align: left;\" trbidi=\"on\">\n",
    "<h2>\n",
    "100 Days of ML Day 73</h2>\n",
    "<h2>\n",
    "Tensorflow - Saving and Loading Models</h2>\n",
    "<div>\n",
    "Lesson 7 and 9 of Intro to Tensorflow for Deep Learning Course on \n",
    "Udacity.</div>\n",
    "<br />\n",
    "Github: <br />\n",
    "<a href=\"https://github.com/hithesh111/Hith100/blob/master/100Days/day073.ipynb\">https://github.com/hithesh111/Hith100/blob/master/100Days/day073.ipynb</a></div>\n"
   ]
  }
 ],
 "metadata": {
  "kernelspec": {
   "display_name": "Python 3",
   "language": "python",
   "name": "python3"
  },
  "language_info": {
   "codemirror_mode": {
    "name": "ipython",
    "version": 3
   },
   "file_extension": ".py",
   "mimetype": "text/x-python",
   "name": "python",
   "nbconvert_exporter": "python",
   "pygments_lexer": "ipython3",
   "version": "3.7.3"
  }
 },
 "nbformat": 4,
 "nbformat_minor": 2
}
