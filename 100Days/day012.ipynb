{
 "cells": [
  {
   "cell_type": "markdown",
   "metadata": {},
   "source": [
    "<div dir=\"ltr\" style=\"text-align: left;\" trbidi=\"on\">\n",
    "<h2 style=\"text-align: left;\">\n",
    "<span style=\"font-size: x-large;\">100 Days Challenge - Day 12 </span></h2>\n",
    "<h3 style=\"text-align: left;\">\n",
    "<span style=\"font-size: small;\">Regression Trees</span></h3>\n",
    "<div>\n",
    "<div class=\"separator\" style=\"clear: both; text-align: center;\">\n",
    "<br /></div>\n",
    "</div>\n",
    "<div>\n",
    "<span style=\"font-size: small;\">Learnt about Regression Trees from StatQuest YouTube Channel</span><br />\n",
    "<!--more--></div>\n",
    "<div>\n",
    "<br />\n",
    "Topics Covered:<br />\n",
    "<ul style=\"text-align: left;\">\n",
    "<li>Building a Regression Tree</li>\n",
    "<li>Setting Threshold to Prevent Overfitting</li>\n",
    "<li>Choosing Root and Nodes with Minimum SSR</li>\n",
    "<li>Tree Score = SSR + aT</li>\n",
    "<li>Pruning Regression Trees</li>\n",
    "<li>Cross Validation</li>\n",
    "</ul>\n",
    "</div>\n",
    "<div>\n",
    "<a href=\"https://www.blogger.com/goog_2059737785\"><span style=\"font-size: small;\"><br /></span></a>\n",
    "<span style=\"font-size: small;\">Sources:</span></div>\n",
    "<div>\n",
    "<ul style=\"text-align: left;\">\n",
    "<li><span style=\"font-size: small;\"><a href=\"https://www.youtube.com/watch?v=g9c66TUylZ4\">Regression Trees, Clearly Explained!!!</a></span></li>\n",
    "<li><span style=\"font-size: small;\"><a href=\"https://www.youtube.com/watch?v=D0efHEJsfHo\">How to Prune Regression Trees, Clearly Explained!!!</a> </span></li>\n",
    "</ul>\n",
    "</div>\n",
    "<div>\n",
    "<span style=\"font-size: small;\"><br /></span></div>\n",
    "<div>\n",
    "<span style=\"font-size: small;\"></span></div>\n",
    "</div>\n"
   ]
  }
 ],
 "metadata": {
  "kernelspec": {
   "display_name": "Python 3",
   "language": "python",
   "name": "python3"
  },
  "language_info": {
   "codemirror_mode": {
    "name": "ipython",
    "version": 3
   },
   "file_extension": ".py",
   "mimetype": "text/x-python",
   "name": "python",
   "nbconvert_exporter": "python",
   "pygments_lexer": "ipython3",
   "version": "3.7.6"
  }
 },
 "nbformat": 4,
 "nbformat_minor": 4
}
