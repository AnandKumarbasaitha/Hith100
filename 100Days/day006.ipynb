{
 "cells": [
  {
   "attachments": {},
   "cell_type": "markdown",
   "metadata": {},
   "source": [
    "<div dir=\"ltr\" style=\"text-align: left;\" trbidi=\"on\">\n",
    "<h2 style=\"text-align: left;\">\n",
    "100 Days Challenge - Day 6.</h2>\n",
    "<h3 style=\"text-align: left;\">\n",
    "Anomaly Detection</h3>\n",
    "<div style=\"text-align: left;\">\n",
    "Revised Anomaly Detection&nbsp; from Andrew Ng's Machine Learning course on Coursera which I\n",
    " had already completed a few months ago and started working on Credit Card Transaction Dataset to detect fraudulent transactions.</div>\n",
    "<!--more--><div style=\"text-align: left;\">\n",
    "<div class=\"separator\" style=\"clear: both; text-align: center;\">\n",
    "<br /></div>\n",
    "<br /></div>\n",
    "<div style=\"text-align: left;\">\n",
    "<br /></div>\n",
    "<div style=\"text-align: left;\">\n",
    "Topics covered include:</div>\n",
    "<div style=\"text-align: left;\">\n",
    "<br /></div>\n",
    "<div style=\"text-align: left;\">\n",
    "Anomaly Detection</div>\n",
    "<ul style=\"text-align: left;\">\n",
    "<li>Normal Assumption</li>\n",
    "<li>Algorithm</li>\n",
    "<li>Evaluation</li>\n",
    "<li>Choosing Features</li>\n",
    "<li>Anomaly Detection vs Supervised Learning</li>\n",
    "<li>Anomaly Detection using Multivariate Normal</li>\n",
    "</ul>\n",
    "Note: I have started the project but there were some issues due to which the predictions came out erroneously. Will fix it soon and upload the python notebook file in tomorrow's post.<br />\n",
    "<br />\n",
    "(Tomorrow's post: <a href=\"https://hitheshai.blogspot.com/2019/12/100-days-challenge-day-7-anomaly-detection-credit-card-fraud-detection-project.html\">https://hitheshai.blogspot.com/2019/12/100-days-challenge-day-7-anomaly-detection-credit-card-fraud-detection-project.html</a>) <br />\n",
    "<br />\n",
    "<div style=\"text-align: left;\">\n",
    "<b>Dataset</b>: <a href=\"https://www.kaggle.com/mlg-ulb/creditcardfraud\">https://www.kaggle.com/mlg-ulb/creditcardfraud</a></div>\n",
    "<div style=\"text-align: left;\">\n",
    "<br /></div>\n",
    "<div class=\"separator\" style=\"clear: both; text-align: center;\">\n",
    "<br /></div>\n",
    "<div class=\"separator\" style=\"clear: both; text-align: center;\">\n",
    "<br /></div>\n",
    "<div style=\"text-align: left;\">\n",
    "<br /></div>\n",
    "<div class=\"separator\" style=\"clear: both; text-align: center;\">\n",
    "<br /></div>\n",
    "<div style=\"text-align: left;\">\n",
    "<br /></div>\n",
    "<div style=\"text-align: left;\">\n",
    "<br /></div>\n",
    "<div style=\"text-align: left;\">\n",
    "<br /></div>\n",
    "</div>\n"
   ]
  }
 ],
 "metadata": {
  "kernelspec": {
   "display_name": "Python 3",
   "language": "python",
   "name": "python3"
  },
  "language_info": {
   "codemirror_mode": {
    "name": "ipython",
    "version": 3
   },
   "file_extension": ".py",
   "mimetype": "text/x-python",
   "name": "python",
   "nbconvert_exporter": "python",
   "pygments_lexer": "ipython3",
   "version": "3.7.6"
  }
 },
 "nbformat": 4,
 "nbformat_minor": 4
}
