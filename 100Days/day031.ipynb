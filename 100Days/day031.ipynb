{
 "cells": [
  {
   "cell_type": "markdown",
   "metadata": {},
   "source": [
    "<div dir=\"ltr\" style=\"text-align: left;\" trbidi=\"on\">\n",
    "<h2 style=\"text-align: left;\">\n",
    "100 Days Challenge Day 31</h2>\n",
    "<h3 style=\"text-align: left;\">\n",
    "Tuning Process</h3>\n",
    "Watched some videos from Week 3 of Hyperparameters, Regularization and Optimization Course on Youtube. Going on an overnight bus ride, so had to do it early in the day.<br />\n",
    "<br />\n",
    "Videos:<br />\n",
    "<a href=\"https://www.youtube.com/watch?v=AXDByU3D1hA&amp;list=PLkDaE6sCZn6Hn0vK8co82zjQtt3T2Nkqc&amp;index=24\">Tuning Process (C2W3L01)</a><br />\n",
    "<a href=\"https://www.youtube.com/watch?v=cSoK_6Rkbfg&amp;list=PLkDaE6sCZn6Hn0vK8co82zjQtt3T2Nkqc&amp;index=25\">Using an Appropriate Scale (C2W3L02)</a><br />\n",
    "<a href=\"https://www.youtube.com/watch?v=wKkcBPp3F1Y&amp;list=PLkDaE6sCZn6Hn0vK8co82zjQtt3T2Nkqc&amp;index=26\">Hyperparameter Tuning in Practice (C2W3L03)</a><br />\n",
    "<a href=\"https://www.youtube.com/watch?v=tNIpEZLv_eg&amp;list=PLkDaE6sCZn6Hn0vK8co82zjQtt3T2Nkqc&amp;index=27\">Normalizing Activations in a Network (C2W3L04)</a></div>\n"
   ]
  }
 ],
 "metadata": {
  "kernelspec": {
   "display_name": "Python 3",
   "language": "python",
   "name": "python3"
  },
  "language_info": {
   "codemirror_mode": {
    "name": "ipython",
    "version": 3
   },
   "file_extension": ".py",
   "mimetype": "text/x-python",
   "name": "python",
   "nbconvert_exporter": "python",
   "pygments_lexer": "ipython3",
   "version": "3.7.6"
  }
 },
 "nbformat": 4,
 "nbformat_minor": 4
}
