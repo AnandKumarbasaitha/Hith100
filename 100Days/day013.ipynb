{
 "cells": [
  {
   "cell_type": "markdown",
   "metadata": {},
   "source": [
    "<div dir=\"ltr\" style=\"text-align: left;\" trbidi=\"on\">\n",
    "<h2 style=\"text-align: left;\">\n",
    "100 Days Challenge Day 13</h2>\n",
    "<table align=\"center\" cellpadding=\"0\" cellspacing=\"0\" class=\"tr-caption-container\" style=\"margin-left: auto; margin-right: auto; text-align: center;\"><tbody>\n",
    "<tr><td style=\"text-align: center;\"><a href=\"https://1.bp.blogspot.com/-4Fumh0FqtwM/Xfo9irAJ1PI/AAAAAAAATWo/lyXIJVZoWuobdrZAigO-9qxk0mQHgXSEgCLcBGAsYHQ/s1600/Screenshot%2Bfrom%2B2019-12-18%2B20-23-27.png\" imageanchor=\"1\" style=\"margin-left: auto; margin-right: auto;\"><img border=\"0\" data-original-height=\"435\" data-original-width=\"846\" height=\"164\" src=\"https://1.bp.blogspot.com/-4Fumh0FqtwM/Xfo9irAJ1PI/AAAAAAAATWo/lyXIJVZoWuobdrZAigO-9qxk0mQHgXSEgCLcBGAsYHQ/s320/Screenshot%2Bfrom%2B2019-12-18%2B20-23-27.png\" width=\"320\" /></a></td></tr>\n",
    "<tr><td class=\"tr-caption\" style=\"text-align: center;\">Pic Credits: StatQuest Youtube Channel</td></tr>\n",
    "</tbody></table>\n",
    "<h2 style=\"text-align: left;\">\n",
    "&nbsp;</h2>\n",
    "<h3 style=\"text-align: left;\">\n",
    "Gradient Boost</h3>\n",
    "<div style=\"text-align: left;\">\n",
    "<br /></div>\n",
    "<div style=\"text-align: left;\">\n",
    "Learnt about Gradient Boosting from videos on Statquest Youtube channel </div>\n",
    "<div style=\"text-align: left;\">\n",
    "</div>\n",
    "<!--more--><br />\n",
    "Sources: <br />\n",
    "<ul style=\"text-align: left;\">\n",
    "<li><a href=\"https://www.youtube.com/watch?v=3CC4N4z3GJc\">Gradient Boost Part 1: Regression Main Ideas</a></li>\n",
    "<li><a href=\"https://www.youtube.com/watch?v=2xudPOBz-vs\">Gradient Boost Part 2: Regression Details</a></li>\n",
    "<li><a href=\"https://www.youtube.com/watch?v=jxuNLH5dXCs\">Gradient Boost Part 3: Classification</a></li>\n",
    "<li><a href=\"https://www.youtube.com/watch?v=LsK-xG1cLYA\">Gradient Boost Part 4: Classification Details</a></li>\n",
    "</ul>\n",
    "<h3 style=\"text-align: left;\">\n",
    "</h3>\n",
    "</div>\n"
   ]
  }
 ],
 "metadata": {
  "kernelspec": {
   "display_name": "Python 3",
   "language": "python",
   "name": "python3"
  },
  "language_info": {
   "codemirror_mode": {
    "name": "ipython",
    "version": 3
   },
   "file_extension": ".py",
   "mimetype": "text/x-python",
   "name": "python",
   "nbconvert_exporter": "python",
   "pygments_lexer": "ipython3",
   "version": "3.7.6"
  }
 },
 "nbformat": 4,
 "nbformat_minor": 4
}
