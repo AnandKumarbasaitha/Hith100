{
 "cells": [
  {
   "cell_type": "markdown",
   "metadata": {},
   "source": [
    "<div dir=\"ltr\" style=\"text-align: left;\" trbidi=\"on\">\n",
    "<h2 style=\"text-align: left;\">\n",
    "100 Days of ML Day 84</h2>\n",
    "<h3 style=\"text-align: left;\">\n",
    "Discriminative Models 2</h3>\n",
    "Section 8 of Dan Jurafsky's NLP Course on Youtube<br />\n",
    "<br />\n",
    "Videos:<br />\n",
    "<a href=\"https://www.youtube.com/watch?v=7-7MlBdy3EE&amp;list=PLQiyVNMpDLKnZYBTUOlSI9mi9wAErFtFm&amp;index=40\">8 3 Feature Based Linear Classifiers</a><br />\n",
    "<a href=\"https://www.youtube.com/watch?v=uRJjelMVcPA&amp;list=PLQiyVNMpDLKnZYBTUOlSI9mi9wAErFtFm&amp;index=42&amp;t=0s\">8 4 Building a Maxent Model The Nuts and Bolts</a><br />\n",
    "<a href=\"https://www.youtube.com/watch?v=_Niy2f-M9KA&amp;list=PLQiyVNMpDLKnZYBTUOlSI9mi9wAErFtFm&amp;index=43&amp;t=0s\">8 5 Generative vs Discriminative models</a><br />\n",
    "<a href=\"https://www.youtube.com/watch?v=E1k2bG6fKrY&amp;list=PLQiyVNMpDLKnZYBTUOlSI9mi9wAErFtFm&amp;index=44&amp;t=0s\">8 6 Maximizing the Likelihood</a></div>\n"
   ]
  }
 ],
 "metadata": {
  "kernelspec": {
   "display_name": "Python 3",
   "language": "python",
   "name": "python3"
  },
  "language_info": {
   "codemirror_mode": {
    "name": "ipython",
    "version": 3
   },
   "file_extension": ".py",
   "mimetype": "text/x-python",
   "name": "python",
   "nbconvert_exporter": "python",
   "pygments_lexer": "ipython3",
   "version": "3.7.3"
  }
 },
 "nbformat": 4,
 "nbformat_minor": 2
}
