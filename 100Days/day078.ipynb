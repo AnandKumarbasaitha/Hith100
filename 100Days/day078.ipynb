{
 "cells": [
  {
   "cell_type": "markdown",
   "metadata": {},
   "source": [
    "<div dir=\"ltr\" style=\"text-align: left;\" trbidi=\"on\">\n",
    "<h2 style=\"text-align: left;\">\n",
    "100 Days of ML Day 78</h2>\n",
    "<h3 style=\"text-align: left;\">\n",
    "Spelling Correction</h3>\n",
    "Section 5 of Dan Jurafsky's NLP Course on Youtube<br />\n",
    "<br />\n",
    "Videos:<br />\n",
    "<a href=\"https://www.youtube.com/watch?v=iYFqYL9RsRs&amp;list=PLQiyVNMpDLKnZYBTUOlSI9mi9wAErFtFm&amp;index=20\">5 1 The Spelling Correction Task</a><br />\n",
    "<a href=\"https://www.youtube.com/watch?v=q6BFerSaUEA&amp;list=PLQiyVNMpDLKnZYBTUOlSI9mi9wAErFtFm&amp;index=21\">5 2 The Noisy Channel Model of Spelling</a><br />\n",
    "<a href=\"https://www.youtube.com/watch?v=bZNU2FwTXDc&amp;list=PLQiyVNMpDLKnZYBTUOlSI9mi9wAErFtFm&amp;index=22\">5 3 Real Word Spelling Correction</a><br />\n",
    "<a href=\"https://www.youtube.com/watch?v=aAvOOZRsby8&amp;list=PLQiyVNMpDLKnZYBTUOlSI9mi9wAErFtFm&amp;index=23\">5 4 State of the Art Systems</a></div>"
   ]
  }
 ],
 "metadata": {
  "kernelspec": {
   "display_name": "Python 3",
   "language": "python",
   "name": "python3"
  },
  "language_info": {
   "codemirror_mode": {
    "name": "ipython",
    "version": 3
   },
   "file_extension": ".py",
   "mimetype": "text/x-python",
   "name": "python",
   "nbconvert_exporter": "python",
   "pygments_lexer": "ipython3",
   "version": "3.7.3"
  }
 },
 "nbformat": 4,
 "nbformat_minor": 2
}
