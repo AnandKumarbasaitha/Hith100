{
 "cells": [
  {
   "cell_type": "markdown",
   "metadata": {},
   "source": [
    "<div dir=\"ltr\" style=\"text-align: left;\" trbidi=\"on\">\n",
    "<h2 style=\"text-align: left;\">\n",
    "100 Days Challenge Day 32</h2>\n",
    "<h3 style=\"text-align: left;\">\n",
    "Batch Normalization</h3>\n",
    "Watched some videos from Week 3 of \n",
    "Hyperparameters, Regularization and Optimization Course on Youtube.<br />\n",
    "<br />\n",
    "<a href=\"https://www.youtube.com/watch?v=em6dfRxYkYU&amp;list=PLkDaE6sCZn6Hn0vK8co82zjQtt3T2Nkqc&amp;index=28\">Fitting Batch Norm Into Neural Networks (C2W3L05)</a><br />\n",
    "<a href=\"https://www.youtube.com/watch?v=nUUqwaxLnWs&amp;list=PLkDaE6sCZn6Hn0vK8co82zjQtt3T2Nkqc&amp;index=29\">Why Does Batch Norm Work? (C2W3L06)</a><br />\n",
    "<a href=\"https://www.youtube.com/watch?v=5qefnAek8OA&amp;list=PLkDaE6sCZn6Hn0vK8co82zjQtt3T2Nkqc&amp;index=30\">Batch Norm At Test Time (C2W3L07)</a><br />\n",
    "<a href=\"https://www.youtube.com/watch?v=LLux1SW--oM&amp;list=PLkDaE6sCZn6Hn0vK8co82zjQtt3T2Nkqc&amp;index=31\">Softmax Regression (C2W3L08)</a></div>\n"
   ]
  }
 ],
 "metadata": {
  "kernelspec": {
   "display_name": "Python 3",
   "language": "python",
   "name": "python3"
  },
  "language_info": {
   "codemirror_mode": {
    "name": "ipython",
    "version": 3
   },
   "file_extension": ".py",
   "mimetype": "text/x-python",
   "name": "python",
   "nbconvert_exporter": "python",
   "pygments_lexer": "ipython3",
   "version": "3.7.6"
  }
 },
 "nbformat": 4,
 "nbformat_minor": 4
}
