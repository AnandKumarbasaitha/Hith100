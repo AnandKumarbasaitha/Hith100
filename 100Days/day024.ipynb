{
 "cells": [
  {
   "cell_type": "markdown",
   "metadata": {},
   "source": [
    "<div dir=\"ltr\" style=\"text-align: left;\" trbidi=\"on\">\n",
    "<h2 style=\"text-align: left;\">\n",
    "100 Days Challenge Day 24</h2>\n",
    "<h3 style=\"text-align: left;\">\n",
    "Neural Networks and Deep Learning W3</h3>\n",
    "Watched videos of Weeks 2 and 3 of Neural Networks and Deep Learning by deeplearning.ai on Youtube<br />\n",
    "<br />\n",
    "<!--more-->Videos:<br />\n",
    "<br />\n",
    "<a href=\"https://www.youtube.com/watch?v=fXOsFF95ifk&amp;list=PLkDaE6sCZn6Ec-XTbcX1uRg2_u4xOEky0&amp;index=25\">Neural Network Overview (C1W3L01)</a><br />\n",
    "<a href=\"https://www.youtube.com/watch?v=CcRkHl75Z-Y&amp;list=PLkDaE6sCZn6Ec-XTbcX1uRg2_u4xOEky0&amp;index=26\">Neural Network Representations (C1W3L02)</a><br />\n",
    "<a href=\"https://www.youtube.com/watch?v=rMOdrD61IoU&amp;list=PLkDaE6sCZn6Ec-XTbcX1uRg2_u4xOEky0&amp;index=27\">Computing Neural Network Output (C1W3L03)</a><br />\n",
    "<a href=\"https://www.youtube.com/watch?v=xy5MOQpx3aQ&amp;list=PLkDaE6sCZn6Ec-XTbcX1uRg2_u4xOEky0&amp;index=28\">Vectorizing Across Multiple Examples (C1W3L04)</a><br />\n",
    "<a href=\"https://www.youtube.com/watch?v=kkWRbIb42Ms&amp;list=PLkDaE6sCZn6Ec-XTbcX1uRg2_u4xOEky0&amp;index=29\">Explanation For Vectorized Implementation (C1W3L05)</a><br />\n",
    "<a href=\"https://www.youtube.com/watch?v=Xvg00QnyaIY&amp;list=PLkDaE6sCZn6Ec-XTbcX1uRg2_u4xOEky0&amp;index=30\">Activation Functions (C1W3L06)</a><br />\n",
    "<a href=\"https://www.youtube.com/watch?v=NkOv_k7r6no&amp;list=PLkDaE6sCZn6Ec-XTbcX1uRg2_u4xOEky0&amp;index=31\">Why Non-linear Activation Functions (C1W3L07)</a><br />\n",
    "<a href=\"https://www.youtube.com/watch?v=P7_jFxTtJEo&amp;list=PLkDaE6sCZn6Ec-XTbcX1uRg2_u4xOEky0&amp;index=32\">Derivatives Of Activation Functions (C1W3L08)</a><br />\n",
    "<a href=\"https://www.youtube.com/watch?v=7bLEWDZng_M&amp;list=PLkDaE6sCZn6Ec-XTbcX1uRg2_u4xOEky0&amp;index=33\">Gradient Descent For Neural Networks (C1W3L09)</a><br />\n",
    "<a href=\"https://www.youtube.com/watch?v=yXcQ4B-YSjQ&amp;list=PLkDaE6sCZn6Ec-XTbcX1uRg2_u4xOEky0&amp;index=34\">Backpropagation Intuition (C1W3L10)</a><br />\n",
    "<a href=\"https://www.youtube.com/watch?v=6by6Xas_Kho&amp;list=PLkDaE6sCZn6Ec-XTbcX1uRg2_u4xOEky0&amp;index=35\">Random Initialization (C1W3L11)</a><br />\n",
    "<br />\n",
    "<br /></div>\n"
   ]
  }
 ],
 "metadata": {
  "kernelspec": {
   "display_name": "Python 3",
   "language": "python",
   "name": "python3"
  },
  "language_info": {
   "codemirror_mode": {
    "name": "ipython",
    "version": 3
   },
   "file_extension": ".py",
   "mimetype": "text/x-python",
   "name": "python",
   "nbconvert_exporter": "python",
   "pygments_lexer": "ipython3",
   "version": "3.7.6"
  }
 },
 "nbformat": 4,
 "nbformat_minor": 4
}
