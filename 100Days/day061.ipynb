{
 "cells": [
  {
   "cell_type": "markdown",
   "metadata": {},
   "source": [
    "<div dir=\"ltr\" style=\"text-align: left;\" trbidi=\"on\">\n",
    "<h2 style=\"text-align: left;\">\n",
    "100 Days of ML Day 61</h2>\n",
    "<h3 style=\"text-align: left;\">\n",
    "Neural Style Transfer</h3>\n",
    "Watched lectures from Week 4 of Convolutional Neural Networks Course on Youtube.<br />\n",
    "<br />\n",
    "Videos:<br />\n",
    "<a href=\"https://www.youtube.com/watch?v=R39tWYYKNcI&amp;list=PLkDaE6sCZn6Gl29AoE31iwdVwSG-KnDzF&amp;index=37\">C4W4L006 What is neural style transfer?</a><br />\n",
    "<a href=\"https://www.youtube.com/watch?v=ChoV5h7tw5A&amp;list=PLkDaE6sCZn6Gl29AoE31iwdVwSG-KnDzF&amp;index=38\">C4W4L07 What are deep CNs learning?</a><br />\n",
    "<a href=\"https://www.youtube.com/watch?v=xY-DMAJpIP4&amp;list=PLkDaE6sCZn6Gl29AoE31iwdVwSG-KnDzF&amp;index=39\">C4W4L08 Cost Function</a><br />\n",
    "<a href=\"https://www.youtube.com/watch?v=b1I5X3UfEYI&amp;list=PLkDaE6sCZn6Gl29AoE31iwdVwSG-KnDzF&amp;index=40\">C4W4L09 Content Cost Function</a><br />\n",
    "<a href=\"https://www.youtube.com/watch?v=QgkLfjfGul8&amp;list=PLkDaE6sCZn6Gl29AoE31iwdVwSG-KnDzF&amp;index=41\">C4W4L10 Style Cost Function</a><br />\n",
    "<a href=\"https://www.youtube.com/watch?v=Cn8AtS-9Nwc&amp;list=PLkDaE6sCZn6Gl29AoE31iwdVwSG-KnDzF&amp;index=42\">C4W4L11 1D and 3D Generalizations</a></div>\n"
   ]
  }
 ],
 "metadata": {
  "kernelspec": {
   "display_name": "Python 3",
   "language": "python",
   "name": "python3"
  },
  "language_info": {
   "codemirror_mode": {
    "name": "ipython",
    "version": 3
   },
   "file_extension": ".py",
   "mimetype": "text/x-python",
   "name": "python",
   "nbconvert_exporter": "python",
   "pygments_lexer": "ipython3",
   "version": "3.7.3"
  }
 },
 "nbformat": 4,
 "nbformat_minor": 2
}
