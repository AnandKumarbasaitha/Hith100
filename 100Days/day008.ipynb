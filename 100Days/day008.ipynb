{
 "cells": [
  {
   "cell_type": "markdown",
   "metadata": {},
   "source": [
    "<div dir=\"ltr\" style=\"text-align: left;\" trbidi=\"on\">\n",
    "<h2 style=\"text-align: left;\">\n",
    "100 Days Challenge - Day 8. </h2>\n",
    "<h3 style=\"text-align: left;\">\n",
    "Recommender Systems</h3>\n",
    "<h3 style=\"text-align: left;\">\n",
    "&nbsp;<div class=\"separator\" style=\"clear: both; text-align: center;\">\n",
    "<a href=\"https://1.bp.blogspot.com/-Jjyi99VPTVI/XfN0S0zIuAI/AAAAAAAATTM/54n23FbjjMwkhuY2OS0bQWwfC1QYHxV4gCLcBGAsYHQ/s1600/Screenshot%2Bfrom%2B2019-12-13%2B16-51-21.png\" imageanchor=\"1\" style=\"margin-left: 1em; margin-right: 1em;\"><img border=\"0\" data-original-height=\"580\" data-original-width=\"644\" height=\"288\" src=\"https://1.bp.blogspot.com/-Jjyi99VPTVI/XfN0S0zIuAI/AAAAAAAATTM/54n23FbjjMwkhuY2OS0bQWwfC1QYHxV4gCLcBGAsYHQ/s320/Screenshot%2Bfrom%2B2019-12-13%2B16-51-21.png\" width=\"320\" /></a></div>\n",
    "</h3>\n",
    "<br />\n",
    "Revised Recommender Systems from Week 9 of Andrew \n",
    "Ng's Machine Learning course on Coursera which I had already completed a\n",
    " few months ago.<br />\n",
    "<!--more--><br />\n",
    "Topics covered include:<br />\n",
    "<br />\n",
    "Recommender Systems<br />\n",
    "<ul style=\"text-align: left;\">\n",
    "<li>Predicting Movie Ratings Problem Formulation </li>\n",
    "<li>Content based Recommendations</li>\n",
    "<li>Collaborative Filtering Algorithm</li>\n",
    "</ul>\n",
    "</div>\n"
   ]
  }
 ],
 "metadata": {
  "kernelspec": {
   "display_name": "Python 3",
   "language": "python",
   "name": "python3"
  },
  "language_info": {
   "codemirror_mode": {
    "name": "ipython",
    "version": 3
   },
   "file_extension": ".py",
   "mimetype": "text/x-python",
   "name": "python",
   "nbconvert_exporter": "python",
   "pygments_lexer": "ipython3",
   "version": "3.7.6"
  }
 },
 "nbformat": 4,
 "nbformat_minor": 4
}
