{
 "cells": [
  {
   "cell_type": "markdown",
   "metadata": {},
   "source": [
    "<div dir=\"ltr\" style=\"text-align: left;\" trbidi=\"on\">\n",
    "<h2 style=\"text-align: left;\">\n",
    "100 Days of ML Day 82</h2>\n",
    "<h3 style=\"text-align: left;\">\n",
    "Sentiment Analysis</h3>\n",
    "Section 7 of Dan Jurafsky's NLP Course on Youtube<br />\n",
    "<br />\n",
    "Videos:<br />\n",
    "<a href=\"https://www.youtube.com/watch?v=vy0HC5H-484&amp;list=PLQiyVNMpDLKnZYBTUOlSI9mi9wAErFtFm&amp;index=34&amp;t=0s\">7 1 What is Sentiment Analysis</a><br />\n",
    "<a href=\"https://www.youtube.com/watch?v=Dgqt62RQMaY&amp;list=PLQiyVNMpDLKnZYBTUOlSI9mi9wAErFtFm&amp;index=34\">7 2 Sentiment Analysis A baseline algorithm</a><br />\n",
    "<a href=\"https://www.youtube.com/watch?v=wBE0FE_2ddE&amp;list=PLQiyVNMpDLKnZYBTUOlSI9mi9wAErFtFm&amp;index=35\">7 3 Sentiment Lexicons</a><br />\n",
    "<a href=\"https://www.youtube.com/watch?v=Z7RxBcpyN1U&amp;list=PLQiyVNMpDLKnZYBTUOlSI9mi9wAErFtFm&amp;index=36\">7 4 Learning Sentiment Lexicons</a><br />\n",
    "<a href=\"https://www.youtube.com/watch?v=3Eo--0_ocIk&amp;list=PLQiyVNMpDLKnZYBTUOlSI9mi9wAErFtFm&amp;index=37\">7 5 Other Sentiment Tasks</a></div>\n"
   ]
  }
 ],
 "metadata": {
  "kernelspec": {
   "display_name": "Python 3",
   "language": "python",
   "name": "python3"
  },
  "language_info": {
   "codemirror_mode": {
    "name": "ipython",
    "version": 3
   },
   "file_extension": ".py",
   "mimetype": "text/x-python",
   "name": "python",
   "nbconvert_exporter": "python",
   "pygments_lexer": "ipython3",
   "version": "3.7.3"
  }
 },
 "nbformat": 4,
 "nbformat_minor": 2
}
