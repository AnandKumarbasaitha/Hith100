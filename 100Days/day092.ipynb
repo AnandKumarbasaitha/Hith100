{
 "cells": [
  {
   "cell_type": "markdown",
   "metadata": {},
   "source": [
    "<div dir=\"ltr\" style=\"text-align: left;\" trbidi=\"on\">\n",
    "<h2 style=\"text-align: left;\">\n",
    "100 Days of ML Day 92</h2>\n",
    "<h2 style=\"text-align: left;\">\n",
    "Parsing</h2>\n",
    "Section 13 of Dan Jurafsky's NLP Course on Youtube<br />\n",
    "<br />\n",
    "Videos:<br />\n",
    "<a href=\"https://www.youtube.com/watch?v=XCm4js8wp4A&amp;list=PLQiyVNMpDLKnZYBTUOlSI9mi9wAErFtFm&amp;index=59&amp;t=0s\">13 1 Syntactic Structure Constituency vs Dependency</a><br />\n",
    "<a href=\"https://www.youtube.com/watch?v=xLa2A4pBF6I&amp;list=PLQiyVNMpDLKnZYBTUOlSI9mi9wAErFtFm&amp;index=60&amp;t=0s\">13 2 Empirical Data Driven Approach to Parsing</a><br />\n",
    "<a href=\"https://www.youtube.com/watch?v=zJ_wC4EW_ak&amp;list=PLQiyVNMpDLKnZYBTUOlSI9mi9wAErFtFm&amp;index=61&amp;t=0s\">13 3 The Exponential Problem in Parsing</a></div>\n"
   ]
  }
 ],
 "metadata": {
  "kernelspec": {
   "display_name": "Python 3",
   "language": "python",
   "name": "python3"
  },
  "language_info": {
   "codemirror_mode": {
    "name": "ipython",
    "version": 3
   },
   "file_extension": ".py",
   "mimetype": "text/x-python",
   "name": "python",
   "nbconvert_exporter": "python",
   "pygments_lexer": "ipython3",
   "version": "3.7.3"
  }
 },
 "nbformat": 4,
 "nbformat_minor": 2
}
