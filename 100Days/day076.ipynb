{
 "cells": [
  {
   "cell_type": "markdown",
   "metadata": {},
   "source": [
    "<div dir=\"ltr\" style=\"text-align: left;\" trbidi=\"on\">\n",
    "<h2 style=\"text-align: left;\">\n",
    "100 Days of ML Day 76</h2>\n",
    "<h3 style=\"text-align: left;\">\n",
    "Language Modeling</h3>\n",
    "Section 4 of Dan Jurafsky's NLP Course on Youtube<br />\n",
    "<br />\n",
    "Videos:<br />\n",
    "<a href=\"https://www.youtube.com/watch?v=Saq1QagC8KY&amp;list=PLQiyVNMpDLKnZYBTUOlSI9mi9wAErFtFm&amp;index=13&amp;t=0s\">4 1 Introduction to N grams</a><br />\n",
    "<a href=\"https://www.youtube.com/watch?v=paCMAZ-lKq8&amp;list=PLQiyVNMpDLKnZYBTUOlSI9mi9wAErFtFm&amp;index=13\">4 2 Estimating N gram Probabilities</a><br />\n",
    "<a href=\"https://www.youtube.com/watch?v=b6nwdc_fGfA&amp;list=PLQiyVNMpDLKnZYBTUOlSI9mi9wAErFtFm&amp;index=14\">4 3 Evaluation and Perplexity</a><br />\n",
    "<a href=\"https://www.youtube.com/watch?v=6NeUDr7YDiw&amp;list=PLQiyVNMpDLKnZYBTUOlSI9mi9wAErFtFm&amp;index=15\">4 4 Generalization and Zeros</a><br />\n",
    "<a href=\"https://www.youtube.com/watch?v=ZbHFLgBWgdQ&amp;list=PLQiyVNMpDLKnZYBTUOlSI9mi9wAErFtFm&amp;index=16\">4 5 Smoothing Add One</a></div>"
   ]
  }
 ],
 "metadata": {
  "kernelspec": {
   "display_name": "Python 3",
   "language": "python",
   "name": "python3"
  },
  "language_info": {
   "codemirror_mode": {
    "name": "ipython",
    "version": 3
   },
   "file_extension": ".py",
   "mimetype": "text/x-python",
   "name": "python",
   "nbconvert_exporter": "python",
   "pygments_lexer": "ipython3",
   "version": "3.7.3"
  }
 },
 "nbformat": 4,
 "nbformat_minor": 2
}
