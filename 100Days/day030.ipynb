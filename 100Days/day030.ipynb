{
 "cells": [
  {
   "cell_type": "markdown",
   "metadata": {},
   "source": [
    "<div dir=\"ltr\" style=\"text-align: left;\" trbidi=\"on\">\n",
    "<h2 style=\"text-align: left;\">\n",
    "100 Days Challenge Day 30</h2>\n",
    "<h3 style=\"text-align: left;\">\n",
    "Mini Batch Gradient Descent, Exponentially Weighted Averages</h3>\n",
    "Watched videos from Week 2 of Hyperparameters, Regularization and Optimization Course on Youtube.<br />\n",
    "<br />\n",
    "<a href=\"https://www.youtube.com/watch?v=4qJaSmvhxi8&amp;list=PLkDaE6sCZn6Hn0vK8co82zjQtt3T2Nkqc&amp;index=15\">Mini Batch Gradient Descent (C2W2L01)</a><br />\n",
    "<a href=\"https://www.youtube.com/watch?v=-_4Zi8fCZO4&amp;list=PLkDaE6sCZn6Hn0vK8co82zjQtt3T2Nkqc&amp;index=16\">Understanding Mini-Batch Gradient Descent (C2W2L02)</a><br />\n",
    "<a href=\"https://www.youtube.com/watch?v=lAq96T8FkTw&amp;list=PLkDaE6sCZn6Hn0vK8co82zjQtt3T2Nkqc&amp;index=17\">Exponentially Weighted Averages (C2W2L03)</a><br />\n",
    "<a href=\"https://www.youtube.com/watch?v=NxTFlzBjS-4&amp;list=PLkDaE6sCZn6Hn0vK8co82zjQtt3T2Nkqc&amp;index=18\">Understanding Exponentially Weighted Averages (C2W2L04)</a><br />\n",
    "<a href=\"https://www.youtube.com/watch?v=lWzo8CajF5s&amp;list=PLkDaE6sCZn6Hn0vK8co82zjQtt3T2Nkqc&amp;index=19\">Bias Correction of Exponentially Weighted Averages (C2W2L05)</a><br />\n",
    "<a href=\"https://www.youtube.com/watch?v=k8fTYJPd3_I&amp;list=PLkDaE6sCZn6Hn0vK8co82zjQtt3T2Nkqc&amp;index=20\">Gradient Descent With Momentum (C2W2L06)</a><br />\n",
    "<a href=\"https://www.youtube.com/watch?v=_e-LFe_igno&amp;list=PLkDaE6sCZn6Hn0vK8co82zjQtt3T2Nkqc&amp;index=21\">RMSProp (C2W2L07)</a><br />\n",
    "<a href=\"https://www.youtube.com/watch?v=JXQT_vxqwIs&amp;list=PLkDaE6sCZn6Hn0vK8co82zjQtt3T2Nkqc&amp;index=22\">Adam Optimization Algorithm (C2W2L08)</a><br />\n",
    "<a href=\"https://www.youtube.com/watch?v=QzulmoOg2JE&amp;list=PLkDaE6sCZn6Hn0vK8co82zjQtt3T2Nkqc&amp;index=23\">Learning Rate Decay (C2W2L09)</a></div>\n"
   ]
  }
 ],
 "metadata": {
  "kernelspec": {
   "display_name": "Python 3",
   "language": "python",
   "name": "python3"
  },
  "language_info": {
   "codemirror_mode": {
    "name": "ipython",
    "version": 3
   },
   "file_extension": ".py",
   "mimetype": "text/x-python",
   "name": "python",
   "nbconvert_exporter": "python",
   "pygments_lexer": "ipython3",
   "version": "3.7.6"
  }
 },
 "nbformat": 4,
 "nbformat_minor": 4
}
