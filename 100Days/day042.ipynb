{
 "cells": [
  {
   "cell_type": "markdown",
   "metadata": {},
   "source": [
    "<div dir=\"ltr\" style=\"text-align: left;\" trbidi=\"on\">\n",
    "<h2 style=\"text-align: left;\">\n",
    "100 Days of ML Day 42</h2>\n",
    "<h3 style=\"text-align: left;\">\n",
    "Transfer Learning, Multitask Learning and End to End Learning </h3>\n",
    "Watched remaining videos from Week 2 of Structuring Machine Learning Projects Course on Youtube.<br />\n",
    "<br />\n",
    "Videos:<br />\n",
    "<a href=\"https://www.youtube.com/watch?v=yofjFQddwHE&amp;list=PLkDaE6sCZn6E7jZ9sN_xHwSHOdjUxUW_b&amp;index=19\">Transfer Learning (C3W2L07)</a><br />\n",
    "<a href=\"https://www.youtube.com/watch?v=UdXfsAr4Gjw&amp;list=PLkDaE6sCZn6E7jZ9sN_xHwSHOdjUxUW_b&amp;index=20\">Multitask Learning (C3W2L08)</a><br />\n",
    "<a href=\"https://www.youtube.com/watch?v=ImUoubi_t7s&amp;list=PLkDaE6sCZn6E7jZ9sN_xHwSHOdjUxUW_b&amp;index=21\">What is end-to-end deep learning? (C3W2L09)</a><br />\n",
    "<a href=\"https://www.youtube.com/watch?v=l_-CUyEx_x4&amp;list=PLkDaE6sCZn6E7jZ9sN_xHwSHOdjUxUW_b&amp;index=22\">Whether to Use End-To-End Deep Learning (C3W2L10)</a></div>\n"
   ]
  }
 ],
 "metadata": {
  "kernelspec": {
   "display_name": "Python 3",
   "language": "python",
   "name": "python3"
  },
  "language_info": {
   "codemirror_mode": {
    "name": "ipython",
    "version": 3
   },
   "file_extension": ".py",
   "mimetype": "text/x-python",
   "name": "python",
   "nbconvert_exporter": "python",
   "pygments_lexer": "ipython3",
   "version": "3.7.3"
  }
 },
 "nbformat": 4,
 "nbformat_minor": 2
}
