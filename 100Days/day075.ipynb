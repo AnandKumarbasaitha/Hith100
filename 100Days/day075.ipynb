{
 "cells": [
  {
   "cell_type": "markdown",
   "metadata": {},
   "source": [
    "<div dir=\"ltr\" style=\"text-align: left;\" trbidi=\"on\">\n",
    "<h2 style=\"text-align: left;\">\n",
    "100 Days of ML Day 75</h2>\n",
    "<h3 style=\"text-align: left;\">\n",
    "Minimum Edit Distance</h3>\n",
    "Section 3 of&nbsp; Dan Jurafsky's NLP Course on Youtube<br />\n",
    "<br />\n",
    "Videos:<br />\n",
    "<a href=\"https://www.youtube.com/watch?v=-XRJL2R0SCg&amp;list=PLQiyVNMpDLKnZYBTUOlSI9mi9wAErFtFm&amp;index=7\">3 1 Defining Minimum Edit Distance</a><br />\n",
    "<a href=\"https://www.youtube.com/watch?v=fN3Js7H72HE&amp;list=PLQiyVNMpDLKnZYBTUOlSI9mi9wAErFtFm&amp;index=8\">3 2 Computing Minimum Edit Distance</a><br />\n",
    "<a href=\"https://www.youtube.com/watch?v=MnE10oJ2jX4&amp;list=PLQiyVNMpDLKnZYBTUOlSI9mi9wAErFtFm&amp;index=9\">3 3 Backtrace for Computing Alignments</a><br />\n",
    "<a href=\"https://www.youtube.com/watch?v=9G-EwniAaPA&amp;list=PLQiyVNMpDLKnZYBTUOlSI9mi9wAErFtFm&amp;index=10\">3 4 Weighted Minimum Edit Distance</a><br />\n",
    "<a href=\"https://www.youtube.com/watch?v=96pL6xTP3W8&amp;list=PLQiyVNMpDLKnZYBTUOlSI9mi9wAErFtFm&amp;index=11\">3 5 Minimum Edit Distance in Computational Biology</a></div>\n"
   ]
  }
 ],
 "metadata": {
  "kernelspec": {
   "display_name": "Python 3",
   "language": "python",
   "name": "python3"
  },
  "language_info": {
   "codemirror_mode": {
    "name": "ipython",
    "version": 3
   },
   "file_extension": ".py",
   "mimetype": "text/x-python",
   "name": "python",
   "nbconvert_exporter": "python",
   "pygments_lexer": "ipython3",
   "version": "3.7.3"
  }
 },
 "nbformat": 4,
 "nbformat_minor": 2
}
