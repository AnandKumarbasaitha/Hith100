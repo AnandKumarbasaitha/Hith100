{
 "cells": [
  {
   "cell_type": "markdown",
   "metadata": {},
   "source": [
    "<div dir=\"ltr\" style=\"text-align: left;\" trbidi=\"on\">\n",
    "<h2 style=\"text-align: left;\">\n",
    "100 Days Challenge - Day 2. </h2>\n",
    "<h3 style=\"text-align: left;\">\n",
    "Backpropagation, Algorithm Evaluation</h3>\n",
    "Revised Week 5 and Week 6 of Andrew Ng's Machine Learning course on Coursera which I had already completed a few months ago.<br />\n",
    "<!--more--><br />\n",
    "Topics covered include:<br />\n",
    "<br />\n",
    "Backpropagation<br />\n",
    "<ul style=\"text-align: left;\">\n",
    "<li>Cost Function</li>\n",
    "<li>Algorithm </li>\n",
    "</ul>\n",
    "Algorithm Evaluation<br />\n",
    "<ul style=\"text-align: left;\">\n",
    "<li>Model Selection </li>\n",
    "<li>Train/Test/Cross Validation Sets</li>\n",
    "<li>Bias and Variance</li>\n",
    "<li>Regularization and its Effects on Bias and Variance</li>\n",
    "<li>Learning Curves plotted against number of training examples, regularization parameter.</li>\n",
    "</ul>\n",
    "ML System Design <br />\n",
    "<ul style=\"text-align: left;\">\n",
    "<li>What to Prioritize (Spam Classifier example)</li>\n",
    "<li>Error Analysis&nbsp;</li>\n",
    "<li>Skewed Classes, Precision and Recall</li>\n",
    "</ul>\n",
    "</div>\n"
   ]
  }
 ],
 "metadata": {
  "kernelspec": {
   "display_name": "Python 3",
   "language": "python",
   "name": "python3"
  },
  "language_info": {
   "codemirror_mode": {
    "name": "ipython",
    "version": 3
   },
   "file_extension": ".py",
   "mimetype": "text/x-python",
   "name": "python",
   "nbconvert_exporter": "python",
   "pygments_lexer": "ipython3",
   "version": "3.7.6"
  }
 },
 "nbformat": 4,
 "nbformat_minor": 4
}
