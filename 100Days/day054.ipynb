{
 "cells": [
  {
   "cell_type": "markdown",
   "metadata": {},
   "source": [
    "<div dir=\"ltr\" style=\"text-align: left;\" trbidi=\"on\">\n",
    "<h2 style=\"text-align: left;\">\n",
    "100 Days of ML Day 54</h2>\n",
    "<h3 style=\"text-align: left;\">\n",
    "Convolutions and Edge Detection</h3>\n",
    "Watched lectures from Week 1 of Convolutional Neural Networks Course on Youtube.<br />\n",
    "<br />\n",
    "Videos:<br />\n",
    "<a href=\"https://www.youtube.com/watch?v=ArPaAX_PhIs&amp;list=PLkDaE6sCZn6Gl29AoE31iwdVwSG-KnDzF&amp;index=1\">C4W1L01 Computer Vision</a><br />\n",
    "<a href=\"https://www.youtube.com/watch?v=XuD4C8vJzEQ&amp;list=PLkDaE6sCZn6Gl29AoE31iwdVwSG-KnDzF&amp;index=2\">C4W1L02 Edge Detection Examples</a><br />\n",
    "<a href=\"https://www.youtube.com/watch?v=am36dePheDc&amp;list=PLkDaE6sCZn6Gl29AoE31iwdVwSG-KnDzF&amp;index=3\">C4W1L03 More Edge Detection</a><br />\n",
    "<a href=\"https://www.youtube.com/watch?v=smHa2442Ah4&amp;list=PLkDaE6sCZn6Gl29AoE31iwdVwSG-KnDzF&amp;index=4\">C4W1L04 Padding</a><br />\n",
    "<a href=\"https://www.youtube.com/watch?v=tQYZaDn_kSg&amp;list=PLkDaE6sCZn6Gl29AoE31iwdVwSG-KnDzF&amp;index=5\">C4W1L05 Strided Convolutions</a></div>"
   ]
  }
 ],
 "metadata": {
  "kernelspec": {
   "display_name": "Python 3",
   "language": "python",
   "name": "python3"
  },
  "language_info": {
   "codemirror_mode": {
    "name": "ipython",
    "version": 3
   },
   "file_extension": ".py",
   "mimetype": "text/x-python",
   "name": "python",
   "nbconvert_exporter": "python",
   "pygments_lexer": "ipython3",
   "version": "3.7.3"
  }
 },
 "nbformat": 4,
 "nbformat_minor": 2
}
