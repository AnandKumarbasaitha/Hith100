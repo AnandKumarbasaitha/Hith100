{
 "cells": [
  {
   "cell_type": "markdown",
   "metadata": {},
   "source": [
    "<div dir=\"ltr\" style=\"text-align: left;\" trbidi=\"on\">\n",
    "<h2 style=\"text-align: left;\">\n",
    "100 Days of ML Day 60</h2>\n",
    "<h3 style=\"text-align: left;\">\n",
    "Face Recognition</h3>\n",
    "Watched lectures from Week 4 of Convolutional Neural Networks Course on Youtube.<br />\n",
    "<br />\n",
    "Videos:<br />\n",
    "<a href=\"https://www.youtube.com/watch?v=-FfMVnwXrZ0&amp;list=PLkDaE6sCZn6Gl29AoE31iwdVwSG-KnDzF&amp;index=33&amp;t=0s\">C4W4L01 What is face recognition</a><br />\n",
    "<a href=\"https://www.youtube.com/watch?v=96b_weTZb2w&amp;list=PLkDaE6sCZn6Gl29AoE31iwdVwSG-KnDzF&amp;index=33\">C4W4L02 One Shot Learning</a><br />\n",
    "<a href=\"https://www.youtube.com/watch?v=6jfw8MuKwpI&amp;list=PLkDaE6sCZn6Gl29AoE31iwdVwSG-KnDzF&amp;index=34\">C4W4L03 Siamese Network</a><br />\n",
    "<a href=\"https://www.youtube.com/watch?v=d2XB5-tuCWU&amp;list=PLkDaE6sCZn6Gl29AoE31iwdVwSG-KnDzF&amp;index=35\">C4W4L04 Triplet loss</a><br />\n",
    "<a href=\"https://www.youtube.com/watch?v=0NSLgoEtdnw&amp;list=PLkDaE6sCZn6Gl29AoE31iwdVwSG-KnDzF&amp;index=36\">C4W4L05 Face Verification</a></div>\n"
   ]
  }
 ],
 "metadata": {
  "kernelspec": {
   "display_name": "Python 3",
   "language": "python",
   "name": "python3"
  },
  "language_info": {
   "codemirror_mode": {
    "name": "ipython",
    "version": 3
   },
   "file_extension": ".py",
   "mimetype": "text/x-python",
   "name": "python",
   "nbconvert_exporter": "python",
   "pygments_lexer": "ipython3",
   "version": "3.7.3"
  }
 },
 "nbformat": 4,
 "nbformat_minor": 2
}
