{
 "cells": [
  {
   "cell_type": "code",
   "execution_count": 1,
   "metadata": {},
   "outputs": [],
   "source": [
    "import numpy as np\n",
    "import pandas as pd\n",
    "import math\n",
    "from sklearn.metrics import mean_squared_error"
   ]
  },
  {
   "cell_type": "code",
   "execution_count": 2,
   "metadata": {},
   "outputs": [
    {
     "name": "stdout",
     "output_type": "stream",
     "text": [
      "(284807, 31)\n"
     ]
    },
    {
     "data": {
      "text/html": [
       "<div>\n",
       "<style scoped>\n",
       "    .dataframe tbody tr th:only-of-type {\n",
       "        vertical-align: middle;\n",
       "    }\n",
       "\n",
       "    .dataframe tbody tr th {\n",
       "        vertical-align: top;\n",
       "    }\n",
       "\n",
       "    .dataframe thead th {\n",
       "        text-align: right;\n",
       "    }\n",
       "</style>\n",
       "<table border=\"1\" class=\"dataframe\">\n",
       "  <thead>\n",
       "    <tr style=\"text-align: right;\">\n",
       "      <th></th>\n",
       "      <th>Time</th>\n",
       "      <th>V1</th>\n",
       "      <th>V2</th>\n",
       "      <th>V3</th>\n",
       "      <th>V4</th>\n",
       "      <th>V5</th>\n",
       "      <th>V6</th>\n",
       "      <th>V7</th>\n",
       "      <th>V8</th>\n",
       "      <th>V9</th>\n",
       "      <th>...</th>\n",
       "      <th>V21</th>\n",
       "      <th>V22</th>\n",
       "      <th>V23</th>\n",
       "      <th>V24</th>\n",
       "      <th>V25</th>\n",
       "      <th>V26</th>\n",
       "      <th>V27</th>\n",
       "      <th>V28</th>\n",
       "      <th>Amount</th>\n",
       "      <th>Class</th>\n",
       "    </tr>\n",
       "  </thead>\n",
       "  <tbody>\n",
       "    <tr>\n",
       "      <th>0</th>\n",
       "      <td>0.0</td>\n",
       "      <td>-1.359807</td>\n",
       "      <td>-0.072781</td>\n",
       "      <td>2.536347</td>\n",
       "      <td>1.378155</td>\n",
       "      <td>-0.338321</td>\n",
       "      <td>0.462388</td>\n",
       "      <td>0.239599</td>\n",
       "      <td>0.098698</td>\n",
       "      <td>0.363787</td>\n",
       "      <td>...</td>\n",
       "      <td>-0.018307</td>\n",
       "      <td>0.277838</td>\n",
       "      <td>-0.110474</td>\n",
       "      <td>0.066928</td>\n",
       "      <td>0.128539</td>\n",
       "      <td>-0.189115</td>\n",
       "      <td>0.133558</td>\n",
       "      <td>-0.021053</td>\n",
       "      <td>149.62</td>\n",
       "      <td>0</td>\n",
       "    </tr>\n",
       "    <tr>\n",
       "      <th>1</th>\n",
       "      <td>0.0</td>\n",
       "      <td>1.191857</td>\n",
       "      <td>0.266151</td>\n",
       "      <td>0.166480</td>\n",
       "      <td>0.448154</td>\n",
       "      <td>0.060018</td>\n",
       "      <td>-0.082361</td>\n",
       "      <td>-0.078803</td>\n",
       "      <td>0.085102</td>\n",
       "      <td>-0.255425</td>\n",
       "      <td>...</td>\n",
       "      <td>-0.225775</td>\n",
       "      <td>-0.638672</td>\n",
       "      <td>0.101288</td>\n",
       "      <td>-0.339846</td>\n",
       "      <td>0.167170</td>\n",
       "      <td>0.125895</td>\n",
       "      <td>-0.008983</td>\n",
       "      <td>0.014724</td>\n",
       "      <td>2.69</td>\n",
       "      <td>0</td>\n",
       "    </tr>\n",
       "    <tr>\n",
       "      <th>2</th>\n",
       "      <td>1.0</td>\n",
       "      <td>-1.358354</td>\n",
       "      <td>-1.340163</td>\n",
       "      <td>1.773209</td>\n",
       "      <td>0.379780</td>\n",
       "      <td>-0.503198</td>\n",
       "      <td>1.800499</td>\n",
       "      <td>0.791461</td>\n",
       "      <td>0.247676</td>\n",
       "      <td>-1.514654</td>\n",
       "      <td>...</td>\n",
       "      <td>0.247998</td>\n",
       "      <td>0.771679</td>\n",
       "      <td>0.909412</td>\n",
       "      <td>-0.689281</td>\n",
       "      <td>-0.327642</td>\n",
       "      <td>-0.139097</td>\n",
       "      <td>-0.055353</td>\n",
       "      <td>-0.059752</td>\n",
       "      <td>378.66</td>\n",
       "      <td>0</td>\n",
       "    </tr>\n",
       "    <tr>\n",
       "      <th>3</th>\n",
       "      <td>1.0</td>\n",
       "      <td>-0.966272</td>\n",
       "      <td>-0.185226</td>\n",
       "      <td>1.792993</td>\n",
       "      <td>-0.863291</td>\n",
       "      <td>-0.010309</td>\n",
       "      <td>1.247203</td>\n",
       "      <td>0.237609</td>\n",
       "      <td>0.377436</td>\n",
       "      <td>-1.387024</td>\n",
       "      <td>...</td>\n",
       "      <td>-0.108300</td>\n",
       "      <td>0.005274</td>\n",
       "      <td>-0.190321</td>\n",
       "      <td>-1.175575</td>\n",
       "      <td>0.647376</td>\n",
       "      <td>-0.221929</td>\n",
       "      <td>0.062723</td>\n",
       "      <td>0.061458</td>\n",
       "      <td>123.50</td>\n",
       "      <td>0</td>\n",
       "    </tr>\n",
       "    <tr>\n",
       "      <th>4</th>\n",
       "      <td>2.0</td>\n",
       "      <td>-1.158233</td>\n",
       "      <td>0.877737</td>\n",
       "      <td>1.548718</td>\n",
       "      <td>0.403034</td>\n",
       "      <td>-0.407193</td>\n",
       "      <td>0.095921</td>\n",
       "      <td>0.592941</td>\n",
       "      <td>-0.270533</td>\n",
       "      <td>0.817739</td>\n",
       "      <td>...</td>\n",
       "      <td>-0.009431</td>\n",
       "      <td>0.798278</td>\n",
       "      <td>-0.137458</td>\n",
       "      <td>0.141267</td>\n",
       "      <td>-0.206010</td>\n",
       "      <td>0.502292</td>\n",
       "      <td>0.219422</td>\n",
       "      <td>0.215153</td>\n",
       "      <td>69.99</td>\n",
       "      <td>0</td>\n",
       "    </tr>\n",
       "  </tbody>\n",
       "</table>\n",
       "<p>5 rows × 31 columns</p>\n",
       "</div>"
      ],
      "text/plain": [
       "   Time        V1        V2        V3        V4        V5        V6        V7  \\\n",
       "0   0.0 -1.359807 -0.072781  2.536347  1.378155 -0.338321  0.462388  0.239599   \n",
       "1   0.0  1.191857  0.266151  0.166480  0.448154  0.060018 -0.082361 -0.078803   \n",
       "2   1.0 -1.358354 -1.340163  1.773209  0.379780 -0.503198  1.800499  0.791461   \n",
       "3   1.0 -0.966272 -0.185226  1.792993 -0.863291 -0.010309  1.247203  0.237609   \n",
       "4   2.0 -1.158233  0.877737  1.548718  0.403034 -0.407193  0.095921  0.592941   \n",
       "\n",
       "         V8        V9  ...       V21       V22       V23       V24       V25  \\\n",
       "0  0.098698  0.363787  ... -0.018307  0.277838 -0.110474  0.066928  0.128539   \n",
       "1  0.085102 -0.255425  ... -0.225775 -0.638672  0.101288 -0.339846  0.167170   \n",
       "2  0.247676 -1.514654  ...  0.247998  0.771679  0.909412 -0.689281 -0.327642   \n",
       "3  0.377436 -1.387024  ... -0.108300  0.005274 -0.190321 -1.175575  0.647376   \n",
       "4 -0.270533  0.817739  ... -0.009431  0.798278 -0.137458  0.141267 -0.206010   \n",
       "\n",
       "        V26       V27       V28  Amount  Class  \n",
       "0 -0.189115  0.133558 -0.021053  149.62      0  \n",
       "1  0.125895 -0.008983  0.014724    2.69      0  \n",
       "2 -0.139097 -0.055353 -0.059752  378.66      0  \n",
       "3 -0.221929  0.062723  0.061458  123.50      0  \n",
       "4  0.502292  0.219422  0.215153   69.99      0  \n",
       "\n",
       "[5 rows x 31 columns]"
      ]
     },
     "execution_count": 2,
     "metadata": {},
     "output_type": "execute_result"
    }
   ],
   "source": [
    "data=pd.read_csv(\"/home/hithesh/Downloads/creditcard.csv\")\n",
    "print(data.shape)\n",
    "data.head()"
   ]
  },
  {
   "cell_type": "code",
   "execution_count": 3,
   "metadata": {},
   "outputs": [
    {
     "name": "stdout",
     "output_type": "stream",
     "text": [
      "Time   -0.012323\n",
      "V1     -0.101347\n",
      "V2      0.091289\n",
      "V3     -0.192961\n",
      "V4      0.133447\n",
      "V5     -0.094974\n",
      "V6     -0.043643\n",
      "V7     -0.187257\n",
      "V8      0.019875\n",
      "V9     -0.097733\n",
      "V10    -0.216883\n",
      "V11     0.154876\n",
      "V12    -0.260593\n",
      "V13    -0.004570\n",
      "V14    -0.302544\n",
      "V15    -0.004223\n",
      "V16    -0.196539\n",
      "V17    -0.326481\n",
      "V18    -0.111485\n",
      "V19     0.034783\n",
      "V20     0.020090\n",
      "V21     0.040413\n",
      "V22     0.000805\n",
      "V23    -0.002685\n",
      "V24    -0.007221\n",
      "V25     0.003308\n",
      "V26     0.004455\n",
      "V27     0.017580\n",
      "V28     0.009536\n",
      "Name: Class, dtype: float64\n"
     ]
    }
   ],
   "source": [
    "import seaborn as sns\n",
    "corr = data.corr()\n",
    "ax = sns.heatmap(\n",
    "    corr, \n",
    "    vmin=-1, vmax=1, center=0,\n",
    "    cmap=sns.diverging_palette(20, 220, n=200),\n",
    "    square=True\n",
    ")\n",
    "ax.set_xticklabels(\n",
    "    ax.get_xticklabels(),\n",
    "    rotation=45,\n",
    "    horizontalalignment='right'\n",
    ");\n",
    "print(corr.iloc[30,:29]) #To find the features which are most correlated to Class column"
   ]
  },
  {
   "cell_type": "code",
   "execution_count": 4,
   "metadata": {
    "scrolled": false
   },
   "outputs": [],
   "source": [
    "features=['V3','V7','V10','V11','V12','V14','V16','V17','Class']\n",
    "# features=['V1','V2','V3','V4','V5','V7','V9','V10','V11','V12','V14','V16','V17','V18','Class']\n",
    "train_features=['V3','V7','V10','V11','V12','V14','V16','V17']\n",
    "# train_features=['V1','V2','V3','V4','V5','V7','V9','V10','V11','V12','V14','V16','V17','V18']"
   ]
  },
  {
   "cell_type": "code",
   "execution_count": 5,
   "metadata": {},
   "outputs": [],
   "source": [
    "ind1=[i for i in range(data.shape[0]) if data.loc[i,'Class']==1]\n",
    "ind0=[i for i in range(data.shape[0]) if data.loc[i,'Class']==0]\n",
    "data1=data.loc[ind1,features]\n",
    "data0=data.loc[ind0,features]"
   ]
  },
  {
   "cell_type": "code",
   "execution_count": 6,
   "metadata": {},
   "outputs": [
    {
     "name": "stdout",
     "output_type": "stream",
     "text": [
      "(57109, 9)\n"
     ]
    }
   ],
   "source": [
    "#Training,CV,Test Split \n",
    "n1=int(0.6*len(ind0))\n",
    "n2=int(0.2*len(ind0))\n",
    "n3=int(0.5*len(ind1))\n",
    "\n",
    "train_data = data0.loc[ind0[:n1],train_features]\n",
    "cv_data = pd.concat((data0.loc[ind0[n1:n1+n2],features],data1.loc[ind1[:n3],features]),axis=0)\n",
    "test_data = pd.concat((data0.loc[ind0[n1+n2:],features],data1.loc[ind1[n3:],features]),axis=0)\n",
    "print(cv_data.shape)"
   ]
  },
  {
   "cell_type": "code",
   "execution_count": 7,
   "metadata": {},
   "outputs": [
    {
     "name": "stdout",
     "output_type": "stream",
     "text": [
      "0.3989422804014327 0.3989422804014327\n"
     ]
    }
   ],
   "source": [
    "def prob(x,mu,ss):\n",
    "    return math.exp(-(x-mu)**2/(2*ss))/(math.sqrt(2*math.pi*ss))\n",
    "print(prob(0,0,1),1/(math.sqrt(2*math.pi)))"
   ]
  },
  {
   "cell_type": "code",
   "execution_count": 8,
   "metadata": {},
   "outputs": [],
   "source": [
    "#Training the model\n",
    "mu=[]\n",
    "ss=[]\n",
    "for i in range(train_data.shape[1]):\n",
    "    mu.append(sum(train_data.iloc[:,i])/train_data.shape[0])\n",
    "    diff=train_data.iloc[:,i]-mu[i]*pd.Series(np.ones(train_data.shape[0]))\n",
    "#     print(train_data.iloc[:,i],mu[i]*pd.Series(np.ones(train_data.shape[0])))\n",
    "    err=mean_squared_error(train_data.iloc[:,i],mu[i]*pd.Series(np.ones(train_data.shape[0])))\n",
    "    ss.append(err)"
   ]
  },
  {
   "cell_type": "code",
   "execution_count": 24,
   "metadata": {
    "scrolled": true
   },
   "outputs": [
    {
     "name": "stdout",
     "output_type": "stream",
     "text": [
      "0.0033970127300425503\n"
     ]
    }
   ],
   "source": [
    "#Cross Validation\n",
    "pred=np.ones(cv_data.shape[0])\n",
    "epsilon=10**-50\n",
    "for i in range(cv_data.shape[0]):\n",
    "    p=1\n",
    "    for j in range(cv_data.shape[1]-1):\n",
    "        p = p * prob(cv_data.iloc[i,j],mu[j],ss[j])\n",
    "    if(p<epsilon):\n",
    "        pred[i]=1\n",
    "    else:\n",
    "        pred[i]=0\n",
    "print(pred.mean())"
   ]
  },
  {
   "cell_type": "code",
   "execution_count": 25,
   "metadata": {
    "scrolled": true
   },
   "outputs": [
    {
     "name": "stdout",
     "output_type": "stream",
     "text": [
      "148 46\n",
      "98 56817\n",
      "0.7628865979381443 0.6016260162601627 0.6727272727272727\n"
     ]
    }
   ],
   "source": [
    "pred=pd.Series(pred)\n",
    "tp=0\n",
    "fp=0\n",
    "tn=0\n",
    "fn=0\n",
    "for i in range(cv_data.shape[0]):\n",
    "    if(pred[i]==cv_data.iloc[i,-1] and pred[i]==1):\n",
    "        tp=tp+1\n",
    "    elif(pred[i]==cv_data.iloc[i,-1] and pred[i]==0):\n",
    "        tn=tn+1\n",
    "    elif(pred[i]!=cv_data.iloc[i,-1] and pred[i]==1):\n",
    "        fp=fp+1\n",
    "    else:\n",
    "        fn=fn+1\n",
    "print(tp,fp)\n",
    "print(fn,tn)\n",
    "P=tp/(tp+fp)\n",
    "R=tp/(tp+fn) \n",
    "f1_score=2*P*R/(P+R)\n",
    "print(P,R,f1_score)"
   ]
  },
  {
   "cell_type": "code",
   "execution_count": 26,
   "metadata": {},
   "outputs": [],
   "source": [
    "#Test\n",
    "pred=np.ones(test_data.shape[0])\n",
    "epsilon=10**-50\n",
    "for i in range(test_data.shape[0]):\n",
    "    p=1\n",
    "    for j in range(test_data.shape[1]-1):\n",
    "        p = p * prob(test_data.iloc[i,j],mu[j],ss[j])\n",
    "    if(p<epsilon):\n",
    "        pred[i]=1\n",
    "    else:\n",
    "        pred[i]=0"
   ]
  },
  {
   "cell_type": "code",
   "execution_count": 52,
   "metadata": {
    "scrolled": false
   },
   "outputs": [
    {
     "name": "stdout",
     "output_type": "stream",
     "text": [
      "Total transactions: 57109\n",
      "124 fraud transactions flagged out of 246 fraud transactions made\n",
      "41 non-fraud transactions flagged fraud.\n",
      "Accuracy of prediction: 0.9971458088917684\n"
     ]
    }
   ],
   "source": [
    "right=0\n",
    "flagged=0\n",
    "wrong=0\n",
    "for i in range(test_data.shape[0]):\n",
    "    if(pred[i]==test_data.iloc[i,-1]):\n",
    "        right = right + 1\n",
    "    if(pred[i]==test_data.iloc[i,-1] and test_data.iloc[i,-1]==1):\n",
    "        flagged = flagged+1\n",
    "    if(pred[i]!=test_data.iloc[i,-1] and test_data.iloc[i,-1]==0):\n",
    "        wrong = wrong + 1\n",
    "accuracy = right/len(pred)\n",
    "\n",
    "print('Total transactions: ' + str(n2+n3))\n",
    "\n",
    "print(str(flagged)+' fraud transactions flagged out of ' + str(n3)+ ' fraud transactions made')\n",
    "\n",
    "print(str(wrong)+' non-fraud transactions flagged fraud.')\n",
    "\n",
    "print('Accuracy of prediction: '+str(accuracy))"
   ]
  },
  {
   "cell_type": "code",
   "execution_count": null,
   "metadata": {},
   "outputs": [],
   "source": []
  }
 ],
 "metadata": {
  "kernelspec": {
   "display_name": "Python 3",
   "language": "python",
   "name": "python3"
  },
  "language_info": {
   "codemirror_mode": {
    "name": "ipython",
    "version": 3
   },
   "file_extension": ".py",
   "mimetype": "text/x-python",
   "name": "python",
   "nbconvert_exporter": "python",
   "pygments_lexer": "ipython3",
   "version": "3.7.3"
  }
 },
 "nbformat": 4,
 "nbformat_minor": 2
}
