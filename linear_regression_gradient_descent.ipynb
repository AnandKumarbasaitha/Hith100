{
 "cells": [
  {
   "cell_type": "code",
   "execution_count": 1,
   "metadata": {},
   "outputs": [],
   "source": [
    "import math\n",
    "import numpy as np\n",
    "import pandas as pd\n",
   ]
  },
  {
   "cell_type": "code",
   "execution_count": 2,
   "metadata": {},
   "outputs": [],
   "source": [
    "m = 50000\n",
    "def linear_func(df):\n",
    "    noise = pd.Series(np.random.normal(0,1,(m)))\n",
    "    return df.iloc[:,0] + 2*df.iloc[:,1] + 3*df.iloc[:,2]+ noise\n",
    "\n",
    "X = np.random.uniform(0,100,(m,3))\n",
    "y = np.array(linear_func(pd.DataFrame(X))).reshape(m,1)"
   ]
  },
  {
   "cell_type": "code",
   "execution_count": 3,
   "metadata": {},
   "outputs": [
    {
     "name": "stdout",
     "output_type": "stream",
     "text": [
      "Iteration 1\n",
      "Weights: -0.08055057962315582 0.37221874186039283\n",
      "Bias: 0.4868198906659158\n",
      "Cost: 72657.52975086967 \n",
      "\n",
      "Iteration 2001\n",
      "Weights: 0.9921755621629443 2.0001256782145975\n",
      "Bias: 0.5151026527838792\n",
      "Cost: 0.9260742359972285 \n",
      "\n",
      "Iteration 4001\n",
      "Weights: 0.9965061147427174 2.0005393029610117\n",
      "Bias: 0.5122116050977358\n",
      "Cost: 0.37585597758577965 \n",
      "\n",
      "Iteration 6001\n",
      "Weights: 1.0015247352162557 1.9940811494179942\n",
      "Bias: 0.5108216878345225\n",
      "Cost: 0.38522259842345247 \n",
      "\n",
      "Iteration 8001\n",
      "Weights: 1.0075121362697068 1.994137262758637\n",
      "Bias: 0.508814950537092\n",
      "Cost: 0.11928315163745581 \n",
      "\n",
      "Iteration 10000\n",
      "Weights: 0.994868999968205 2.0048521865921622\n",
      "Bias: 0.5062638210301842\n",
      "Cost: 0.38595296263840984 \n",
      "\n"
     ]
    }
   ],
   "source": [
    "#Mini-Batch Gradient Descent\n",
    "w = np.random.uniform(-1,1,(3,1))\n",
    "b = np.random.uniform(-1,1,(1,1))\n",
    "\n",
    "epochs = 10000\n",
    "mm = int(m/epochs)\n",
    "for i in range(epochs):\n",
    "    l,h = mm*i,mm*(i+1)\n",
    "    z = np.dot(X[l:h,:],w) + b\n",
    "    cost = np.dot((y[l:h]-z).reshape(1,mm),y[l:h]-z)/len(y[l:h]-z)\n",
    "    \n",
    "    if(i%2000 == 0 or i==epochs-1):\n",
    "        print(\"Iteration\", i+1)\n",
    "        print(\"Weights:\",w[0,0],w[1,0])\n",
    "        print(\"Bias:\",b[0,0])\n",
    "        print('Cost: ' + str(cost[0,0]),\"\\n\")\n",
    "        \n",
    "    dw = -(1/mm)*np.dot(X[mm*i:mm*(i+1),:].reshape(3,mm),y[l:h]-z)\n",
    "    db = -(1/mm)*np.sum(y[l:h]-z,axis=0)\n",
    "\n",
    "    rate = 10e-5\n",
    "    w = w - rate * dw\n",
    "    b = b - rate * db"
   ]
  },
  {
   "cell_type": "code",
   "execution_count": 4,
   "metadata": {
    "scrolled": true
   },
   "outputs": [
    {
     "name": "stdout",
     "output_type": "stream",
     "text": [
      "Expected Result: 64 187\n",
      "Predicted Result: 64.29230726245221 187.67615693029234\n"
     ]
    }
   ],
   "source": [
    "a = np.array([[29,10,5],[8,82,5]])\n",
    "print(\"Expected Result:\",a[0,0]+2*a[0,1]+3*a[0,2], a[1,0]+2*a[1,1]+3*a[1,2])\n",
    "z = np.dot(a,w) + b\n",
    "print(\"Predicted Result:\",z[0,0],z[1,0])"
   ]
  }
 ],
 "metadata": {
  "kernelspec": {
   "display_name": "Python 3",
   "language": "python",
   "name": "python3"
  },
  "language_info": {
   "codemirror_mode": {
    "name": "ipython",
    "version": 3
   },
   "file_extension": ".py",
   "mimetype": "text/x-python",
   "name": "python",
   "nbconvert_exporter": "python",
   "pygments_lexer": "ipython3",
   "version": "3.7.3"
  }
 },
 "nbformat": 4,
 "nbformat_minor": 2
}
